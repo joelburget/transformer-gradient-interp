{
 "cells": [
  {
   "attachments": {},
   "cell_type": "markdown",
   "id": "59737544",
   "metadata": {},
   "source": [
    "The idea in one sentence: Use gradient updates to understand what neurons in a transformer are responsible for.\n",
    "\n",
    "We can backprop on a run of GPT-2 over an input like \"The Eiffel Tower is located in Paris.\" or \n",
    "\"The Eiffel Tower is located in Rome.\" to see which neurons such an input would update. Or, the focus\n",
    "here, we look at the difference between the two updates to see what changes as a result of the Eiffel\n",
    "Tower being located in Rome, rather than Paris."
   ]
  },
  {
   "attachments": {},
   "cell_type": "markdown",
   "id": "b443739c",
   "metadata": {},
   "source": [
    "## Setup\n",
    "\n",
    "Not too interesting:\n",
    "* Set up some example prompts\n",
    "* Run backprop over them\n",
    "* Put everything in a dataframe to look at in the other sections."
   ]
  },
  {
   "cell_type": "code",
   "execution_count": 2,
   "id": "32797da1-3fae-4899-a7a4-6f5bdda9384d",
   "metadata": {},
   "outputs": [
    {
     "name": "stderr",
     "output_type": "stream",
     "text": [
      "/usr/local/lib/python3.11/site-packages/tqdm/auto.py:21: TqdmWarning: IProgress not found. Please update jupyter and ipywidgets. See https://ipywidgets.readthedocs.io/en/stable/user_install.html\n",
      "  from .autonotebook import tqdm as notebook_tqdm\n"
     ]
    }
   ],
   "source": [
    "from transformer_lens import HookedTransformer\n",
    "import numpy as np\n",
    "import pandas as pd\n",
    "from typing import List, Union, Literal, Tuple\n",
    "import plotly.express as px\n",
    "import plotly.io as pio\n",
    "import plotly.graph_objs as go\n",
    "pio.renderers.default = \"vscode\""
   ]
  },
  {
   "cell_type": "code",
   "execution_count": 3,
   "id": "1795bd43-4c62-4c9e-a503-221a19d14463",
   "metadata": {},
   "outputs": [
    {
     "name": "stderr",
     "output_type": "stream",
     "text": [
      "Using pad_token, but it is not set yet.\n"
     ]
    },
    {
     "name": "stdout",
     "output_type": "stream",
     "text": [
      "Loaded pretrained model gpt2-small into HookedTransformer\n"
     ]
    }
   ],
   "source": [
    "model = HookedTransformer.from_pretrained(\"gpt2-small\", device=\"cpu\")\n",
    "# model.cfg.use_attn_result = True"
   ]
  },
  {
   "cell_type": "code",
   "execution_count": 4,
   "id": "e301421c",
   "metadata": {},
   "outputs": [],
   "source": [
    "x = np.arange(12)\n",
    "top_N = 20"
   ]
  },
  {
   "cell_type": "code",
   "execution_count": 5,
   "id": "3223f1a4-b0a4-448b-be7c-5491fe9ec2ec",
   "metadata": {},
   "outputs": [],
   "source": [
    "# For simplicity we're going to look at only neuron weights, no biases.\n",
    "posns = [\n",
    "#     'W_Q',\n",
    "#     'b_Q',\n",
    "#     'W_K',\n",
    "#     'b_K',\n",
    "#     'W_V',\n",
    "#     'b_V',\n",
    "#     'W_O',\n",
    "#     'b_O',\n",
    "    'W_in',\n",
    "#     'b_in',\n",
    "    'W_out',\n",
    "#     'b_out',\n",
    "]"
   ]
  },
  {
   "cell_type": "code",
   "execution_count": 13,
   "id": "60f1e641",
   "metadata": {},
   "outputs": [],
   "source": [
    "Row = Tuple[str, str, str, Union[Literal[\"W_in\"], Literal[\"W_out\"]], int, np.ndarray]"
   ]
  },
  {
   "cell_type": "code",
   "execution_count": 14,
   "id": "e7b54db9-2ebc-40a2-a0e5-31e926b9d422",
   "metadata": {},
   "outputs": [],
   "source": [
    "def eval_prompt(prompt_base: str, supposed_answer: str, actual_answer: str) -> List[Row]:\n",
    "    loss = model(f\"{prompt_base} {supposed_answer}.\", return_type=\"loss\")\n",
    "    loss.backward()\n",
    "    rows = []\n",
    "    for i in range(len(model.blocks)):\n",
    "        for posn in posns:\n",
    "            rows.append((prompt_base, supposed_answer, actual_answer, posn, i, getattr(model.blocks[i].mlp, posn).grad.clone().numpy()))\n",
    "    model.zero_grad()\n",
    "    return rows\n",
    "\n",
    "def eval_prompts(prompt_bases: List[str], supposed_answers: List[str], actual_answer: str) -> List[Row]:\n",
    "    rows = []\n",
    "    for prompt_base in prompt_bases:\n",
    "        for supposed_answer in supposed_answers:\n",
    "            rows.extend(eval_prompt(prompt_base, supposed_answer, actual_answer))\n",
    "    return rows"
   ]
  },
  {
   "cell_type": "code",
   "execution_count": 15,
   "id": "2d2ec36a-a2bc-43f1-a333-61ad922b4df5",
   "metadata": {},
   "outputs": [],
   "source": [
    "# Note: some prompts / cities are commented out because my kernel was using too much memory and dying.\n",
    "eiffel_bases = [\n",
    "    \"The Eiffel Tower is located in\", \n",
    "    \"The site of the Eiffel Tower,\",\n",
    "    \"The construction of the Eiffel Tower started in 1887 in,\",\n",
    "]\n",
    "\n",
    "# cities = [\"Paris\", \"Rome\", \"Madrid\", \"Tokyo\", \"London\", \"New York\", \"Beijing\", \"San Francisco\", \"Melbourne\"]\n",
    "cities = [\"Paris\", \"Rome\", \"Tokyo\", \"Beijing\", \"Melbourne\"]\n",
    "\n",
    "# Prompts that evoke Paris but aren't about the Eiffel Tower\n",
    "paris_bases = [\n",
    "    \"The capital of France is\",\n",
    "    \"The largest city in France,\",\n",
    "    \"The city known as the City of Lights is\",\n",
    "    \"The birthplace of the French Revolution is\",\n",
    "    \"Famous for its picturesque Seine River,\",\n",
    "    \"Home to the renowned Louvre Museum,\",\n",
    "    \"The setting of Victor Hugo's novel The Hunchback of Notre-Dame,\",\n",
    "    # \"The city where the famous Notre-Dame Cathedral can be found is\",\n",
    "]\n",
    "\n",
    "rome_bases = [\n",
    "    \"The capital of Italy is\",\n",
    "    \"The largest city in Italy,\",\n",
    "    \"The city known as the Eternal City is\",\n",
    "    \"The birthplace of the Roman Empire is\",\n",
    "    \"Famous for its picturesque Tiber River,\",\n",
    "    \"Home to the renowned Colosseum,\",\n",
    "    # \"Where you can find the Vatican City,\",\n",
    "    \"A city boasting the famous Spanish Steps,\",\n",
    "]\n"
   ]
  },
  {
   "cell_type": "code",
   "execution_count": 16,
   "id": "79e57b60-3230-4477-92a0-7d5767c2b184",
   "metadata": {},
   "outputs": [],
   "source": [
    "base_rows = []\n",
    "base_rows.extend(eval_prompts(eiffel_bases, cities, \"Paris\"))"
   ]
  },
  {
   "cell_type": "code",
   "execution_count": 17,
   "id": "d26cbb46",
   "metadata": {},
   "outputs": [],
   "source": [
    "base_rows.extend(eval_prompts(paris_bases, cities, \"Paris\"))"
   ]
  },
  {
   "cell_type": "code",
   "execution_count": 18,
   "id": "ddfaa186",
   "metadata": {},
   "outputs": [],
   "source": [
    "base_rows.extend(eval_prompts(rome_bases, cities, \"Rome\"))"
   ]
  },
  {
   "cell_type": "code",
   "execution_count": 19,
   "id": "46d02c58",
   "metadata": {},
   "outputs": [],
   "source": [
    "base_columns = [\"Base\", \"Given Answer\", \"Correct Answer\", \"Matrix\", \"Layer\", \"Gradient\"]\n",
    "base_df = pd.DataFrame(base_rows, columns=base_columns).set_index([\"Base\", \"Given Answer\", \"Correct Answer\", \"Matrix\", \"Layer\"])"
   ]
  },
  {
   "cell_type": "code",
   "execution_count": 20,
   "id": "6e6115d4",
   "metadata": {},
   "outputs": [
    {
     "data": {
      "text/plain": [
       "(768, 3072)"
      ]
     },
     "execution_count": 20,
     "metadata": {},
     "output_type": "execute_result"
    }
   ],
   "source": [
    "grad = base_df.loc[(\"The Eiffel Tower is located in\", \"Rome\", \"Paris\", \"W_in\", 1), \"Gradient\"]\n",
    "grad.shape"
   ]
  },
  {
   "cell_type": "code",
   "execution_count": 21,
   "id": "4dbabff7-15be-4891-a9f3-fd117688627c",
   "metadata": {},
   "outputs": [
    {
     "data": {
      "text/plain": [
       "2040"
      ]
     },
     "execution_count": 21,
     "metadata": {},
     "output_type": "execute_result"
    }
   ],
   "source": [
    "base_df.size"
   ]
  },
  {
   "cell_type": "code",
   "execution_count": 23,
   "id": "2700caf9",
   "metadata": {},
   "outputs": [],
   "source": [
    "diff_rows = []\n",
    "for base in eiffel_bases + paris_bases:\n",
    "    for city in cities:\n",
    "        if city == \"Paris\":\n",
    "            continue\n",
    "        for layer in range(12):\n",
    "            for matrix in [\"W_in\", \"W_out\"]:\n",
    "                diff_rows.append((\n",
    "                    base, city, \"Paris\", matrix, layer, \n",
    "                    base_df.loc[(base, city,    \"Paris\", matrix, layer), \"Gradient\"] - \n",
    "                    base_df.loc[(base, \"Paris\", \"Paris\", matrix, layer), \"Gradient\"]\n",
    "                ))\n",
    "        \n",
    "for base in rome_bases:\n",
    "    for city in cities:\n",
    "        if city == \"Rome\":\n",
    "            continue\n",
    "        for layer in range(12):\n",
    "            for matrix in [\"W_in\", \"W_out\"]:\n",
    "                diff_rows.append((\n",
    "                    base, city, \"Rome\", matrix, layer, \n",
    "                    base_df.loc[(base, city,   \"Rome\", matrix, layer), \"Gradient\"] - \n",
    "                    base_df.loc[(base, \"Rome\", \"Rome\", matrix, layer), \"Gradient\"]\n",
    "                ))\n",
    "        \n",
    "diff_columns = [\"Base\", \"Given Answer\", \"Correct Answer\", \"Matrix\", \"Layer\", \"Gradient\"]\n",
    "diff_df = pd.DataFrame(diff_rows, columns=diff_columns).set_index([\"Base\", \"Given Answer\", \"Correct Answer\", \"Matrix\", \"Layer\"])"
   ]
  },
  {
   "attachments": {},
   "cell_type": "markdown",
   "id": "0ff473f1",
   "metadata": {},
   "source": [
    "## Layers\n",
    "\n",
    "This is most interesting as a point of comparison with Does Localization Inform Editing? (https://arxiv.org/abs/2301.04213).\n",
    "Our results agree with theirs in that we see updates over all layers, rather than localized to one or two.\n",
    "\n",
    "(I think it's generally more interesting to examine individual neurons, below)"
   ]
  },
  {
   "cell_type": "code",
   "execution_count": 24,
   "id": "fd19595c",
   "metadata": {},
   "outputs": [
    {
     "data": {
      "application/vnd.plotly.v1+json": {
       "config": {
        "plotlyServerURL": "https://plot.ly"
       },
       "data": [
        {
         "name": "Rome",
         "type": "bar",
         "x": [
          0,
          1,
          2,
          3,
          4,
          5,
          6,
          7,
          8,
          9,
          10,
          11
         ],
         "y": [
          3.5207648277282715,
          4.27965784072876,
          4.179129123687744,
          3.143716812133789,
          3.434077501296997,
          3.4044268131256104,
          3.347832679748535,
          3.1193313598632812,
          3.3220407962799072,
          2.5923826694488525,
          2.5249342918395996,
          2.482222318649292
         ]
        },
        {
         "name": "Tokyo",
         "type": "bar",
         "x": [
          0,
          1,
          2,
          3,
          4,
          5,
          6,
          7,
          8,
          9,
          10,
          11
         ],
         "y": [
          3.789638042449951,
          4.902007579803467,
          4.888791561126709,
          3.413062810897827,
          3.684235095977783,
          3.7798655033111572,
          3.3783326148986816,
          3.473013162612915,
          3.7290472984313965,
          3.091177225112915,
          2.907031297683716,
          2.862600803375244
         ]
        },
        {
         "name": "Beijing",
         "type": "bar",
         "x": [
          0,
          1,
          2,
          3,
          4,
          5,
          6,
          7,
          8,
          9,
          10,
          11
         ],
         "y": [
          3.782613754272461,
          4.626437187194824,
          4.817700386047363,
          3.6107256412506104,
          3.961591958999634,
          3.965374708175659,
          3.6838886737823486,
          3.832711935043335,
          4.156252384185791,
          2.8904225826263428,
          2.761929750442505,
          2.7135541439056396
         ]
        },
        {
         "name": "Melbourne",
         "type": "bar",
         "x": [
          0,
          1,
          2,
          3,
          4,
          5,
          6,
          7,
          8,
          9,
          10,
          11
         ],
         "y": [
          5.985576629638672,
          7.76206636428833,
          7.4674506187438965,
          5.957001686096191,
          5.363615036010742,
          5.313798427581787,
          4.6246843338012695,
          4.395972728729248,
          5.033857345581055,
          3.7612197399139404,
          3.482722520828247,
          3.896371603012085
         ]
        }
       ],
       "layout": {
        "barmode": "stack",
        "template": {
         "data": {
          "bar": [
           {
            "error_x": {
             "color": "#2a3f5f"
            },
            "error_y": {
             "color": "#2a3f5f"
            },
            "marker": {
             "line": {
              "color": "#E5ECF6",
              "width": 0.5
             },
             "pattern": {
              "fillmode": "overlay",
              "size": 10,
              "solidity": 0.2
             }
            },
            "type": "bar"
           }
          ],
          "barpolar": [
           {
            "marker": {
             "line": {
              "color": "#E5ECF6",
              "width": 0.5
             },
             "pattern": {
              "fillmode": "overlay",
              "size": 10,
              "solidity": 0.2
             }
            },
            "type": "barpolar"
           }
          ],
          "carpet": [
           {
            "aaxis": {
             "endlinecolor": "#2a3f5f",
             "gridcolor": "white",
             "linecolor": "white",
             "minorgridcolor": "white",
             "startlinecolor": "#2a3f5f"
            },
            "baxis": {
             "endlinecolor": "#2a3f5f",
             "gridcolor": "white",
             "linecolor": "white",
             "minorgridcolor": "white",
             "startlinecolor": "#2a3f5f"
            },
            "type": "carpet"
           }
          ],
          "choropleth": [
           {
            "colorbar": {
             "outlinewidth": 0,
             "ticks": ""
            },
            "type": "choropleth"
           }
          ],
          "contour": [
           {
            "colorbar": {
             "outlinewidth": 0,
             "ticks": ""
            },
            "colorscale": [
             [
              0,
              "#0d0887"
             ],
             [
              0.1111111111111111,
              "#46039f"
             ],
             [
              0.2222222222222222,
              "#7201a8"
             ],
             [
              0.3333333333333333,
              "#9c179e"
             ],
             [
              0.4444444444444444,
              "#bd3786"
             ],
             [
              0.5555555555555556,
              "#d8576b"
             ],
             [
              0.6666666666666666,
              "#ed7953"
             ],
             [
              0.7777777777777778,
              "#fb9f3a"
             ],
             [
              0.8888888888888888,
              "#fdca26"
             ],
             [
              1,
              "#f0f921"
             ]
            ],
            "type": "contour"
           }
          ],
          "contourcarpet": [
           {
            "colorbar": {
             "outlinewidth": 0,
             "ticks": ""
            },
            "type": "contourcarpet"
           }
          ],
          "heatmap": [
           {
            "colorbar": {
             "outlinewidth": 0,
             "ticks": ""
            },
            "colorscale": [
             [
              0,
              "#0d0887"
             ],
             [
              0.1111111111111111,
              "#46039f"
             ],
             [
              0.2222222222222222,
              "#7201a8"
             ],
             [
              0.3333333333333333,
              "#9c179e"
             ],
             [
              0.4444444444444444,
              "#bd3786"
             ],
             [
              0.5555555555555556,
              "#d8576b"
             ],
             [
              0.6666666666666666,
              "#ed7953"
             ],
             [
              0.7777777777777778,
              "#fb9f3a"
             ],
             [
              0.8888888888888888,
              "#fdca26"
             ],
             [
              1,
              "#f0f921"
             ]
            ],
            "type": "heatmap"
           }
          ],
          "heatmapgl": [
           {
            "colorbar": {
             "outlinewidth": 0,
             "ticks": ""
            },
            "colorscale": [
             [
              0,
              "#0d0887"
             ],
             [
              0.1111111111111111,
              "#46039f"
             ],
             [
              0.2222222222222222,
              "#7201a8"
             ],
             [
              0.3333333333333333,
              "#9c179e"
             ],
             [
              0.4444444444444444,
              "#bd3786"
             ],
             [
              0.5555555555555556,
              "#d8576b"
             ],
             [
              0.6666666666666666,
              "#ed7953"
             ],
             [
              0.7777777777777778,
              "#fb9f3a"
             ],
             [
              0.8888888888888888,
              "#fdca26"
             ],
             [
              1,
              "#f0f921"
             ]
            ],
            "type": "heatmapgl"
           }
          ],
          "histogram": [
           {
            "marker": {
             "pattern": {
              "fillmode": "overlay",
              "size": 10,
              "solidity": 0.2
             }
            },
            "type": "histogram"
           }
          ],
          "histogram2d": [
           {
            "colorbar": {
             "outlinewidth": 0,
             "ticks": ""
            },
            "colorscale": [
             [
              0,
              "#0d0887"
             ],
             [
              0.1111111111111111,
              "#46039f"
             ],
             [
              0.2222222222222222,
              "#7201a8"
             ],
             [
              0.3333333333333333,
              "#9c179e"
             ],
             [
              0.4444444444444444,
              "#bd3786"
             ],
             [
              0.5555555555555556,
              "#d8576b"
             ],
             [
              0.6666666666666666,
              "#ed7953"
             ],
             [
              0.7777777777777778,
              "#fb9f3a"
             ],
             [
              0.8888888888888888,
              "#fdca26"
             ],
             [
              1,
              "#f0f921"
             ]
            ],
            "type": "histogram2d"
           }
          ],
          "histogram2dcontour": [
           {
            "colorbar": {
             "outlinewidth": 0,
             "ticks": ""
            },
            "colorscale": [
             [
              0,
              "#0d0887"
             ],
             [
              0.1111111111111111,
              "#46039f"
             ],
             [
              0.2222222222222222,
              "#7201a8"
             ],
             [
              0.3333333333333333,
              "#9c179e"
             ],
             [
              0.4444444444444444,
              "#bd3786"
             ],
             [
              0.5555555555555556,
              "#d8576b"
             ],
             [
              0.6666666666666666,
              "#ed7953"
             ],
             [
              0.7777777777777778,
              "#fb9f3a"
             ],
             [
              0.8888888888888888,
              "#fdca26"
             ],
             [
              1,
              "#f0f921"
             ]
            ],
            "type": "histogram2dcontour"
           }
          ],
          "mesh3d": [
           {
            "colorbar": {
             "outlinewidth": 0,
             "ticks": ""
            },
            "type": "mesh3d"
           }
          ],
          "parcoords": [
           {
            "line": {
             "colorbar": {
              "outlinewidth": 0,
              "ticks": ""
             }
            },
            "type": "parcoords"
           }
          ],
          "pie": [
           {
            "automargin": true,
            "type": "pie"
           }
          ],
          "scatter": [
           {
            "fillpattern": {
             "fillmode": "overlay",
             "size": 10,
             "solidity": 0.2
            },
            "type": "scatter"
           }
          ],
          "scatter3d": [
           {
            "line": {
             "colorbar": {
              "outlinewidth": 0,
              "ticks": ""
             }
            },
            "marker": {
             "colorbar": {
              "outlinewidth": 0,
              "ticks": ""
             }
            },
            "type": "scatter3d"
           }
          ],
          "scattercarpet": [
           {
            "marker": {
             "colorbar": {
              "outlinewidth": 0,
              "ticks": ""
             }
            },
            "type": "scattercarpet"
           }
          ],
          "scattergeo": [
           {
            "marker": {
             "colorbar": {
              "outlinewidth": 0,
              "ticks": ""
             }
            },
            "type": "scattergeo"
           }
          ],
          "scattergl": [
           {
            "marker": {
             "colorbar": {
              "outlinewidth": 0,
              "ticks": ""
             }
            },
            "type": "scattergl"
           }
          ],
          "scattermapbox": [
           {
            "marker": {
             "colorbar": {
              "outlinewidth": 0,
              "ticks": ""
             }
            },
            "type": "scattermapbox"
           }
          ],
          "scatterpolar": [
           {
            "marker": {
             "colorbar": {
              "outlinewidth": 0,
              "ticks": ""
             }
            },
            "type": "scatterpolar"
           }
          ],
          "scatterpolargl": [
           {
            "marker": {
             "colorbar": {
              "outlinewidth": 0,
              "ticks": ""
             }
            },
            "type": "scatterpolargl"
           }
          ],
          "scatterternary": [
           {
            "marker": {
             "colorbar": {
              "outlinewidth": 0,
              "ticks": ""
             }
            },
            "type": "scatterternary"
           }
          ],
          "surface": [
           {
            "colorbar": {
             "outlinewidth": 0,
             "ticks": ""
            },
            "colorscale": [
             [
              0,
              "#0d0887"
             ],
             [
              0.1111111111111111,
              "#46039f"
             ],
             [
              0.2222222222222222,
              "#7201a8"
             ],
             [
              0.3333333333333333,
              "#9c179e"
             ],
             [
              0.4444444444444444,
              "#bd3786"
             ],
             [
              0.5555555555555556,
              "#d8576b"
             ],
             [
              0.6666666666666666,
              "#ed7953"
             ],
             [
              0.7777777777777778,
              "#fb9f3a"
             ],
             [
              0.8888888888888888,
              "#fdca26"
             ],
             [
              1,
              "#f0f921"
             ]
            ],
            "type": "surface"
           }
          ],
          "table": [
           {
            "cells": {
             "fill": {
              "color": "#EBF0F8"
             },
             "line": {
              "color": "white"
             }
            },
            "header": {
             "fill": {
              "color": "#C8D4E3"
             },
             "line": {
              "color": "white"
             }
            },
            "type": "table"
           }
          ]
         },
         "layout": {
          "annotationdefaults": {
           "arrowcolor": "#2a3f5f",
           "arrowhead": 0,
           "arrowwidth": 1
          },
          "autotypenumbers": "strict",
          "coloraxis": {
           "colorbar": {
            "outlinewidth": 0,
            "ticks": ""
           }
          },
          "colorscale": {
           "diverging": [
            [
             0,
             "#8e0152"
            ],
            [
             0.1,
             "#c51b7d"
            ],
            [
             0.2,
             "#de77ae"
            ],
            [
             0.3,
             "#f1b6da"
            ],
            [
             0.4,
             "#fde0ef"
            ],
            [
             0.5,
             "#f7f7f7"
            ],
            [
             0.6,
             "#e6f5d0"
            ],
            [
             0.7,
             "#b8e186"
            ],
            [
             0.8,
             "#7fbc41"
            ],
            [
             0.9,
             "#4d9221"
            ],
            [
             1,
             "#276419"
            ]
           ],
           "sequential": [
            [
             0,
             "#0d0887"
            ],
            [
             0.1111111111111111,
             "#46039f"
            ],
            [
             0.2222222222222222,
             "#7201a8"
            ],
            [
             0.3333333333333333,
             "#9c179e"
            ],
            [
             0.4444444444444444,
             "#bd3786"
            ],
            [
             0.5555555555555556,
             "#d8576b"
            ],
            [
             0.6666666666666666,
             "#ed7953"
            ],
            [
             0.7777777777777778,
             "#fb9f3a"
            ],
            [
             0.8888888888888888,
             "#fdca26"
            ],
            [
             1,
             "#f0f921"
            ]
           ],
           "sequentialminus": [
            [
             0,
             "#0d0887"
            ],
            [
             0.1111111111111111,
             "#46039f"
            ],
            [
             0.2222222222222222,
             "#7201a8"
            ],
            [
             0.3333333333333333,
             "#9c179e"
            ],
            [
             0.4444444444444444,
             "#bd3786"
            ],
            [
             0.5555555555555556,
             "#d8576b"
            ],
            [
             0.6666666666666666,
             "#ed7953"
            ],
            [
             0.7777777777777778,
             "#fb9f3a"
            ],
            [
             0.8888888888888888,
             "#fdca26"
            ],
            [
             1,
             "#f0f921"
            ]
           ]
          },
          "colorway": [
           "#636efa",
           "#EF553B",
           "#00cc96",
           "#ab63fa",
           "#FFA15A",
           "#19d3f3",
           "#FF6692",
           "#B6E880",
           "#FF97FF",
           "#FECB52"
          ],
          "font": {
           "color": "#2a3f5f"
          },
          "geo": {
           "bgcolor": "white",
           "lakecolor": "white",
           "landcolor": "#E5ECF6",
           "showlakes": true,
           "showland": true,
           "subunitcolor": "white"
          },
          "hoverlabel": {
           "align": "left"
          },
          "hovermode": "closest",
          "mapbox": {
           "style": "light"
          },
          "paper_bgcolor": "white",
          "plot_bgcolor": "#E5ECF6",
          "polar": {
           "angularaxis": {
            "gridcolor": "white",
            "linecolor": "white",
            "ticks": ""
           },
           "bgcolor": "#E5ECF6",
           "radialaxis": {
            "gridcolor": "white",
            "linecolor": "white",
            "ticks": ""
           }
          },
          "scene": {
           "xaxis": {
            "backgroundcolor": "#E5ECF6",
            "gridcolor": "white",
            "gridwidth": 2,
            "linecolor": "white",
            "showbackground": true,
            "ticks": "",
            "zerolinecolor": "white"
           },
           "yaxis": {
            "backgroundcolor": "#E5ECF6",
            "gridcolor": "white",
            "gridwidth": 2,
            "linecolor": "white",
            "showbackground": true,
            "ticks": "",
            "zerolinecolor": "white"
           },
           "zaxis": {
            "backgroundcolor": "#E5ECF6",
            "gridcolor": "white",
            "gridwidth": 2,
            "linecolor": "white",
            "showbackground": true,
            "ticks": "",
            "zerolinecolor": "white"
           }
          },
          "shapedefaults": {
           "line": {
            "color": "#2a3f5f"
           }
          },
          "ternary": {
           "aaxis": {
            "gridcolor": "white",
            "linecolor": "white",
            "ticks": ""
           },
           "baxis": {
            "gridcolor": "white",
            "linecolor": "white",
            "ticks": ""
           },
           "bgcolor": "#E5ECF6",
           "caxis": {
            "gridcolor": "white",
            "linecolor": "white",
            "ticks": ""
           }
          },
          "title": {
           "x": 0.05
          },
          "xaxis": {
           "automargin": true,
           "gridcolor": "white",
           "linecolor": "white",
           "ticks": "",
           "title": {
            "standoff": 15
           },
           "zerolinecolor": "white",
           "zerolinewidth": 2
          },
          "yaxis": {
           "automargin": true,
           "gridcolor": "white",
           "linecolor": "white",
           "ticks": "",
           "title": {
            "standoff": 15
           },
           "zerolinecolor": "white",
           "zerolinewidth": 2
          }
         }
        },
        "title": {
         "text": "The Eiffel Tower is located in ..., W_in"
        }
       }
      }
     },
     "metadata": {},
     "output_type": "display_data"
    }
   ],
   "source": [
    "fig = go.Figure(data=[\n",
    "    go.Bar(name=cities[i], x=x, y=[\n",
    "      np.linalg.norm(diff_df.loc[(eiffel_bases[0], cities[i], \"Paris\", \"W_in\", layer), \"Gradient\"])\n",
    "      for layer in range(12)])\n",
    "    for i in range(1, len(cities))\n",
    "])\n",
    "fig.update_layout(\n",
    "    barmode='stack',\n",
    "    title=f'{eiffel_bases[0]} ..., W_in',\n",
    ")\n",
    "fig.show()"
   ]
  },
  {
   "cell_type": "code",
   "execution_count": 25,
   "id": "c53b889d",
   "metadata": {},
   "outputs": [
    {
     "data": {
      "application/vnd.plotly.v1+json": {
       "config": {
        "plotlyServerURL": "https://plot.ly"
       },
       "data": [
        {
         "name": "Rome",
         "type": "bar",
         "x": [
          0,
          1,
          2,
          3,
          4,
          5,
          6,
          7,
          8,
          9,
          10,
          11
         ],
         "y": [
          0.8545644283294678,
          0.891128659248352,
          0.9546020030975342,
          0.7108861207962036,
          0.7317086458206177,
          0.6930325627326965,
          0.6057015657424927,
          0.6003256440162659,
          0.5417148470878601,
          0.4052990674972534,
          0.4979192614555359,
          0.3922191262245178
         ]
        },
        {
         "name": "Tokyo",
         "type": "bar",
         "x": [
          0,
          1,
          2,
          3,
          4,
          5,
          6,
          7,
          8,
          9,
          10,
          11
         ],
         "y": [
          0.9835783839225769,
          0.9621321558952332,
          1.1059136390686035,
          0.8526408672332764,
          0.8623634576797485,
          0.8263649940490723,
          0.7029896378517151,
          0.7329491972923279,
          0.6616759896278381,
          0.4596591591835022,
          0.5314851999282837,
          0.40812113881111145
         ]
        },
        {
         "name": "Beijing",
         "type": "bar",
         "x": [
          0,
          1,
          2,
          3,
          4,
          5,
          6,
          7,
          8,
          9,
          10,
          11
         ],
         "y": [
          0.9617899656295776,
          0.935797393321991,
          1.1068958044052124,
          0.8811318278312683,
          0.9054093956947327,
          0.8476957678794861,
          0.7514439225196838,
          0.7662840485572815,
          0.697052538394928,
          0.44369980692863464,
          0.5216541886329651,
          0.41177695989608765
         ]
        },
        {
         "name": "Melbourne",
         "type": "bar",
         "x": [
          0,
          1,
          2,
          3,
          4,
          5,
          6,
          7,
          8,
          9,
          10,
          11
         ],
         "y": [
          1.5161138772964478,
          1.4987399578094482,
          1.6133036613464355,
          1.227797508239746,
          1.172263741493225,
          1.089613676071167,
          0.8980914950370789,
          0.8657680153846741,
          0.819416880607605,
          0.5198224186897278,
          0.573545515537262,
          0.448395311832428
         ]
        }
       ],
       "layout": {
        "barmode": "stack",
        "template": {
         "data": {
          "bar": [
           {
            "error_x": {
             "color": "#2a3f5f"
            },
            "error_y": {
             "color": "#2a3f5f"
            },
            "marker": {
             "line": {
              "color": "#E5ECF6",
              "width": 0.5
             },
             "pattern": {
              "fillmode": "overlay",
              "size": 10,
              "solidity": 0.2
             }
            },
            "type": "bar"
           }
          ],
          "barpolar": [
           {
            "marker": {
             "line": {
              "color": "#E5ECF6",
              "width": 0.5
             },
             "pattern": {
              "fillmode": "overlay",
              "size": 10,
              "solidity": 0.2
             }
            },
            "type": "barpolar"
           }
          ],
          "carpet": [
           {
            "aaxis": {
             "endlinecolor": "#2a3f5f",
             "gridcolor": "white",
             "linecolor": "white",
             "minorgridcolor": "white",
             "startlinecolor": "#2a3f5f"
            },
            "baxis": {
             "endlinecolor": "#2a3f5f",
             "gridcolor": "white",
             "linecolor": "white",
             "minorgridcolor": "white",
             "startlinecolor": "#2a3f5f"
            },
            "type": "carpet"
           }
          ],
          "choropleth": [
           {
            "colorbar": {
             "outlinewidth": 0,
             "ticks": ""
            },
            "type": "choropleth"
           }
          ],
          "contour": [
           {
            "colorbar": {
             "outlinewidth": 0,
             "ticks": ""
            },
            "colorscale": [
             [
              0,
              "#0d0887"
             ],
             [
              0.1111111111111111,
              "#46039f"
             ],
             [
              0.2222222222222222,
              "#7201a8"
             ],
             [
              0.3333333333333333,
              "#9c179e"
             ],
             [
              0.4444444444444444,
              "#bd3786"
             ],
             [
              0.5555555555555556,
              "#d8576b"
             ],
             [
              0.6666666666666666,
              "#ed7953"
             ],
             [
              0.7777777777777778,
              "#fb9f3a"
             ],
             [
              0.8888888888888888,
              "#fdca26"
             ],
             [
              1,
              "#f0f921"
             ]
            ],
            "type": "contour"
           }
          ],
          "contourcarpet": [
           {
            "colorbar": {
             "outlinewidth": 0,
             "ticks": ""
            },
            "type": "contourcarpet"
           }
          ],
          "heatmap": [
           {
            "colorbar": {
             "outlinewidth": 0,
             "ticks": ""
            },
            "colorscale": [
             [
              0,
              "#0d0887"
             ],
             [
              0.1111111111111111,
              "#46039f"
             ],
             [
              0.2222222222222222,
              "#7201a8"
             ],
             [
              0.3333333333333333,
              "#9c179e"
             ],
             [
              0.4444444444444444,
              "#bd3786"
             ],
             [
              0.5555555555555556,
              "#d8576b"
             ],
             [
              0.6666666666666666,
              "#ed7953"
             ],
             [
              0.7777777777777778,
              "#fb9f3a"
             ],
             [
              0.8888888888888888,
              "#fdca26"
             ],
             [
              1,
              "#f0f921"
             ]
            ],
            "type": "heatmap"
           }
          ],
          "heatmapgl": [
           {
            "colorbar": {
             "outlinewidth": 0,
             "ticks": ""
            },
            "colorscale": [
             [
              0,
              "#0d0887"
             ],
             [
              0.1111111111111111,
              "#46039f"
             ],
             [
              0.2222222222222222,
              "#7201a8"
             ],
             [
              0.3333333333333333,
              "#9c179e"
             ],
             [
              0.4444444444444444,
              "#bd3786"
             ],
             [
              0.5555555555555556,
              "#d8576b"
             ],
             [
              0.6666666666666666,
              "#ed7953"
             ],
             [
              0.7777777777777778,
              "#fb9f3a"
             ],
             [
              0.8888888888888888,
              "#fdca26"
             ],
             [
              1,
              "#f0f921"
             ]
            ],
            "type": "heatmapgl"
           }
          ],
          "histogram": [
           {
            "marker": {
             "pattern": {
              "fillmode": "overlay",
              "size": 10,
              "solidity": 0.2
             }
            },
            "type": "histogram"
           }
          ],
          "histogram2d": [
           {
            "colorbar": {
             "outlinewidth": 0,
             "ticks": ""
            },
            "colorscale": [
             [
              0,
              "#0d0887"
             ],
             [
              0.1111111111111111,
              "#46039f"
             ],
             [
              0.2222222222222222,
              "#7201a8"
             ],
             [
              0.3333333333333333,
              "#9c179e"
             ],
             [
              0.4444444444444444,
              "#bd3786"
             ],
             [
              0.5555555555555556,
              "#d8576b"
             ],
             [
              0.6666666666666666,
              "#ed7953"
             ],
             [
              0.7777777777777778,
              "#fb9f3a"
             ],
             [
              0.8888888888888888,
              "#fdca26"
             ],
             [
              1,
              "#f0f921"
             ]
            ],
            "type": "histogram2d"
           }
          ],
          "histogram2dcontour": [
           {
            "colorbar": {
             "outlinewidth": 0,
             "ticks": ""
            },
            "colorscale": [
             [
              0,
              "#0d0887"
             ],
             [
              0.1111111111111111,
              "#46039f"
             ],
             [
              0.2222222222222222,
              "#7201a8"
             ],
             [
              0.3333333333333333,
              "#9c179e"
             ],
             [
              0.4444444444444444,
              "#bd3786"
             ],
             [
              0.5555555555555556,
              "#d8576b"
             ],
             [
              0.6666666666666666,
              "#ed7953"
             ],
             [
              0.7777777777777778,
              "#fb9f3a"
             ],
             [
              0.8888888888888888,
              "#fdca26"
             ],
             [
              1,
              "#f0f921"
             ]
            ],
            "type": "histogram2dcontour"
           }
          ],
          "mesh3d": [
           {
            "colorbar": {
             "outlinewidth": 0,
             "ticks": ""
            },
            "type": "mesh3d"
           }
          ],
          "parcoords": [
           {
            "line": {
             "colorbar": {
              "outlinewidth": 0,
              "ticks": ""
             }
            },
            "type": "parcoords"
           }
          ],
          "pie": [
           {
            "automargin": true,
            "type": "pie"
           }
          ],
          "scatter": [
           {
            "fillpattern": {
             "fillmode": "overlay",
             "size": 10,
             "solidity": 0.2
            },
            "type": "scatter"
           }
          ],
          "scatter3d": [
           {
            "line": {
             "colorbar": {
              "outlinewidth": 0,
              "ticks": ""
             }
            },
            "marker": {
             "colorbar": {
              "outlinewidth": 0,
              "ticks": ""
             }
            },
            "type": "scatter3d"
           }
          ],
          "scattercarpet": [
           {
            "marker": {
             "colorbar": {
              "outlinewidth": 0,
              "ticks": ""
             }
            },
            "type": "scattercarpet"
           }
          ],
          "scattergeo": [
           {
            "marker": {
             "colorbar": {
              "outlinewidth": 0,
              "ticks": ""
             }
            },
            "type": "scattergeo"
           }
          ],
          "scattergl": [
           {
            "marker": {
             "colorbar": {
              "outlinewidth": 0,
              "ticks": ""
             }
            },
            "type": "scattergl"
           }
          ],
          "scattermapbox": [
           {
            "marker": {
             "colorbar": {
              "outlinewidth": 0,
              "ticks": ""
             }
            },
            "type": "scattermapbox"
           }
          ],
          "scatterpolar": [
           {
            "marker": {
             "colorbar": {
              "outlinewidth": 0,
              "ticks": ""
             }
            },
            "type": "scatterpolar"
           }
          ],
          "scatterpolargl": [
           {
            "marker": {
             "colorbar": {
              "outlinewidth": 0,
              "ticks": ""
             }
            },
            "type": "scatterpolargl"
           }
          ],
          "scatterternary": [
           {
            "marker": {
             "colorbar": {
              "outlinewidth": 0,
              "ticks": ""
             }
            },
            "type": "scatterternary"
           }
          ],
          "surface": [
           {
            "colorbar": {
             "outlinewidth": 0,
             "ticks": ""
            },
            "colorscale": [
             [
              0,
              "#0d0887"
             ],
             [
              0.1111111111111111,
              "#46039f"
             ],
             [
              0.2222222222222222,
              "#7201a8"
             ],
             [
              0.3333333333333333,
              "#9c179e"
             ],
             [
              0.4444444444444444,
              "#bd3786"
             ],
             [
              0.5555555555555556,
              "#d8576b"
             ],
             [
              0.6666666666666666,
              "#ed7953"
             ],
             [
              0.7777777777777778,
              "#fb9f3a"
             ],
             [
              0.8888888888888888,
              "#fdca26"
             ],
             [
              1,
              "#f0f921"
             ]
            ],
            "type": "surface"
           }
          ],
          "table": [
           {
            "cells": {
             "fill": {
              "color": "#EBF0F8"
             },
             "line": {
              "color": "white"
             }
            },
            "header": {
             "fill": {
              "color": "#C8D4E3"
             },
             "line": {
              "color": "white"
             }
            },
            "type": "table"
           }
          ]
         },
         "layout": {
          "annotationdefaults": {
           "arrowcolor": "#2a3f5f",
           "arrowhead": 0,
           "arrowwidth": 1
          },
          "autotypenumbers": "strict",
          "coloraxis": {
           "colorbar": {
            "outlinewidth": 0,
            "ticks": ""
           }
          },
          "colorscale": {
           "diverging": [
            [
             0,
             "#8e0152"
            ],
            [
             0.1,
             "#c51b7d"
            ],
            [
             0.2,
             "#de77ae"
            ],
            [
             0.3,
             "#f1b6da"
            ],
            [
             0.4,
             "#fde0ef"
            ],
            [
             0.5,
             "#f7f7f7"
            ],
            [
             0.6,
             "#e6f5d0"
            ],
            [
             0.7,
             "#b8e186"
            ],
            [
             0.8,
             "#7fbc41"
            ],
            [
             0.9,
             "#4d9221"
            ],
            [
             1,
             "#276419"
            ]
           ],
           "sequential": [
            [
             0,
             "#0d0887"
            ],
            [
             0.1111111111111111,
             "#46039f"
            ],
            [
             0.2222222222222222,
             "#7201a8"
            ],
            [
             0.3333333333333333,
             "#9c179e"
            ],
            [
             0.4444444444444444,
             "#bd3786"
            ],
            [
             0.5555555555555556,
             "#d8576b"
            ],
            [
             0.6666666666666666,
             "#ed7953"
            ],
            [
             0.7777777777777778,
             "#fb9f3a"
            ],
            [
             0.8888888888888888,
             "#fdca26"
            ],
            [
             1,
             "#f0f921"
            ]
           ],
           "sequentialminus": [
            [
             0,
             "#0d0887"
            ],
            [
             0.1111111111111111,
             "#46039f"
            ],
            [
             0.2222222222222222,
             "#7201a8"
            ],
            [
             0.3333333333333333,
             "#9c179e"
            ],
            [
             0.4444444444444444,
             "#bd3786"
            ],
            [
             0.5555555555555556,
             "#d8576b"
            ],
            [
             0.6666666666666666,
             "#ed7953"
            ],
            [
             0.7777777777777778,
             "#fb9f3a"
            ],
            [
             0.8888888888888888,
             "#fdca26"
            ],
            [
             1,
             "#f0f921"
            ]
           ]
          },
          "colorway": [
           "#636efa",
           "#EF553B",
           "#00cc96",
           "#ab63fa",
           "#FFA15A",
           "#19d3f3",
           "#FF6692",
           "#B6E880",
           "#FF97FF",
           "#FECB52"
          ],
          "font": {
           "color": "#2a3f5f"
          },
          "geo": {
           "bgcolor": "white",
           "lakecolor": "white",
           "landcolor": "#E5ECF6",
           "showlakes": true,
           "showland": true,
           "subunitcolor": "white"
          },
          "hoverlabel": {
           "align": "left"
          },
          "hovermode": "closest",
          "mapbox": {
           "style": "light"
          },
          "paper_bgcolor": "white",
          "plot_bgcolor": "#E5ECF6",
          "polar": {
           "angularaxis": {
            "gridcolor": "white",
            "linecolor": "white",
            "ticks": ""
           },
           "bgcolor": "#E5ECF6",
           "radialaxis": {
            "gridcolor": "white",
            "linecolor": "white",
            "ticks": ""
           }
          },
          "scene": {
           "xaxis": {
            "backgroundcolor": "#E5ECF6",
            "gridcolor": "white",
            "gridwidth": 2,
            "linecolor": "white",
            "showbackground": true,
            "ticks": "",
            "zerolinecolor": "white"
           },
           "yaxis": {
            "backgroundcolor": "#E5ECF6",
            "gridcolor": "white",
            "gridwidth": 2,
            "linecolor": "white",
            "showbackground": true,
            "ticks": "",
            "zerolinecolor": "white"
           },
           "zaxis": {
            "backgroundcolor": "#E5ECF6",
            "gridcolor": "white",
            "gridwidth": 2,
            "linecolor": "white",
            "showbackground": true,
            "ticks": "",
            "zerolinecolor": "white"
           }
          },
          "shapedefaults": {
           "line": {
            "color": "#2a3f5f"
           }
          },
          "ternary": {
           "aaxis": {
            "gridcolor": "white",
            "linecolor": "white",
            "ticks": ""
           },
           "baxis": {
            "gridcolor": "white",
            "linecolor": "white",
            "ticks": ""
           },
           "bgcolor": "#E5ECF6",
           "caxis": {
            "gridcolor": "white",
            "linecolor": "white",
            "ticks": ""
           }
          },
          "title": {
           "x": 0.05
          },
          "xaxis": {
           "automargin": true,
           "gridcolor": "white",
           "linecolor": "white",
           "ticks": "",
           "title": {
            "standoff": 15
           },
           "zerolinecolor": "white",
           "zerolinewidth": 2
          },
          "yaxis": {
           "automargin": true,
           "gridcolor": "white",
           "linecolor": "white",
           "ticks": "",
           "title": {
            "standoff": 15
           },
           "zerolinecolor": "white",
           "zerolinewidth": 2
          }
         }
        },
        "title": {
         "text": "The Eiffel Tower is located in ..., W_out"
        }
       }
      }
     },
     "metadata": {},
     "output_type": "display_data"
    }
   ],
   "source": [
    "fig = go.Figure(data=[\n",
    "    go.Bar(name=cities[i], x=x, y=[\n",
    "      np.linalg.norm(diff_df.loc[(eiffel_bases[0], cities[i], \"Paris\", \"W_out\", layer), \"Gradient\"])\n",
    "      for layer in range(12)])\n",
    "    for i in range(1, len(cities))\n",
    "])\n",
    "fig.update_layout(\n",
    "    barmode='stack',\n",
    "    title=f'{eiffel_bases[0]} ..., W_out',\n",
    ")\n",
    "fig.show()"
   ]
  },
  {
   "cell_type": "code",
   "execution_count": 26,
   "id": "b92c6017",
   "metadata": {},
   "outputs": [
    {
     "data": {
      "application/vnd.plotly.v1+json": {
       "config": {
        "plotlyServerURL": "https://plot.ly"
       },
       "data": [
        {
         "name": "Rome",
         "type": "bar",
         "x": [
          0,
          1,
          2,
          3,
          4,
          5,
          6,
          7,
          8,
          9,
          10,
          11
         ],
         "y": [
          3.551708459854126,
          4.843825817108154,
          4.8778791427612305,
          4.038626194000244,
          4.1253252029418945,
          4.098002910614014,
          4.207483291625977,
          3.7247118949890137,
          3.714181900024414,
          3.2768168449401855,
          2.8214967250823975,
          2.953681468963623
         ]
        },
        {
         "name": "Tokyo",
         "type": "bar",
         "x": [
          0,
          1,
          2,
          3,
          4,
          5,
          6,
          7,
          8,
          9,
          10,
          11
         ],
         "y": [
          3.0210368633270264,
          4.012442111968994,
          3.9227302074432373,
          3.168612241744995,
          3.4071640968322754,
          3.525092124938965,
          3.2853288650512695,
          3.126537322998047,
          3.4388389587402344,
          3.1077704429626465,
          2.6835131645202637,
          2.283751964569092
         ]
        },
        {
         "name": "Beijing",
         "type": "bar",
         "x": [
          0,
          1,
          2,
          3,
          4,
          5,
          6,
          7,
          8,
          9,
          10,
          11
         ],
         "y": [
          3.255492925643921,
          4.384047508239746,
          4.516695976257324,
          3.9460718631744385,
          4.193391799926758,
          4.299570560455322,
          3.7816057205200195,
          3.482823371887207,
          3.990434169769287,
          3.0289218425750732,
          2.589428186416626,
          2.2575695514678955
         ]
        },
        {
         "name": "Melbourne",
         "type": "bar",
         "x": [
          0,
          1,
          2,
          3,
          4,
          5,
          6,
          7,
          8,
          9,
          10,
          11
         ],
         "y": [
          4.240775108337402,
          5.79885196685791,
          5.262881278991699,
          4.401912212371826,
          4.389747619628906,
          4.526878833770752,
          4.643136978149414,
          3.909055471420288,
          4.063711643218994,
          3.3017568588256836,
          2.8722500801086426,
          2.762352466583252
         ]
        }
       ],
       "layout": {
        "barmode": "stack",
        "template": {
         "data": {
          "bar": [
           {
            "error_x": {
             "color": "#2a3f5f"
            },
            "error_y": {
             "color": "#2a3f5f"
            },
            "marker": {
             "line": {
              "color": "#E5ECF6",
              "width": 0.5
             },
             "pattern": {
              "fillmode": "overlay",
              "size": 10,
              "solidity": 0.2
             }
            },
            "type": "bar"
           }
          ],
          "barpolar": [
           {
            "marker": {
             "line": {
              "color": "#E5ECF6",
              "width": 0.5
             },
             "pattern": {
              "fillmode": "overlay",
              "size": 10,
              "solidity": 0.2
             }
            },
            "type": "barpolar"
           }
          ],
          "carpet": [
           {
            "aaxis": {
             "endlinecolor": "#2a3f5f",
             "gridcolor": "white",
             "linecolor": "white",
             "minorgridcolor": "white",
             "startlinecolor": "#2a3f5f"
            },
            "baxis": {
             "endlinecolor": "#2a3f5f",
             "gridcolor": "white",
             "linecolor": "white",
             "minorgridcolor": "white",
             "startlinecolor": "#2a3f5f"
            },
            "type": "carpet"
           }
          ],
          "choropleth": [
           {
            "colorbar": {
             "outlinewidth": 0,
             "ticks": ""
            },
            "type": "choropleth"
           }
          ],
          "contour": [
           {
            "colorbar": {
             "outlinewidth": 0,
             "ticks": ""
            },
            "colorscale": [
             [
              0,
              "#0d0887"
             ],
             [
              0.1111111111111111,
              "#46039f"
             ],
             [
              0.2222222222222222,
              "#7201a8"
             ],
             [
              0.3333333333333333,
              "#9c179e"
             ],
             [
              0.4444444444444444,
              "#bd3786"
             ],
             [
              0.5555555555555556,
              "#d8576b"
             ],
             [
              0.6666666666666666,
              "#ed7953"
             ],
             [
              0.7777777777777778,
              "#fb9f3a"
             ],
             [
              0.8888888888888888,
              "#fdca26"
             ],
             [
              1,
              "#f0f921"
             ]
            ],
            "type": "contour"
           }
          ],
          "contourcarpet": [
           {
            "colorbar": {
             "outlinewidth": 0,
             "ticks": ""
            },
            "type": "contourcarpet"
           }
          ],
          "heatmap": [
           {
            "colorbar": {
             "outlinewidth": 0,
             "ticks": ""
            },
            "colorscale": [
             [
              0,
              "#0d0887"
             ],
             [
              0.1111111111111111,
              "#46039f"
             ],
             [
              0.2222222222222222,
              "#7201a8"
             ],
             [
              0.3333333333333333,
              "#9c179e"
             ],
             [
              0.4444444444444444,
              "#bd3786"
             ],
             [
              0.5555555555555556,
              "#d8576b"
             ],
             [
              0.6666666666666666,
              "#ed7953"
             ],
             [
              0.7777777777777778,
              "#fb9f3a"
             ],
             [
              0.8888888888888888,
              "#fdca26"
             ],
             [
              1,
              "#f0f921"
             ]
            ],
            "type": "heatmap"
           }
          ],
          "heatmapgl": [
           {
            "colorbar": {
             "outlinewidth": 0,
             "ticks": ""
            },
            "colorscale": [
             [
              0,
              "#0d0887"
             ],
             [
              0.1111111111111111,
              "#46039f"
             ],
             [
              0.2222222222222222,
              "#7201a8"
             ],
             [
              0.3333333333333333,
              "#9c179e"
             ],
             [
              0.4444444444444444,
              "#bd3786"
             ],
             [
              0.5555555555555556,
              "#d8576b"
             ],
             [
              0.6666666666666666,
              "#ed7953"
             ],
             [
              0.7777777777777778,
              "#fb9f3a"
             ],
             [
              0.8888888888888888,
              "#fdca26"
             ],
             [
              1,
              "#f0f921"
             ]
            ],
            "type": "heatmapgl"
           }
          ],
          "histogram": [
           {
            "marker": {
             "pattern": {
              "fillmode": "overlay",
              "size": 10,
              "solidity": 0.2
             }
            },
            "type": "histogram"
           }
          ],
          "histogram2d": [
           {
            "colorbar": {
             "outlinewidth": 0,
             "ticks": ""
            },
            "colorscale": [
             [
              0,
              "#0d0887"
             ],
             [
              0.1111111111111111,
              "#46039f"
             ],
             [
              0.2222222222222222,
              "#7201a8"
             ],
             [
              0.3333333333333333,
              "#9c179e"
             ],
             [
              0.4444444444444444,
              "#bd3786"
             ],
             [
              0.5555555555555556,
              "#d8576b"
             ],
             [
              0.6666666666666666,
              "#ed7953"
             ],
             [
              0.7777777777777778,
              "#fb9f3a"
             ],
             [
              0.8888888888888888,
              "#fdca26"
             ],
             [
              1,
              "#f0f921"
             ]
            ],
            "type": "histogram2d"
           }
          ],
          "histogram2dcontour": [
           {
            "colorbar": {
             "outlinewidth": 0,
             "ticks": ""
            },
            "colorscale": [
             [
              0,
              "#0d0887"
             ],
             [
              0.1111111111111111,
              "#46039f"
             ],
             [
              0.2222222222222222,
              "#7201a8"
             ],
             [
              0.3333333333333333,
              "#9c179e"
             ],
             [
              0.4444444444444444,
              "#bd3786"
             ],
             [
              0.5555555555555556,
              "#d8576b"
             ],
             [
              0.6666666666666666,
              "#ed7953"
             ],
             [
              0.7777777777777778,
              "#fb9f3a"
             ],
             [
              0.8888888888888888,
              "#fdca26"
             ],
             [
              1,
              "#f0f921"
             ]
            ],
            "type": "histogram2dcontour"
           }
          ],
          "mesh3d": [
           {
            "colorbar": {
             "outlinewidth": 0,
             "ticks": ""
            },
            "type": "mesh3d"
           }
          ],
          "parcoords": [
           {
            "line": {
             "colorbar": {
              "outlinewidth": 0,
              "ticks": ""
             }
            },
            "type": "parcoords"
           }
          ],
          "pie": [
           {
            "automargin": true,
            "type": "pie"
           }
          ],
          "scatter": [
           {
            "fillpattern": {
             "fillmode": "overlay",
             "size": 10,
             "solidity": 0.2
            },
            "type": "scatter"
           }
          ],
          "scatter3d": [
           {
            "line": {
             "colorbar": {
              "outlinewidth": 0,
              "ticks": ""
             }
            },
            "marker": {
             "colorbar": {
              "outlinewidth": 0,
              "ticks": ""
             }
            },
            "type": "scatter3d"
           }
          ],
          "scattercarpet": [
           {
            "marker": {
             "colorbar": {
              "outlinewidth": 0,
              "ticks": ""
             }
            },
            "type": "scattercarpet"
           }
          ],
          "scattergeo": [
           {
            "marker": {
             "colorbar": {
              "outlinewidth": 0,
              "ticks": ""
             }
            },
            "type": "scattergeo"
           }
          ],
          "scattergl": [
           {
            "marker": {
             "colorbar": {
              "outlinewidth": 0,
              "ticks": ""
             }
            },
            "type": "scattergl"
           }
          ],
          "scattermapbox": [
           {
            "marker": {
             "colorbar": {
              "outlinewidth": 0,
              "ticks": ""
             }
            },
            "type": "scattermapbox"
           }
          ],
          "scatterpolar": [
           {
            "marker": {
             "colorbar": {
              "outlinewidth": 0,
              "ticks": ""
             }
            },
            "type": "scatterpolar"
           }
          ],
          "scatterpolargl": [
           {
            "marker": {
             "colorbar": {
              "outlinewidth": 0,
              "ticks": ""
             }
            },
            "type": "scatterpolargl"
           }
          ],
          "scatterternary": [
           {
            "marker": {
             "colorbar": {
              "outlinewidth": 0,
              "ticks": ""
             }
            },
            "type": "scatterternary"
           }
          ],
          "surface": [
           {
            "colorbar": {
             "outlinewidth": 0,
             "ticks": ""
            },
            "colorscale": [
             [
              0,
              "#0d0887"
             ],
             [
              0.1111111111111111,
              "#46039f"
             ],
             [
              0.2222222222222222,
              "#7201a8"
             ],
             [
              0.3333333333333333,
              "#9c179e"
             ],
             [
              0.4444444444444444,
              "#bd3786"
             ],
             [
              0.5555555555555556,
              "#d8576b"
             ],
             [
              0.6666666666666666,
              "#ed7953"
             ],
             [
              0.7777777777777778,
              "#fb9f3a"
             ],
             [
              0.8888888888888888,
              "#fdca26"
             ],
             [
              1,
              "#f0f921"
             ]
            ],
            "type": "surface"
           }
          ],
          "table": [
           {
            "cells": {
             "fill": {
              "color": "#EBF0F8"
             },
             "line": {
              "color": "white"
             }
            },
            "header": {
             "fill": {
              "color": "#C8D4E3"
             },
             "line": {
              "color": "white"
             }
            },
            "type": "table"
           }
          ]
         },
         "layout": {
          "annotationdefaults": {
           "arrowcolor": "#2a3f5f",
           "arrowhead": 0,
           "arrowwidth": 1
          },
          "autotypenumbers": "strict",
          "coloraxis": {
           "colorbar": {
            "outlinewidth": 0,
            "ticks": ""
           }
          },
          "colorscale": {
           "diverging": [
            [
             0,
             "#8e0152"
            ],
            [
             0.1,
             "#c51b7d"
            ],
            [
             0.2,
             "#de77ae"
            ],
            [
             0.3,
             "#f1b6da"
            ],
            [
             0.4,
             "#fde0ef"
            ],
            [
             0.5,
             "#f7f7f7"
            ],
            [
             0.6,
             "#e6f5d0"
            ],
            [
             0.7,
             "#b8e186"
            ],
            [
             0.8,
             "#7fbc41"
            ],
            [
             0.9,
             "#4d9221"
            ],
            [
             1,
             "#276419"
            ]
           ],
           "sequential": [
            [
             0,
             "#0d0887"
            ],
            [
             0.1111111111111111,
             "#46039f"
            ],
            [
             0.2222222222222222,
             "#7201a8"
            ],
            [
             0.3333333333333333,
             "#9c179e"
            ],
            [
             0.4444444444444444,
             "#bd3786"
            ],
            [
             0.5555555555555556,
             "#d8576b"
            ],
            [
             0.6666666666666666,
             "#ed7953"
            ],
            [
             0.7777777777777778,
             "#fb9f3a"
            ],
            [
             0.8888888888888888,
             "#fdca26"
            ],
            [
             1,
             "#f0f921"
            ]
           ],
           "sequentialminus": [
            [
             0,
             "#0d0887"
            ],
            [
             0.1111111111111111,
             "#46039f"
            ],
            [
             0.2222222222222222,
             "#7201a8"
            ],
            [
             0.3333333333333333,
             "#9c179e"
            ],
            [
             0.4444444444444444,
             "#bd3786"
            ],
            [
             0.5555555555555556,
             "#d8576b"
            ],
            [
             0.6666666666666666,
             "#ed7953"
            ],
            [
             0.7777777777777778,
             "#fb9f3a"
            ],
            [
             0.8888888888888888,
             "#fdca26"
            ],
            [
             1,
             "#f0f921"
            ]
           ]
          },
          "colorway": [
           "#636efa",
           "#EF553B",
           "#00cc96",
           "#ab63fa",
           "#FFA15A",
           "#19d3f3",
           "#FF6692",
           "#B6E880",
           "#FF97FF",
           "#FECB52"
          ],
          "font": {
           "color": "#2a3f5f"
          },
          "geo": {
           "bgcolor": "white",
           "lakecolor": "white",
           "landcolor": "#E5ECF6",
           "showlakes": true,
           "showland": true,
           "subunitcolor": "white"
          },
          "hoverlabel": {
           "align": "left"
          },
          "hovermode": "closest",
          "mapbox": {
           "style": "light"
          },
          "paper_bgcolor": "white",
          "plot_bgcolor": "#E5ECF6",
          "polar": {
           "angularaxis": {
            "gridcolor": "white",
            "linecolor": "white",
            "ticks": ""
           },
           "bgcolor": "#E5ECF6",
           "radialaxis": {
            "gridcolor": "white",
            "linecolor": "white",
            "ticks": ""
           }
          },
          "scene": {
           "xaxis": {
            "backgroundcolor": "#E5ECF6",
            "gridcolor": "white",
            "gridwidth": 2,
            "linecolor": "white",
            "showbackground": true,
            "ticks": "",
            "zerolinecolor": "white"
           },
           "yaxis": {
            "backgroundcolor": "#E5ECF6",
            "gridcolor": "white",
            "gridwidth": 2,
            "linecolor": "white",
            "showbackground": true,
            "ticks": "",
            "zerolinecolor": "white"
           },
           "zaxis": {
            "backgroundcolor": "#E5ECF6",
            "gridcolor": "white",
            "gridwidth": 2,
            "linecolor": "white",
            "showbackground": true,
            "ticks": "",
            "zerolinecolor": "white"
           }
          },
          "shapedefaults": {
           "line": {
            "color": "#2a3f5f"
           }
          },
          "ternary": {
           "aaxis": {
            "gridcolor": "white",
            "linecolor": "white",
            "ticks": ""
           },
           "baxis": {
            "gridcolor": "white",
            "linecolor": "white",
            "ticks": ""
           },
           "bgcolor": "#E5ECF6",
           "caxis": {
            "gridcolor": "white",
            "linecolor": "white",
            "ticks": ""
           }
          },
          "title": {
           "x": 0.05
          },
          "xaxis": {
           "automargin": true,
           "gridcolor": "white",
           "linecolor": "white",
           "ticks": "",
           "title": {
            "standoff": 15
           },
           "zerolinecolor": "white",
           "zerolinewidth": 2
          },
          "yaxis": {
           "automargin": true,
           "gridcolor": "white",
           "linecolor": "white",
           "ticks": "",
           "title": {
            "standoff": 15
           },
           "zerolinecolor": "white",
           "zerolinewidth": 2
          }
         }
        },
        "title": {
         "text": "The site of the Eiffel Tower, ..., W_in"
        }
       }
      }
     },
     "metadata": {},
     "output_type": "display_data"
    }
   ],
   "source": [
    "fig = go.Figure(data=[\n",
    "    go.Bar(name=cities[i], x=x, y=[\n",
    "      np.linalg.norm(\n",
    "        diff_df.loc[(eiffel_bases[1], cities[i], \"Paris\", \"W_in\", layer), \"Gradient\"]\n",
    "      )\n",
    "      for layer in range(12)])\n",
    "    for i in range(1, len(cities))\n",
    "])\n",
    "fig.update_layout(\n",
    "    barmode='stack',\n",
    "    title=f'{eiffel_bases[1]} ..., W_in',\n",
    ")\n",
    "fig.show()"
   ]
  },
  {
   "cell_type": "code",
   "execution_count": 27,
   "id": "8a4a77e9",
   "metadata": {},
   "outputs": [
    {
     "data": {
      "application/vnd.plotly.v1+json": {
       "config": {
        "plotlyServerURL": "https://plot.ly"
       },
       "data": [
        {
         "name": "Rome",
         "type": "bar",
         "x": [
          0,
          1,
          2,
          3,
          4,
          5,
          6,
          7,
          8,
          9,
          10,
          11
         ],
         "y": [
          0.8509488105773926,
          0.8780916929244995,
          0.9879868030548096,
          0.7829432487487793,
          0.7755330801010132,
          0.7140482664108276,
          0.6946429014205933,
          0.6432662606239319,
          0.5107867121696472,
          0.4405885934829712,
          0.4406071603298187,
          0.4025108516216278
         ]
        },
        {
         "name": "Tokyo",
         "type": "bar",
         "x": [
          0,
          1,
          2,
          3,
          4,
          5,
          6,
          7,
          8,
          9,
          10,
          11
         ],
         "y": [
          0.7484618425369263,
          0.7565207481384277,
          0.8966851234436035,
          0.6843190789222717,
          0.6922798752784729,
          0.6871692538261414,
          0.6305229663848877,
          0.6561805009841919,
          0.5732728838920593,
          0.48671776056289673,
          0.4620552062988281,
          0.3990189731121063
         ]
        },
        {
         "name": "Beijing",
         "type": "bar",
         "x": [
          0,
          1,
          2,
          3,
          4,
          5,
          6,
          7,
          8,
          9,
          10,
          11
         ],
         "y": [
          0.803199827671051,
          0.8193771839141846,
          0.9758699536323547,
          0.8034194707870483,
          0.8193212151527405,
          0.7717902064323425,
          0.6991824507713318,
          0.6820525527000427,
          0.6063920855522156,
          0.4727042019367218,
          0.4534752368927002,
          0.4037829339504242
         ]
        },
        {
         "name": "Melbourne",
         "type": "bar",
         "x": [
          0,
          1,
          2,
          3,
          4,
          5,
          6,
          7,
          8,
          9,
          10,
          11
         ],
         "y": [
          1.0551064014434814,
          1.0927908420562744,
          1.171213150024414,
          0.9025515913963318,
          0.882783830165863,
          0.87822425365448,
          0.830024778842926,
          0.7877110242843628,
          0.6775179505348206,
          0.508313775062561,
          0.49221161007881165,
          0.4260607957839966
         ]
        }
       ],
       "layout": {
        "barmode": "stack",
        "template": {
         "data": {
          "bar": [
           {
            "error_x": {
             "color": "#2a3f5f"
            },
            "error_y": {
             "color": "#2a3f5f"
            },
            "marker": {
             "line": {
              "color": "#E5ECF6",
              "width": 0.5
             },
             "pattern": {
              "fillmode": "overlay",
              "size": 10,
              "solidity": 0.2
             }
            },
            "type": "bar"
           }
          ],
          "barpolar": [
           {
            "marker": {
             "line": {
              "color": "#E5ECF6",
              "width": 0.5
             },
             "pattern": {
              "fillmode": "overlay",
              "size": 10,
              "solidity": 0.2
             }
            },
            "type": "barpolar"
           }
          ],
          "carpet": [
           {
            "aaxis": {
             "endlinecolor": "#2a3f5f",
             "gridcolor": "white",
             "linecolor": "white",
             "minorgridcolor": "white",
             "startlinecolor": "#2a3f5f"
            },
            "baxis": {
             "endlinecolor": "#2a3f5f",
             "gridcolor": "white",
             "linecolor": "white",
             "minorgridcolor": "white",
             "startlinecolor": "#2a3f5f"
            },
            "type": "carpet"
           }
          ],
          "choropleth": [
           {
            "colorbar": {
             "outlinewidth": 0,
             "ticks": ""
            },
            "type": "choropleth"
           }
          ],
          "contour": [
           {
            "colorbar": {
             "outlinewidth": 0,
             "ticks": ""
            },
            "colorscale": [
             [
              0,
              "#0d0887"
             ],
             [
              0.1111111111111111,
              "#46039f"
             ],
             [
              0.2222222222222222,
              "#7201a8"
             ],
             [
              0.3333333333333333,
              "#9c179e"
             ],
             [
              0.4444444444444444,
              "#bd3786"
             ],
             [
              0.5555555555555556,
              "#d8576b"
             ],
             [
              0.6666666666666666,
              "#ed7953"
             ],
             [
              0.7777777777777778,
              "#fb9f3a"
             ],
             [
              0.8888888888888888,
              "#fdca26"
             ],
             [
              1,
              "#f0f921"
             ]
            ],
            "type": "contour"
           }
          ],
          "contourcarpet": [
           {
            "colorbar": {
             "outlinewidth": 0,
             "ticks": ""
            },
            "type": "contourcarpet"
           }
          ],
          "heatmap": [
           {
            "colorbar": {
             "outlinewidth": 0,
             "ticks": ""
            },
            "colorscale": [
             [
              0,
              "#0d0887"
             ],
             [
              0.1111111111111111,
              "#46039f"
             ],
             [
              0.2222222222222222,
              "#7201a8"
             ],
             [
              0.3333333333333333,
              "#9c179e"
             ],
             [
              0.4444444444444444,
              "#bd3786"
             ],
             [
              0.5555555555555556,
              "#d8576b"
             ],
             [
              0.6666666666666666,
              "#ed7953"
             ],
             [
              0.7777777777777778,
              "#fb9f3a"
             ],
             [
              0.8888888888888888,
              "#fdca26"
             ],
             [
              1,
              "#f0f921"
             ]
            ],
            "type": "heatmap"
           }
          ],
          "heatmapgl": [
           {
            "colorbar": {
             "outlinewidth": 0,
             "ticks": ""
            },
            "colorscale": [
             [
              0,
              "#0d0887"
             ],
             [
              0.1111111111111111,
              "#46039f"
             ],
             [
              0.2222222222222222,
              "#7201a8"
             ],
             [
              0.3333333333333333,
              "#9c179e"
             ],
             [
              0.4444444444444444,
              "#bd3786"
             ],
             [
              0.5555555555555556,
              "#d8576b"
             ],
             [
              0.6666666666666666,
              "#ed7953"
             ],
             [
              0.7777777777777778,
              "#fb9f3a"
             ],
             [
              0.8888888888888888,
              "#fdca26"
             ],
             [
              1,
              "#f0f921"
             ]
            ],
            "type": "heatmapgl"
           }
          ],
          "histogram": [
           {
            "marker": {
             "pattern": {
              "fillmode": "overlay",
              "size": 10,
              "solidity": 0.2
             }
            },
            "type": "histogram"
           }
          ],
          "histogram2d": [
           {
            "colorbar": {
             "outlinewidth": 0,
             "ticks": ""
            },
            "colorscale": [
             [
              0,
              "#0d0887"
             ],
             [
              0.1111111111111111,
              "#46039f"
             ],
             [
              0.2222222222222222,
              "#7201a8"
             ],
             [
              0.3333333333333333,
              "#9c179e"
             ],
             [
              0.4444444444444444,
              "#bd3786"
             ],
             [
              0.5555555555555556,
              "#d8576b"
             ],
             [
              0.6666666666666666,
              "#ed7953"
             ],
             [
              0.7777777777777778,
              "#fb9f3a"
             ],
             [
              0.8888888888888888,
              "#fdca26"
             ],
             [
              1,
              "#f0f921"
             ]
            ],
            "type": "histogram2d"
           }
          ],
          "histogram2dcontour": [
           {
            "colorbar": {
             "outlinewidth": 0,
             "ticks": ""
            },
            "colorscale": [
             [
              0,
              "#0d0887"
             ],
             [
              0.1111111111111111,
              "#46039f"
             ],
             [
              0.2222222222222222,
              "#7201a8"
             ],
             [
              0.3333333333333333,
              "#9c179e"
             ],
             [
              0.4444444444444444,
              "#bd3786"
             ],
             [
              0.5555555555555556,
              "#d8576b"
             ],
             [
              0.6666666666666666,
              "#ed7953"
             ],
             [
              0.7777777777777778,
              "#fb9f3a"
             ],
             [
              0.8888888888888888,
              "#fdca26"
             ],
             [
              1,
              "#f0f921"
             ]
            ],
            "type": "histogram2dcontour"
           }
          ],
          "mesh3d": [
           {
            "colorbar": {
             "outlinewidth": 0,
             "ticks": ""
            },
            "type": "mesh3d"
           }
          ],
          "parcoords": [
           {
            "line": {
             "colorbar": {
              "outlinewidth": 0,
              "ticks": ""
             }
            },
            "type": "parcoords"
           }
          ],
          "pie": [
           {
            "automargin": true,
            "type": "pie"
           }
          ],
          "scatter": [
           {
            "fillpattern": {
             "fillmode": "overlay",
             "size": 10,
             "solidity": 0.2
            },
            "type": "scatter"
           }
          ],
          "scatter3d": [
           {
            "line": {
             "colorbar": {
              "outlinewidth": 0,
              "ticks": ""
             }
            },
            "marker": {
             "colorbar": {
              "outlinewidth": 0,
              "ticks": ""
             }
            },
            "type": "scatter3d"
           }
          ],
          "scattercarpet": [
           {
            "marker": {
             "colorbar": {
              "outlinewidth": 0,
              "ticks": ""
             }
            },
            "type": "scattercarpet"
           }
          ],
          "scattergeo": [
           {
            "marker": {
             "colorbar": {
              "outlinewidth": 0,
              "ticks": ""
             }
            },
            "type": "scattergeo"
           }
          ],
          "scattergl": [
           {
            "marker": {
             "colorbar": {
              "outlinewidth": 0,
              "ticks": ""
             }
            },
            "type": "scattergl"
           }
          ],
          "scattermapbox": [
           {
            "marker": {
             "colorbar": {
              "outlinewidth": 0,
              "ticks": ""
             }
            },
            "type": "scattermapbox"
           }
          ],
          "scatterpolar": [
           {
            "marker": {
             "colorbar": {
              "outlinewidth": 0,
              "ticks": ""
             }
            },
            "type": "scatterpolar"
           }
          ],
          "scatterpolargl": [
           {
            "marker": {
             "colorbar": {
              "outlinewidth": 0,
              "ticks": ""
             }
            },
            "type": "scatterpolargl"
           }
          ],
          "scatterternary": [
           {
            "marker": {
             "colorbar": {
              "outlinewidth": 0,
              "ticks": ""
             }
            },
            "type": "scatterternary"
           }
          ],
          "surface": [
           {
            "colorbar": {
             "outlinewidth": 0,
             "ticks": ""
            },
            "colorscale": [
             [
              0,
              "#0d0887"
             ],
             [
              0.1111111111111111,
              "#46039f"
             ],
             [
              0.2222222222222222,
              "#7201a8"
             ],
             [
              0.3333333333333333,
              "#9c179e"
             ],
             [
              0.4444444444444444,
              "#bd3786"
             ],
             [
              0.5555555555555556,
              "#d8576b"
             ],
             [
              0.6666666666666666,
              "#ed7953"
             ],
             [
              0.7777777777777778,
              "#fb9f3a"
             ],
             [
              0.8888888888888888,
              "#fdca26"
             ],
             [
              1,
              "#f0f921"
             ]
            ],
            "type": "surface"
           }
          ],
          "table": [
           {
            "cells": {
             "fill": {
              "color": "#EBF0F8"
             },
             "line": {
              "color": "white"
             }
            },
            "header": {
             "fill": {
              "color": "#C8D4E3"
             },
             "line": {
              "color": "white"
             }
            },
            "type": "table"
           }
          ]
         },
         "layout": {
          "annotationdefaults": {
           "arrowcolor": "#2a3f5f",
           "arrowhead": 0,
           "arrowwidth": 1
          },
          "autotypenumbers": "strict",
          "coloraxis": {
           "colorbar": {
            "outlinewidth": 0,
            "ticks": ""
           }
          },
          "colorscale": {
           "diverging": [
            [
             0,
             "#8e0152"
            ],
            [
             0.1,
             "#c51b7d"
            ],
            [
             0.2,
             "#de77ae"
            ],
            [
             0.3,
             "#f1b6da"
            ],
            [
             0.4,
             "#fde0ef"
            ],
            [
             0.5,
             "#f7f7f7"
            ],
            [
             0.6,
             "#e6f5d0"
            ],
            [
             0.7,
             "#b8e186"
            ],
            [
             0.8,
             "#7fbc41"
            ],
            [
             0.9,
             "#4d9221"
            ],
            [
             1,
             "#276419"
            ]
           ],
           "sequential": [
            [
             0,
             "#0d0887"
            ],
            [
             0.1111111111111111,
             "#46039f"
            ],
            [
             0.2222222222222222,
             "#7201a8"
            ],
            [
             0.3333333333333333,
             "#9c179e"
            ],
            [
             0.4444444444444444,
             "#bd3786"
            ],
            [
             0.5555555555555556,
             "#d8576b"
            ],
            [
             0.6666666666666666,
             "#ed7953"
            ],
            [
             0.7777777777777778,
             "#fb9f3a"
            ],
            [
             0.8888888888888888,
             "#fdca26"
            ],
            [
             1,
             "#f0f921"
            ]
           ],
           "sequentialminus": [
            [
             0,
             "#0d0887"
            ],
            [
             0.1111111111111111,
             "#46039f"
            ],
            [
             0.2222222222222222,
             "#7201a8"
            ],
            [
             0.3333333333333333,
             "#9c179e"
            ],
            [
             0.4444444444444444,
             "#bd3786"
            ],
            [
             0.5555555555555556,
             "#d8576b"
            ],
            [
             0.6666666666666666,
             "#ed7953"
            ],
            [
             0.7777777777777778,
             "#fb9f3a"
            ],
            [
             0.8888888888888888,
             "#fdca26"
            ],
            [
             1,
             "#f0f921"
            ]
           ]
          },
          "colorway": [
           "#636efa",
           "#EF553B",
           "#00cc96",
           "#ab63fa",
           "#FFA15A",
           "#19d3f3",
           "#FF6692",
           "#B6E880",
           "#FF97FF",
           "#FECB52"
          ],
          "font": {
           "color": "#2a3f5f"
          },
          "geo": {
           "bgcolor": "white",
           "lakecolor": "white",
           "landcolor": "#E5ECF6",
           "showlakes": true,
           "showland": true,
           "subunitcolor": "white"
          },
          "hoverlabel": {
           "align": "left"
          },
          "hovermode": "closest",
          "mapbox": {
           "style": "light"
          },
          "paper_bgcolor": "white",
          "plot_bgcolor": "#E5ECF6",
          "polar": {
           "angularaxis": {
            "gridcolor": "white",
            "linecolor": "white",
            "ticks": ""
           },
           "bgcolor": "#E5ECF6",
           "radialaxis": {
            "gridcolor": "white",
            "linecolor": "white",
            "ticks": ""
           }
          },
          "scene": {
           "xaxis": {
            "backgroundcolor": "#E5ECF6",
            "gridcolor": "white",
            "gridwidth": 2,
            "linecolor": "white",
            "showbackground": true,
            "ticks": "",
            "zerolinecolor": "white"
           },
           "yaxis": {
            "backgroundcolor": "#E5ECF6",
            "gridcolor": "white",
            "gridwidth": 2,
            "linecolor": "white",
            "showbackground": true,
            "ticks": "",
            "zerolinecolor": "white"
           },
           "zaxis": {
            "backgroundcolor": "#E5ECF6",
            "gridcolor": "white",
            "gridwidth": 2,
            "linecolor": "white",
            "showbackground": true,
            "ticks": "",
            "zerolinecolor": "white"
           }
          },
          "shapedefaults": {
           "line": {
            "color": "#2a3f5f"
           }
          },
          "ternary": {
           "aaxis": {
            "gridcolor": "white",
            "linecolor": "white",
            "ticks": ""
           },
           "baxis": {
            "gridcolor": "white",
            "linecolor": "white",
            "ticks": ""
           },
           "bgcolor": "#E5ECF6",
           "caxis": {
            "gridcolor": "white",
            "linecolor": "white",
            "ticks": ""
           }
          },
          "title": {
           "x": 0.05
          },
          "xaxis": {
           "automargin": true,
           "gridcolor": "white",
           "linecolor": "white",
           "ticks": "",
           "title": {
            "standoff": 15
           },
           "zerolinecolor": "white",
           "zerolinewidth": 2
          },
          "yaxis": {
           "automargin": true,
           "gridcolor": "white",
           "linecolor": "white",
           "ticks": "",
           "title": {
            "standoff": 15
           },
           "zerolinecolor": "white",
           "zerolinewidth": 2
          }
         }
        },
        "title": {
         "text": "The site of the Eiffel Tower, ..., W_out"
        }
       }
      }
     },
     "metadata": {},
     "output_type": "display_data"
    }
   ],
   "source": [
    "fig = go.Figure(data=[\n",
    "    go.Bar(name=cities[i], x=x, y=[\n",
    "      np.linalg.norm(diff_df.loc[(eiffel_bases[1], cities[i], \"Paris\", \"W_out\", layer), \"Gradient\"])\n",
    "      for layer in range(12)])\n",
    "    for i in range(1, len(cities))\n",
    "])\n",
    "fig.update_layout(\n",
    "    barmode='stack',\n",
    "    title=f'{eiffel_bases[1]} ..., W_out',\n",
    ")\n",
    "fig.show()"
   ]
  },
  {
   "cell_type": "code",
   "execution_count": 28,
   "id": "15b56ff6",
   "metadata": {},
   "outputs": [
    {
     "data": {
      "application/vnd.plotly.v1+json": {
       "config": {
        "plotlyServerURL": "https://plot.ly"
       },
       "data": [
        {
         "name": "Rome",
         "type": "bar",
         "x": [
          0,
          1,
          2,
          3,
          4,
          5,
          6,
          7,
          8,
          9,
          10,
          11
         ],
         "y": [
          4.005764007568359,
          5.594237327575684,
          5.780695915222168,
          4.5681538581848145,
          4.935033321380615,
          5.505548000335693,
          5.595692157745361,
          4.764581680297852,
          5.2773027420043945,
          4.697780132293701,
          3.3693313598632812,
          2.9690377712249756
         ]
        },
        {
         "name": "Tokyo",
         "type": "bar",
         "x": [
          0,
          1,
          2,
          3,
          4,
          5,
          6,
          7,
          8,
          9,
          10,
          11
         ],
         "y": [
          4.8208231925964355,
          6.588854789733887,
          7.297478199005127,
          5.6225504875183105,
          6.751174449920654,
          6.860004425048828,
          7.001940727233887,
          6.514205455780029,
          7.05139684677124,
          6.353170394897461,
          3.7815277576446533,
          3.1597166061401367
         ]
        },
        {
         "name": "Beijing",
         "type": "bar",
         "x": [
          0,
          1,
          2,
          3,
          4,
          5,
          6,
          7,
          8,
          9,
          10,
          11
         ],
         "y": [
          4.571625232696533,
          6.824886798858643,
          7.340298652648926,
          5.544137477874756,
          6.5955491065979,
          6.444215774536133,
          6.588160514831543,
          5.828740119934082,
          6.570764541625977,
          5.762707710266113,
          3.6317689418792725,
          3.092945098876953
         ]
        },
        {
         "name": "Melbourne",
         "type": "bar",
         "x": [
          0,
          1,
          2,
          3,
          4,
          5,
          6,
          7,
          8,
          9,
          10,
          11
         ],
         "y": [
          4.608736515045166,
          6.287135601043701,
          7.103855133056641,
          5.895137786865234,
          7.132681369781494,
          6.621024131774902,
          6.8859710693359375,
          6.31233024597168,
          6.871501922607422,
          6.840240478515625,
          3.9985902309417725,
          3.5856029987335205
         ]
        }
       ],
       "layout": {
        "barmode": "stack",
        "template": {
         "data": {
          "bar": [
           {
            "error_x": {
             "color": "#2a3f5f"
            },
            "error_y": {
             "color": "#2a3f5f"
            },
            "marker": {
             "line": {
              "color": "#E5ECF6",
              "width": 0.5
             },
             "pattern": {
              "fillmode": "overlay",
              "size": 10,
              "solidity": 0.2
             }
            },
            "type": "bar"
           }
          ],
          "barpolar": [
           {
            "marker": {
             "line": {
              "color": "#E5ECF6",
              "width": 0.5
             },
             "pattern": {
              "fillmode": "overlay",
              "size": 10,
              "solidity": 0.2
             }
            },
            "type": "barpolar"
           }
          ],
          "carpet": [
           {
            "aaxis": {
             "endlinecolor": "#2a3f5f",
             "gridcolor": "white",
             "linecolor": "white",
             "minorgridcolor": "white",
             "startlinecolor": "#2a3f5f"
            },
            "baxis": {
             "endlinecolor": "#2a3f5f",
             "gridcolor": "white",
             "linecolor": "white",
             "minorgridcolor": "white",
             "startlinecolor": "#2a3f5f"
            },
            "type": "carpet"
           }
          ],
          "choropleth": [
           {
            "colorbar": {
             "outlinewidth": 0,
             "ticks": ""
            },
            "type": "choropleth"
           }
          ],
          "contour": [
           {
            "colorbar": {
             "outlinewidth": 0,
             "ticks": ""
            },
            "colorscale": [
             [
              0,
              "#0d0887"
             ],
             [
              0.1111111111111111,
              "#46039f"
             ],
             [
              0.2222222222222222,
              "#7201a8"
             ],
             [
              0.3333333333333333,
              "#9c179e"
             ],
             [
              0.4444444444444444,
              "#bd3786"
             ],
             [
              0.5555555555555556,
              "#d8576b"
             ],
             [
              0.6666666666666666,
              "#ed7953"
             ],
             [
              0.7777777777777778,
              "#fb9f3a"
             ],
             [
              0.8888888888888888,
              "#fdca26"
             ],
             [
              1,
              "#f0f921"
             ]
            ],
            "type": "contour"
           }
          ],
          "contourcarpet": [
           {
            "colorbar": {
             "outlinewidth": 0,
             "ticks": ""
            },
            "type": "contourcarpet"
           }
          ],
          "heatmap": [
           {
            "colorbar": {
             "outlinewidth": 0,
             "ticks": ""
            },
            "colorscale": [
             [
              0,
              "#0d0887"
             ],
             [
              0.1111111111111111,
              "#46039f"
             ],
             [
              0.2222222222222222,
              "#7201a8"
             ],
             [
              0.3333333333333333,
              "#9c179e"
             ],
             [
              0.4444444444444444,
              "#bd3786"
             ],
             [
              0.5555555555555556,
              "#d8576b"
             ],
             [
              0.6666666666666666,
              "#ed7953"
             ],
             [
              0.7777777777777778,
              "#fb9f3a"
             ],
             [
              0.8888888888888888,
              "#fdca26"
             ],
             [
              1,
              "#f0f921"
             ]
            ],
            "type": "heatmap"
           }
          ],
          "heatmapgl": [
           {
            "colorbar": {
             "outlinewidth": 0,
             "ticks": ""
            },
            "colorscale": [
             [
              0,
              "#0d0887"
             ],
             [
              0.1111111111111111,
              "#46039f"
             ],
             [
              0.2222222222222222,
              "#7201a8"
             ],
             [
              0.3333333333333333,
              "#9c179e"
             ],
             [
              0.4444444444444444,
              "#bd3786"
             ],
             [
              0.5555555555555556,
              "#d8576b"
             ],
             [
              0.6666666666666666,
              "#ed7953"
             ],
             [
              0.7777777777777778,
              "#fb9f3a"
             ],
             [
              0.8888888888888888,
              "#fdca26"
             ],
             [
              1,
              "#f0f921"
             ]
            ],
            "type": "heatmapgl"
           }
          ],
          "histogram": [
           {
            "marker": {
             "pattern": {
              "fillmode": "overlay",
              "size": 10,
              "solidity": 0.2
             }
            },
            "type": "histogram"
           }
          ],
          "histogram2d": [
           {
            "colorbar": {
             "outlinewidth": 0,
             "ticks": ""
            },
            "colorscale": [
             [
              0,
              "#0d0887"
             ],
             [
              0.1111111111111111,
              "#46039f"
             ],
             [
              0.2222222222222222,
              "#7201a8"
             ],
             [
              0.3333333333333333,
              "#9c179e"
             ],
             [
              0.4444444444444444,
              "#bd3786"
             ],
             [
              0.5555555555555556,
              "#d8576b"
             ],
             [
              0.6666666666666666,
              "#ed7953"
             ],
             [
              0.7777777777777778,
              "#fb9f3a"
             ],
             [
              0.8888888888888888,
              "#fdca26"
             ],
             [
              1,
              "#f0f921"
             ]
            ],
            "type": "histogram2d"
           }
          ],
          "histogram2dcontour": [
           {
            "colorbar": {
             "outlinewidth": 0,
             "ticks": ""
            },
            "colorscale": [
             [
              0,
              "#0d0887"
             ],
             [
              0.1111111111111111,
              "#46039f"
             ],
             [
              0.2222222222222222,
              "#7201a8"
             ],
             [
              0.3333333333333333,
              "#9c179e"
             ],
             [
              0.4444444444444444,
              "#bd3786"
             ],
             [
              0.5555555555555556,
              "#d8576b"
             ],
             [
              0.6666666666666666,
              "#ed7953"
             ],
             [
              0.7777777777777778,
              "#fb9f3a"
             ],
             [
              0.8888888888888888,
              "#fdca26"
             ],
             [
              1,
              "#f0f921"
             ]
            ],
            "type": "histogram2dcontour"
           }
          ],
          "mesh3d": [
           {
            "colorbar": {
             "outlinewidth": 0,
             "ticks": ""
            },
            "type": "mesh3d"
           }
          ],
          "parcoords": [
           {
            "line": {
             "colorbar": {
              "outlinewidth": 0,
              "ticks": ""
             }
            },
            "type": "parcoords"
           }
          ],
          "pie": [
           {
            "automargin": true,
            "type": "pie"
           }
          ],
          "scatter": [
           {
            "fillpattern": {
             "fillmode": "overlay",
             "size": 10,
             "solidity": 0.2
            },
            "type": "scatter"
           }
          ],
          "scatter3d": [
           {
            "line": {
             "colorbar": {
              "outlinewidth": 0,
              "ticks": ""
             }
            },
            "marker": {
             "colorbar": {
              "outlinewidth": 0,
              "ticks": ""
             }
            },
            "type": "scatter3d"
           }
          ],
          "scattercarpet": [
           {
            "marker": {
             "colorbar": {
              "outlinewidth": 0,
              "ticks": ""
             }
            },
            "type": "scattercarpet"
           }
          ],
          "scattergeo": [
           {
            "marker": {
             "colorbar": {
              "outlinewidth": 0,
              "ticks": ""
             }
            },
            "type": "scattergeo"
           }
          ],
          "scattergl": [
           {
            "marker": {
             "colorbar": {
              "outlinewidth": 0,
              "ticks": ""
             }
            },
            "type": "scattergl"
           }
          ],
          "scattermapbox": [
           {
            "marker": {
             "colorbar": {
              "outlinewidth": 0,
              "ticks": ""
             }
            },
            "type": "scattermapbox"
           }
          ],
          "scatterpolar": [
           {
            "marker": {
             "colorbar": {
              "outlinewidth": 0,
              "ticks": ""
             }
            },
            "type": "scatterpolar"
           }
          ],
          "scatterpolargl": [
           {
            "marker": {
             "colorbar": {
              "outlinewidth": 0,
              "ticks": ""
             }
            },
            "type": "scatterpolargl"
           }
          ],
          "scatterternary": [
           {
            "marker": {
             "colorbar": {
              "outlinewidth": 0,
              "ticks": ""
             }
            },
            "type": "scatterternary"
           }
          ],
          "surface": [
           {
            "colorbar": {
             "outlinewidth": 0,
             "ticks": ""
            },
            "colorscale": [
             [
              0,
              "#0d0887"
             ],
             [
              0.1111111111111111,
              "#46039f"
             ],
             [
              0.2222222222222222,
              "#7201a8"
             ],
             [
              0.3333333333333333,
              "#9c179e"
             ],
             [
              0.4444444444444444,
              "#bd3786"
             ],
             [
              0.5555555555555556,
              "#d8576b"
             ],
             [
              0.6666666666666666,
              "#ed7953"
             ],
             [
              0.7777777777777778,
              "#fb9f3a"
             ],
             [
              0.8888888888888888,
              "#fdca26"
             ],
             [
              1,
              "#f0f921"
             ]
            ],
            "type": "surface"
           }
          ],
          "table": [
           {
            "cells": {
             "fill": {
              "color": "#EBF0F8"
             },
             "line": {
              "color": "white"
             }
            },
            "header": {
             "fill": {
              "color": "#C8D4E3"
             },
             "line": {
              "color": "white"
             }
            },
            "type": "table"
           }
          ]
         },
         "layout": {
          "annotationdefaults": {
           "arrowcolor": "#2a3f5f",
           "arrowhead": 0,
           "arrowwidth": 1
          },
          "autotypenumbers": "strict",
          "coloraxis": {
           "colorbar": {
            "outlinewidth": 0,
            "ticks": ""
           }
          },
          "colorscale": {
           "diverging": [
            [
             0,
             "#8e0152"
            ],
            [
             0.1,
             "#c51b7d"
            ],
            [
             0.2,
             "#de77ae"
            ],
            [
             0.3,
             "#f1b6da"
            ],
            [
             0.4,
             "#fde0ef"
            ],
            [
             0.5,
             "#f7f7f7"
            ],
            [
             0.6,
             "#e6f5d0"
            ],
            [
             0.7,
             "#b8e186"
            ],
            [
             0.8,
             "#7fbc41"
            ],
            [
             0.9,
             "#4d9221"
            ],
            [
             1,
             "#276419"
            ]
           ],
           "sequential": [
            [
             0,
             "#0d0887"
            ],
            [
             0.1111111111111111,
             "#46039f"
            ],
            [
             0.2222222222222222,
             "#7201a8"
            ],
            [
             0.3333333333333333,
             "#9c179e"
            ],
            [
             0.4444444444444444,
             "#bd3786"
            ],
            [
             0.5555555555555556,
             "#d8576b"
            ],
            [
             0.6666666666666666,
             "#ed7953"
            ],
            [
             0.7777777777777778,
             "#fb9f3a"
            ],
            [
             0.8888888888888888,
             "#fdca26"
            ],
            [
             1,
             "#f0f921"
            ]
           ],
           "sequentialminus": [
            [
             0,
             "#0d0887"
            ],
            [
             0.1111111111111111,
             "#46039f"
            ],
            [
             0.2222222222222222,
             "#7201a8"
            ],
            [
             0.3333333333333333,
             "#9c179e"
            ],
            [
             0.4444444444444444,
             "#bd3786"
            ],
            [
             0.5555555555555556,
             "#d8576b"
            ],
            [
             0.6666666666666666,
             "#ed7953"
            ],
            [
             0.7777777777777778,
             "#fb9f3a"
            ],
            [
             0.8888888888888888,
             "#fdca26"
            ],
            [
             1,
             "#f0f921"
            ]
           ]
          },
          "colorway": [
           "#636efa",
           "#EF553B",
           "#00cc96",
           "#ab63fa",
           "#FFA15A",
           "#19d3f3",
           "#FF6692",
           "#B6E880",
           "#FF97FF",
           "#FECB52"
          ],
          "font": {
           "color": "#2a3f5f"
          },
          "geo": {
           "bgcolor": "white",
           "lakecolor": "white",
           "landcolor": "#E5ECF6",
           "showlakes": true,
           "showland": true,
           "subunitcolor": "white"
          },
          "hoverlabel": {
           "align": "left"
          },
          "hovermode": "closest",
          "mapbox": {
           "style": "light"
          },
          "paper_bgcolor": "white",
          "plot_bgcolor": "#E5ECF6",
          "polar": {
           "angularaxis": {
            "gridcolor": "white",
            "linecolor": "white",
            "ticks": ""
           },
           "bgcolor": "#E5ECF6",
           "radialaxis": {
            "gridcolor": "white",
            "linecolor": "white",
            "ticks": ""
           }
          },
          "scene": {
           "xaxis": {
            "backgroundcolor": "#E5ECF6",
            "gridcolor": "white",
            "gridwidth": 2,
            "linecolor": "white",
            "showbackground": true,
            "ticks": "",
            "zerolinecolor": "white"
           },
           "yaxis": {
            "backgroundcolor": "#E5ECF6",
            "gridcolor": "white",
            "gridwidth": 2,
            "linecolor": "white",
            "showbackground": true,
            "ticks": "",
            "zerolinecolor": "white"
           },
           "zaxis": {
            "backgroundcolor": "#E5ECF6",
            "gridcolor": "white",
            "gridwidth": 2,
            "linecolor": "white",
            "showbackground": true,
            "ticks": "",
            "zerolinecolor": "white"
           }
          },
          "shapedefaults": {
           "line": {
            "color": "#2a3f5f"
           }
          },
          "ternary": {
           "aaxis": {
            "gridcolor": "white",
            "linecolor": "white",
            "ticks": ""
           },
           "baxis": {
            "gridcolor": "white",
            "linecolor": "white",
            "ticks": ""
           },
           "bgcolor": "#E5ECF6",
           "caxis": {
            "gridcolor": "white",
            "linecolor": "white",
            "ticks": ""
           }
          },
          "title": {
           "x": 0.05
          },
          "xaxis": {
           "automargin": true,
           "gridcolor": "white",
           "linecolor": "white",
           "ticks": "",
           "title": {
            "standoff": 15
           },
           "zerolinecolor": "white",
           "zerolinewidth": 2
          },
          "yaxis": {
           "automargin": true,
           "gridcolor": "white",
           "linecolor": "white",
           "ticks": "",
           "title": {
            "standoff": 15
           },
           "zerolinecolor": "white",
           "zerolinewidth": 2
          }
         }
        },
        "title": {
         "text": "The largest city in France, ..., W_in"
        }
       }
      }
     },
     "metadata": {},
     "output_type": "display_data"
    }
   ],
   "source": [
    "fig = go.Figure(data=[\n",
    "    go.Bar(name=cities[i], x=x, y=[\n",
    "      np.linalg.norm(diff_df.loc[(paris_bases[1], cities[i], \"Paris\", \"W_in\", layer), \"Gradient\"])\n",
    "      for layer in range(12)])\n",
    "    for i in range(1, len(cities))\n",
    "])\n",
    "fig.update_layout(\n",
    "    barmode='stack',\n",
    "    title=f'{paris_bases[1]} ..., W_in',\n",
    ")\n",
    "fig.show()"
   ]
  },
  {
   "cell_type": "code",
   "execution_count": 29,
   "id": "9d5f0920",
   "metadata": {},
   "outputs": [
    {
     "data": {
      "application/vnd.plotly.v1+json": {
       "config": {
        "plotlyServerURL": "https://plot.ly"
       },
       "data": [
        {
         "name": "Rome",
         "type": "bar",
         "x": [
          0,
          1,
          2,
          3,
          4,
          5,
          6,
          7,
          8,
          9,
          10,
          11
         ],
         "y": [
          0.941331684589386,
          0.9765192270278931,
          1.1433740854263306,
          0.916962742805481,
          0.9453662037849426,
          1.0156936645507812,
          0.9352080225944519,
          0.8694874048233032,
          0.759087324142456,
          0.6634612083435059,
          0.5876560807228088,
          0.5175467729568481
         ]
        },
        {
         "name": "Tokyo",
         "type": "bar",
         "x": [
          0,
          1,
          2,
          3,
          4,
          5,
          6,
          7,
          8,
          9,
          10,
          11
         ],
         "y": [
          1.1393498182296753,
          1.1506420373916626,
          1.4170833826065063,
          1.1674638986587524,
          1.243395447731018,
          1.2779682874679565,
          1.2124103307724,
          1.1457433700561523,
          1.0406183004379272,
          0.8273547291755676,
          0.6361368298530579,
          0.541947066783905
         ]
        },
        {
         "name": "Beijing",
         "type": "bar",
         "x": [
          0,
          1,
          2,
          3,
          4,
          5,
          6,
          7,
          8,
          9,
          10,
          11
         ],
         "y": [
          1.1218249797821045,
          1.129874587059021,
          1.3569589853286743,
          1.1481308937072754,
          1.2050362825393677,
          1.1554316282272339,
          1.1068065166473389,
          1.0224848985671997,
          0.9596726298332214,
          0.7655143141746521,
          0.6261239647865295,
          0.5387469530105591
         ]
        },
        {
         "name": "Melbourne",
         "type": "bar",
         "x": [
          0,
          1,
          2,
          3,
          4,
          5,
          6,
          7,
          8,
          9,
          10,
          11
         ],
         "y": [
          1.1106380224227905,
          1.098722219467163,
          1.3654327392578125,
          1.2042580842971802,
          1.2934770584106445,
          1.2377510070800781,
          1.1701769828796387,
          1.0991657972335815,
          1.0270932912826538,
          0.848619818687439,
          0.663072407245636,
          0.5706413984298706
         ]
        }
       ],
       "layout": {
        "barmode": "stack",
        "template": {
         "data": {
          "bar": [
           {
            "error_x": {
             "color": "#2a3f5f"
            },
            "error_y": {
             "color": "#2a3f5f"
            },
            "marker": {
             "line": {
              "color": "#E5ECF6",
              "width": 0.5
             },
             "pattern": {
              "fillmode": "overlay",
              "size": 10,
              "solidity": 0.2
             }
            },
            "type": "bar"
           }
          ],
          "barpolar": [
           {
            "marker": {
             "line": {
              "color": "#E5ECF6",
              "width": 0.5
             },
             "pattern": {
              "fillmode": "overlay",
              "size": 10,
              "solidity": 0.2
             }
            },
            "type": "barpolar"
           }
          ],
          "carpet": [
           {
            "aaxis": {
             "endlinecolor": "#2a3f5f",
             "gridcolor": "white",
             "linecolor": "white",
             "minorgridcolor": "white",
             "startlinecolor": "#2a3f5f"
            },
            "baxis": {
             "endlinecolor": "#2a3f5f",
             "gridcolor": "white",
             "linecolor": "white",
             "minorgridcolor": "white",
             "startlinecolor": "#2a3f5f"
            },
            "type": "carpet"
           }
          ],
          "choropleth": [
           {
            "colorbar": {
             "outlinewidth": 0,
             "ticks": ""
            },
            "type": "choropleth"
           }
          ],
          "contour": [
           {
            "colorbar": {
             "outlinewidth": 0,
             "ticks": ""
            },
            "colorscale": [
             [
              0,
              "#0d0887"
             ],
             [
              0.1111111111111111,
              "#46039f"
             ],
             [
              0.2222222222222222,
              "#7201a8"
             ],
             [
              0.3333333333333333,
              "#9c179e"
             ],
             [
              0.4444444444444444,
              "#bd3786"
             ],
             [
              0.5555555555555556,
              "#d8576b"
             ],
             [
              0.6666666666666666,
              "#ed7953"
             ],
             [
              0.7777777777777778,
              "#fb9f3a"
             ],
             [
              0.8888888888888888,
              "#fdca26"
             ],
             [
              1,
              "#f0f921"
             ]
            ],
            "type": "contour"
           }
          ],
          "contourcarpet": [
           {
            "colorbar": {
             "outlinewidth": 0,
             "ticks": ""
            },
            "type": "contourcarpet"
           }
          ],
          "heatmap": [
           {
            "colorbar": {
             "outlinewidth": 0,
             "ticks": ""
            },
            "colorscale": [
             [
              0,
              "#0d0887"
             ],
             [
              0.1111111111111111,
              "#46039f"
             ],
             [
              0.2222222222222222,
              "#7201a8"
             ],
             [
              0.3333333333333333,
              "#9c179e"
             ],
             [
              0.4444444444444444,
              "#bd3786"
             ],
             [
              0.5555555555555556,
              "#d8576b"
             ],
             [
              0.6666666666666666,
              "#ed7953"
             ],
             [
              0.7777777777777778,
              "#fb9f3a"
             ],
             [
              0.8888888888888888,
              "#fdca26"
             ],
             [
              1,
              "#f0f921"
             ]
            ],
            "type": "heatmap"
           }
          ],
          "heatmapgl": [
           {
            "colorbar": {
             "outlinewidth": 0,
             "ticks": ""
            },
            "colorscale": [
             [
              0,
              "#0d0887"
             ],
             [
              0.1111111111111111,
              "#46039f"
             ],
             [
              0.2222222222222222,
              "#7201a8"
             ],
             [
              0.3333333333333333,
              "#9c179e"
             ],
             [
              0.4444444444444444,
              "#bd3786"
             ],
             [
              0.5555555555555556,
              "#d8576b"
             ],
             [
              0.6666666666666666,
              "#ed7953"
             ],
             [
              0.7777777777777778,
              "#fb9f3a"
             ],
             [
              0.8888888888888888,
              "#fdca26"
             ],
             [
              1,
              "#f0f921"
             ]
            ],
            "type": "heatmapgl"
           }
          ],
          "histogram": [
           {
            "marker": {
             "pattern": {
              "fillmode": "overlay",
              "size": 10,
              "solidity": 0.2
             }
            },
            "type": "histogram"
           }
          ],
          "histogram2d": [
           {
            "colorbar": {
             "outlinewidth": 0,
             "ticks": ""
            },
            "colorscale": [
             [
              0,
              "#0d0887"
             ],
             [
              0.1111111111111111,
              "#46039f"
             ],
             [
              0.2222222222222222,
              "#7201a8"
             ],
             [
              0.3333333333333333,
              "#9c179e"
             ],
             [
              0.4444444444444444,
              "#bd3786"
             ],
             [
              0.5555555555555556,
              "#d8576b"
             ],
             [
              0.6666666666666666,
              "#ed7953"
             ],
             [
              0.7777777777777778,
              "#fb9f3a"
             ],
             [
              0.8888888888888888,
              "#fdca26"
             ],
             [
              1,
              "#f0f921"
             ]
            ],
            "type": "histogram2d"
           }
          ],
          "histogram2dcontour": [
           {
            "colorbar": {
             "outlinewidth": 0,
             "ticks": ""
            },
            "colorscale": [
             [
              0,
              "#0d0887"
             ],
             [
              0.1111111111111111,
              "#46039f"
             ],
             [
              0.2222222222222222,
              "#7201a8"
             ],
             [
              0.3333333333333333,
              "#9c179e"
             ],
             [
              0.4444444444444444,
              "#bd3786"
             ],
             [
              0.5555555555555556,
              "#d8576b"
             ],
             [
              0.6666666666666666,
              "#ed7953"
             ],
             [
              0.7777777777777778,
              "#fb9f3a"
             ],
             [
              0.8888888888888888,
              "#fdca26"
             ],
             [
              1,
              "#f0f921"
             ]
            ],
            "type": "histogram2dcontour"
           }
          ],
          "mesh3d": [
           {
            "colorbar": {
             "outlinewidth": 0,
             "ticks": ""
            },
            "type": "mesh3d"
           }
          ],
          "parcoords": [
           {
            "line": {
             "colorbar": {
              "outlinewidth": 0,
              "ticks": ""
             }
            },
            "type": "parcoords"
           }
          ],
          "pie": [
           {
            "automargin": true,
            "type": "pie"
           }
          ],
          "scatter": [
           {
            "fillpattern": {
             "fillmode": "overlay",
             "size": 10,
             "solidity": 0.2
            },
            "type": "scatter"
           }
          ],
          "scatter3d": [
           {
            "line": {
             "colorbar": {
              "outlinewidth": 0,
              "ticks": ""
             }
            },
            "marker": {
             "colorbar": {
              "outlinewidth": 0,
              "ticks": ""
             }
            },
            "type": "scatter3d"
           }
          ],
          "scattercarpet": [
           {
            "marker": {
             "colorbar": {
              "outlinewidth": 0,
              "ticks": ""
             }
            },
            "type": "scattercarpet"
           }
          ],
          "scattergeo": [
           {
            "marker": {
             "colorbar": {
              "outlinewidth": 0,
              "ticks": ""
             }
            },
            "type": "scattergeo"
           }
          ],
          "scattergl": [
           {
            "marker": {
             "colorbar": {
              "outlinewidth": 0,
              "ticks": ""
             }
            },
            "type": "scattergl"
           }
          ],
          "scattermapbox": [
           {
            "marker": {
             "colorbar": {
              "outlinewidth": 0,
              "ticks": ""
             }
            },
            "type": "scattermapbox"
           }
          ],
          "scatterpolar": [
           {
            "marker": {
             "colorbar": {
              "outlinewidth": 0,
              "ticks": ""
             }
            },
            "type": "scatterpolar"
           }
          ],
          "scatterpolargl": [
           {
            "marker": {
             "colorbar": {
              "outlinewidth": 0,
              "ticks": ""
             }
            },
            "type": "scatterpolargl"
           }
          ],
          "scatterternary": [
           {
            "marker": {
             "colorbar": {
              "outlinewidth": 0,
              "ticks": ""
             }
            },
            "type": "scatterternary"
           }
          ],
          "surface": [
           {
            "colorbar": {
             "outlinewidth": 0,
             "ticks": ""
            },
            "colorscale": [
             [
              0,
              "#0d0887"
             ],
             [
              0.1111111111111111,
              "#46039f"
             ],
             [
              0.2222222222222222,
              "#7201a8"
             ],
             [
              0.3333333333333333,
              "#9c179e"
             ],
             [
              0.4444444444444444,
              "#bd3786"
             ],
             [
              0.5555555555555556,
              "#d8576b"
             ],
             [
              0.6666666666666666,
              "#ed7953"
             ],
             [
              0.7777777777777778,
              "#fb9f3a"
             ],
             [
              0.8888888888888888,
              "#fdca26"
             ],
             [
              1,
              "#f0f921"
             ]
            ],
            "type": "surface"
           }
          ],
          "table": [
           {
            "cells": {
             "fill": {
              "color": "#EBF0F8"
             },
             "line": {
              "color": "white"
             }
            },
            "header": {
             "fill": {
              "color": "#C8D4E3"
             },
             "line": {
              "color": "white"
             }
            },
            "type": "table"
           }
          ]
         },
         "layout": {
          "annotationdefaults": {
           "arrowcolor": "#2a3f5f",
           "arrowhead": 0,
           "arrowwidth": 1
          },
          "autotypenumbers": "strict",
          "coloraxis": {
           "colorbar": {
            "outlinewidth": 0,
            "ticks": ""
           }
          },
          "colorscale": {
           "diverging": [
            [
             0,
             "#8e0152"
            ],
            [
             0.1,
             "#c51b7d"
            ],
            [
             0.2,
             "#de77ae"
            ],
            [
             0.3,
             "#f1b6da"
            ],
            [
             0.4,
             "#fde0ef"
            ],
            [
             0.5,
             "#f7f7f7"
            ],
            [
             0.6,
             "#e6f5d0"
            ],
            [
             0.7,
             "#b8e186"
            ],
            [
             0.8,
             "#7fbc41"
            ],
            [
             0.9,
             "#4d9221"
            ],
            [
             1,
             "#276419"
            ]
           ],
           "sequential": [
            [
             0,
             "#0d0887"
            ],
            [
             0.1111111111111111,
             "#46039f"
            ],
            [
             0.2222222222222222,
             "#7201a8"
            ],
            [
             0.3333333333333333,
             "#9c179e"
            ],
            [
             0.4444444444444444,
             "#bd3786"
            ],
            [
             0.5555555555555556,
             "#d8576b"
            ],
            [
             0.6666666666666666,
             "#ed7953"
            ],
            [
             0.7777777777777778,
             "#fb9f3a"
            ],
            [
             0.8888888888888888,
             "#fdca26"
            ],
            [
             1,
             "#f0f921"
            ]
           ],
           "sequentialminus": [
            [
             0,
             "#0d0887"
            ],
            [
             0.1111111111111111,
             "#46039f"
            ],
            [
             0.2222222222222222,
             "#7201a8"
            ],
            [
             0.3333333333333333,
             "#9c179e"
            ],
            [
             0.4444444444444444,
             "#bd3786"
            ],
            [
             0.5555555555555556,
             "#d8576b"
            ],
            [
             0.6666666666666666,
             "#ed7953"
            ],
            [
             0.7777777777777778,
             "#fb9f3a"
            ],
            [
             0.8888888888888888,
             "#fdca26"
            ],
            [
             1,
             "#f0f921"
            ]
           ]
          },
          "colorway": [
           "#636efa",
           "#EF553B",
           "#00cc96",
           "#ab63fa",
           "#FFA15A",
           "#19d3f3",
           "#FF6692",
           "#B6E880",
           "#FF97FF",
           "#FECB52"
          ],
          "font": {
           "color": "#2a3f5f"
          },
          "geo": {
           "bgcolor": "white",
           "lakecolor": "white",
           "landcolor": "#E5ECF6",
           "showlakes": true,
           "showland": true,
           "subunitcolor": "white"
          },
          "hoverlabel": {
           "align": "left"
          },
          "hovermode": "closest",
          "mapbox": {
           "style": "light"
          },
          "paper_bgcolor": "white",
          "plot_bgcolor": "#E5ECF6",
          "polar": {
           "angularaxis": {
            "gridcolor": "white",
            "linecolor": "white",
            "ticks": ""
           },
           "bgcolor": "#E5ECF6",
           "radialaxis": {
            "gridcolor": "white",
            "linecolor": "white",
            "ticks": ""
           }
          },
          "scene": {
           "xaxis": {
            "backgroundcolor": "#E5ECF6",
            "gridcolor": "white",
            "gridwidth": 2,
            "linecolor": "white",
            "showbackground": true,
            "ticks": "",
            "zerolinecolor": "white"
           },
           "yaxis": {
            "backgroundcolor": "#E5ECF6",
            "gridcolor": "white",
            "gridwidth": 2,
            "linecolor": "white",
            "showbackground": true,
            "ticks": "",
            "zerolinecolor": "white"
           },
           "zaxis": {
            "backgroundcolor": "#E5ECF6",
            "gridcolor": "white",
            "gridwidth": 2,
            "linecolor": "white",
            "showbackground": true,
            "ticks": "",
            "zerolinecolor": "white"
           }
          },
          "shapedefaults": {
           "line": {
            "color": "#2a3f5f"
           }
          },
          "ternary": {
           "aaxis": {
            "gridcolor": "white",
            "linecolor": "white",
            "ticks": ""
           },
           "baxis": {
            "gridcolor": "white",
            "linecolor": "white",
            "ticks": ""
           },
           "bgcolor": "#E5ECF6",
           "caxis": {
            "gridcolor": "white",
            "linecolor": "white",
            "ticks": ""
           }
          },
          "title": {
           "x": 0.05
          },
          "xaxis": {
           "automargin": true,
           "gridcolor": "white",
           "linecolor": "white",
           "ticks": "",
           "title": {
            "standoff": 15
           },
           "zerolinecolor": "white",
           "zerolinewidth": 2
          },
          "yaxis": {
           "automargin": true,
           "gridcolor": "white",
           "linecolor": "white",
           "ticks": "",
           "title": {
            "standoff": 15
           },
           "zerolinecolor": "white",
           "zerolinewidth": 2
          }
         }
        },
        "title": {
         "text": "The largest city in France, ..., W_out"
        }
       }
      }
     },
     "metadata": {},
     "output_type": "display_data"
    }
   ],
   "source": [
    "fig = go.Figure(data=[\n",
    "    go.Bar(name=cities[i], x=x, y=[\n",
    "      np.linalg.norm(diff_df.loc[(paris_bases[1], cities[i], \"Paris\", \"W_out\", layer), \"Gradient\"])\n",
    "      for layer in range(12)])\n",
    "    for i in range(1, len(cities))\n",
    "])\n",
    "fig.update_layout(\n",
    "    barmode='stack',\n",
    "    title=f'{paris_bases[1]} ..., W_out',\n",
    ")\n",
    "fig.show()"
   ]
  },
  {
   "cell_type": "code",
   "execution_count": 30,
   "id": "995077d8",
   "metadata": {},
   "outputs": [
    {
     "data": {
      "application/vnd.plotly.v1+json": {
       "config": {
        "plotlyServerURL": "https://plot.ly"
       },
       "data": [
        {
         "name": "Paris",
         "type": "bar",
         "x": [
          0,
          1,
          2,
          3,
          4,
          5,
          6,
          7,
          8,
          9,
          10,
          11
         ],
         "y": [
          6.239906311035156,
          10.083717346191406,
          9.2188138961792,
          7.873824596405029,
          7.640127182006836,
          6.887698173522949,
          7.086000442504883,
          6.421299457550049,
          6.954098701477051,
          4.699828147888184,
          4.2876434326171875,
          3.825321674346924
         ]
        },
        {
         "name": "Tokyo",
         "type": "bar",
         "x": [
          0,
          1,
          2,
          3,
          4,
          5,
          6,
          7,
          8,
          9,
          10,
          11
         ],
         "y": [
          8.966456413269043,
          14.806377410888672,
          13.413429260253906,
          11.582237243652344,
          11.182648658752441,
          9.944011688232422,
          9.648371696472168,
          8.712018013000488,
          10.175448417663574,
          5.204906940460205,
          4.388223171234131,
          3.9872002601623535
         ]
        },
        {
         "name": "Beijing",
         "type": "bar",
         "x": [
          0,
          1,
          2,
          3,
          4,
          5,
          6,
          7,
          8,
          9,
          10,
          11
         ],
         "y": [
          10.357359886169434,
          17.016395568847656,
          15.22916030883789,
          13.348888397216797,
          12.917994499206543,
          11.483560562133789,
          10.939641952514648,
          9.530250549316406,
          10.963418006896973,
          5.5201945304870605,
          4.649734020233154,
          4.003506660461426
         ]
        },
        {
         "name": "Melbourne",
         "type": "bar",
         "x": [
          0,
          1,
          2,
          3,
          4,
          5,
          6,
          7,
          8,
          9,
          10,
          11
         ],
         "y": [
          6.969198226928711,
          10.69609260559082,
          10.125044822692871,
          8.279152870178223,
          8.48277473449707,
          7.588627815246582,
          7.501538276672363,
          7.430481910705566,
          9.109553337097168,
          6.8413987159729,
          4.825814723968506,
          4.8451738357543945
         ]
        }
       ],
       "layout": {
        "barmode": "stack",
        "template": {
         "data": {
          "bar": [
           {
            "error_x": {
             "color": "#2a3f5f"
            },
            "error_y": {
             "color": "#2a3f5f"
            },
            "marker": {
             "line": {
              "color": "#E5ECF6",
              "width": 0.5
             },
             "pattern": {
              "fillmode": "overlay",
              "size": 10,
              "solidity": 0.2
             }
            },
            "type": "bar"
           }
          ],
          "barpolar": [
           {
            "marker": {
             "line": {
              "color": "#E5ECF6",
              "width": 0.5
             },
             "pattern": {
              "fillmode": "overlay",
              "size": 10,
              "solidity": 0.2
             }
            },
            "type": "barpolar"
           }
          ],
          "carpet": [
           {
            "aaxis": {
             "endlinecolor": "#2a3f5f",
             "gridcolor": "white",
             "linecolor": "white",
             "minorgridcolor": "white",
             "startlinecolor": "#2a3f5f"
            },
            "baxis": {
             "endlinecolor": "#2a3f5f",
             "gridcolor": "white",
             "linecolor": "white",
             "minorgridcolor": "white",
             "startlinecolor": "#2a3f5f"
            },
            "type": "carpet"
           }
          ],
          "choropleth": [
           {
            "colorbar": {
             "outlinewidth": 0,
             "ticks": ""
            },
            "type": "choropleth"
           }
          ],
          "contour": [
           {
            "colorbar": {
             "outlinewidth": 0,
             "ticks": ""
            },
            "colorscale": [
             [
              0,
              "#0d0887"
             ],
             [
              0.1111111111111111,
              "#46039f"
             ],
             [
              0.2222222222222222,
              "#7201a8"
             ],
             [
              0.3333333333333333,
              "#9c179e"
             ],
             [
              0.4444444444444444,
              "#bd3786"
             ],
             [
              0.5555555555555556,
              "#d8576b"
             ],
             [
              0.6666666666666666,
              "#ed7953"
             ],
             [
              0.7777777777777778,
              "#fb9f3a"
             ],
             [
              0.8888888888888888,
              "#fdca26"
             ],
             [
              1,
              "#f0f921"
             ]
            ],
            "type": "contour"
           }
          ],
          "contourcarpet": [
           {
            "colorbar": {
             "outlinewidth": 0,
             "ticks": ""
            },
            "type": "contourcarpet"
           }
          ],
          "heatmap": [
           {
            "colorbar": {
             "outlinewidth": 0,
             "ticks": ""
            },
            "colorscale": [
             [
              0,
              "#0d0887"
             ],
             [
              0.1111111111111111,
              "#46039f"
             ],
             [
              0.2222222222222222,
              "#7201a8"
             ],
             [
              0.3333333333333333,
              "#9c179e"
             ],
             [
              0.4444444444444444,
              "#bd3786"
             ],
             [
              0.5555555555555556,
              "#d8576b"
             ],
             [
              0.6666666666666666,
              "#ed7953"
             ],
             [
              0.7777777777777778,
              "#fb9f3a"
             ],
             [
              0.8888888888888888,
              "#fdca26"
             ],
             [
              1,
              "#f0f921"
             ]
            ],
            "type": "heatmap"
           }
          ],
          "heatmapgl": [
           {
            "colorbar": {
             "outlinewidth": 0,
             "ticks": ""
            },
            "colorscale": [
             [
              0,
              "#0d0887"
             ],
             [
              0.1111111111111111,
              "#46039f"
             ],
             [
              0.2222222222222222,
              "#7201a8"
             ],
             [
              0.3333333333333333,
              "#9c179e"
             ],
             [
              0.4444444444444444,
              "#bd3786"
             ],
             [
              0.5555555555555556,
              "#d8576b"
             ],
             [
              0.6666666666666666,
              "#ed7953"
             ],
             [
              0.7777777777777778,
              "#fb9f3a"
             ],
             [
              0.8888888888888888,
              "#fdca26"
             ],
             [
              1,
              "#f0f921"
             ]
            ],
            "type": "heatmapgl"
           }
          ],
          "histogram": [
           {
            "marker": {
             "pattern": {
              "fillmode": "overlay",
              "size": 10,
              "solidity": 0.2
             }
            },
            "type": "histogram"
           }
          ],
          "histogram2d": [
           {
            "colorbar": {
             "outlinewidth": 0,
             "ticks": ""
            },
            "colorscale": [
             [
              0,
              "#0d0887"
             ],
             [
              0.1111111111111111,
              "#46039f"
             ],
             [
              0.2222222222222222,
              "#7201a8"
             ],
             [
              0.3333333333333333,
              "#9c179e"
             ],
             [
              0.4444444444444444,
              "#bd3786"
             ],
             [
              0.5555555555555556,
              "#d8576b"
             ],
             [
              0.6666666666666666,
              "#ed7953"
             ],
             [
              0.7777777777777778,
              "#fb9f3a"
             ],
             [
              0.8888888888888888,
              "#fdca26"
             ],
             [
              1,
              "#f0f921"
             ]
            ],
            "type": "histogram2d"
           }
          ],
          "histogram2dcontour": [
           {
            "colorbar": {
             "outlinewidth": 0,
             "ticks": ""
            },
            "colorscale": [
             [
              0,
              "#0d0887"
             ],
             [
              0.1111111111111111,
              "#46039f"
             ],
             [
              0.2222222222222222,
              "#7201a8"
             ],
             [
              0.3333333333333333,
              "#9c179e"
             ],
             [
              0.4444444444444444,
              "#bd3786"
             ],
             [
              0.5555555555555556,
              "#d8576b"
             ],
             [
              0.6666666666666666,
              "#ed7953"
             ],
             [
              0.7777777777777778,
              "#fb9f3a"
             ],
             [
              0.8888888888888888,
              "#fdca26"
             ],
             [
              1,
              "#f0f921"
             ]
            ],
            "type": "histogram2dcontour"
           }
          ],
          "mesh3d": [
           {
            "colorbar": {
             "outlinewidth": 0,
             "ticks": ""
            },
            "type": "mesh3d"
           }
          ],
          "parcoords": [
           {
            "line": {
             "colorbar": {
              "outlinewidth": 0,
              "ticks": ""
             }
            },
            "type": "parcoords"
           }
          ],
          "pie": [
           {
            "automargin": true,
            "type": "pie"
           }
          ],
          "scatter": [
           {
            "fillpattern": {
             "fillmode": "overlay",
             "size": 10,
             "solidity": 0.2
            },
            "type": "scatter"
           }
          ],
          "scatter3d": [
           {
            "line": {
             "colorbar": {
              "outlinewidth": 0,
              "ticks": ""
             }
            },
            "marker": {
             "colorbar": {
              "outlinewidth": 0,
              "ticks": ""
             }
            },
            "type": "scatter3d"
           }
          ],
          "scattercarpet": [
           {
            "marker": {
             "colorbar": {
              "outlinewidth": 0,
              "ticks": ""
             }
            },
            "type": "scattercarpet"
           }
          ],
          "scattergeo": [
           {
            "marker": {
             "colorbar": {
              "outlinewidth": 0,
              "ticks": ""
             }
            },
            "type": "scattergeo"
           }
          ],
          "scattergl": [
           {
            "marker": {
             "colorbar": {
              "outlinewidth": 0,
              "ticks": ""
             }
            },
            "type": "scattergl"
           }
          ],
          "scattermapbox": [
           {
            "marker": {
             "colorbar": {
              "outlinewidth": 0,
              "ticks": ""
             }
            },
            "type": "scattermapbox"
           }
          ],
          "scatterpolar": [
           {
            "marker": {
             "colorbar": {
              "outlinewidth": 0,
              "ticks": ""
             }
            },
            "type": "scatterpolar"
           }
          ],
          "scatterpolargl": [
           {
            "marker": {
             "colorbar": {
              "outlinewidth": 0,
              "ticks": ""
             }
            },
            "type": "scatterpolargl"
           }
          ],
          "scatterternary": [
           {
            "marker": {
             "colorbar": {
              "outlinewidth": 0,
              "ticks": ""
             }
            },
            "type": "scatterternary"
           }
          ],
          "surface": [
           {
            "colorbar": {
             "outlinewidth": 0,
             "ticks": ""
            },
            "colorscale": [
             [
              0,
              "#0d0887"
             ],
             [
              0.1111111111111111,
              "#46039f"
             ],
             [
              0.2222222222222222,
              "#7201a8"
             ],
             [
              0.3333333333333333,
              "#9c179e"
             ],
             [
              0.4444444444444444,
              "#bd3786"
             ],
             [
              0.5555555555555556,
              "#d8576b"
             ],
             [
              0.6666666666666666,
              "#ed7953"
             ],
             [
              0.7777777777777778,
              "#fb9f3a"
             ],
             [
              0.8888888888888888,
              "#fdca26"
             ],
             [
              1,
              "#f0f921"
             ]
            ],
            "type": "surface"
           }
          ],
          "table": [
           {
            "cells": {
             "fill": {
              "color": "#EBF0F8"
             },
             "line": {
              "color": "white"
             }
            },
            "header": {
             "fill": {
              "color": "#C8D4E3"
             },
             "line": {
              "color": "white"
             }
            },
            "type": "table"
           }
          ]
         },
         "layout": {
          "annotationdefaults": {
           "arrowcolor": "#2a3f5f",
           "arrowhead": 0,
           "arrowwidth": 1
          },
          "autotypenumbers": "strict",
          "coloraxis": {
           "colorbar": {
            "outlinewidth": 0,
            "ticks": ""
           }
          },
          "colorscale": {
           "diverging": [
            [
             0,
             "#8e0152"
            ],
            [
             0.1,
             "#c51b7d"
            ],
            [
             0.2,
             "#de77ae"
            ],
            [
             0.3,
             "#f1b6da"
            ],
            [
             0.4,
             "#fde0ef"
            ],
            [
             0.5,
             "#f7f7f7"
            ],
            [
             0.6,
             "#e6f5d0"
            ],
            [
             0.7,
             "#b8e186"
            ],
            [
             0.8,
             "#7fbc41"
            ],
            [
             0.9,
             "#4d9221"
            ],
            [
             1,
             "#276419"
            ]
           ],
           "sequential": [
            [
             0,
             "#0d0887"
            ],
            [
             0.1111111111111111,
             "#46039f"
            ],
            [
             0.2222222222222222,
             "#7201a8"
            ],
            [
             0.3333333333333333,
             "#9c179e"
            ],
            [
             0.4444444444444444,
             "#bd3786"
            ],
            [
             0.5555555555555556,
             "#d8576b"
            ],
            [
             0.6666666666666666,
             "#ed7953"
            ],
            [
             0.7777777777777778,
             "#fb9f3a"
            ],
            [
             0.8888888888888888,
             "#fdca26"
            ],
            [
             1,
             "#f0f921"
            ]
           ],
           "sequentialminus": [
            [
             0,
             "#0d0887"
            ],
            [
             0.1111111111111111,
             "#46039f"
            ],
            [
             0.2222222222222222,
             "#7201a8"
            ],
            [
             0.3333333333333333,
             "#9c179e"
            ],
            [
             0.4444444444444444,
             "#bd3786"
            ],
            [
             0.5555555555555556,
             "#d8576b"
            ],
            [
             0.6666666666666666,
             "#ed7953"
            ],
            [
             0.7777777777777778,
             "#fb9f3a"
            ],
            [
             0.8888888888888888,
             "#fdca26"
            ],
            [
             1,
             "#f0f921"
            ]
           ]
          },
          "colorway": [
           "#636efa",
           "#EF553B",
           "#00cc96",
           "#ab63fa",
           "#FFA15A",
           "#19d3f3",
           "#FF6692",
           "#B6E880",
           "#FF97FF",
           "#FECB52"
          ],
          "font": {
           "color": "#2a3f5f"
          },
          "geo": {
           "bgcolor": "white",
           "lakecolor": "white",
           "landcolor": "#E5ECF6",
           "showlakes": true,
           "showland": true,
           "subunitcolor": "white"
          },
          "hoverlabel": {
           "align": "left"
          },
          "hovermode": "closest",
          "mapbox": {
           "style": "light"
          },
          "paper_bgcolor": "white",
          "plot_bgcolor": "#E5ECF6",
          "polar": {
           "angularaxis": {
            "gridcolor": "white",
            "linecolor": "white",
            "ticks": ""
           },
           "bgcolor": "#E5ECF6",
           "radialaxis": {
            "gridcolor": "white",
            "linecolor": "white",
            "ticks": ""
           }
          },
          "scene": {
           "xaxis": {
            "backgroundcolor": "#E5ECF6",
            "gridcolor": "white",
            "gridwidth": 2,
            "linecolor": "white",
            "showbackground": true,
            "ticks": "",
            "zerolinecolor": "white"
           },
           "yaxis": {
            "backgroundcolor": "#E5ECF6",
            "gridcolor": "white",
            "gridwidth": 2,
            "linecolor": "white",
            "showbackground": true,
            "ticks": "",
            "zerolinecolor": "white"
           },
           "zaxis": {
            "backgroundcolor": "#E5ECF6",
            "gridcolor": "white",
            "gridwidth": 2,
            "linecolor": "white",
            "showbackground": true,
            "ticks": "",
            "zerolinecolor": "white"
           }
          },
          "shapedefaults": {
           "line": {
            "color": "#2a3f5f"
           }
          },
          "ternary": {
           "aaxis": {
            "gridcolor": "white",
            "linecolor": "white",
            "ticks": ""
           },
           "baxis": {
            "gridcolor": "white",
            "linecolor": "white",
            "ticks": ""
           },
           "bgcolor": "#E5ECF6",
           "caxis": {
            "gridcolor": "white",
            "linecolor": "white",
            "ticks": ""
           }
          },
          "title": {
           "x": 0.05
          },
          "xaxis": {
           "automargin": true,
           "gridcolor": "white",
           "linecolor": "white",
           "ticks": "",
           "title": {
            "standoff": 15
           },
           "zerolinecolor": "white",
           "zerolinewidth": 2
          },
          "yaxis": {
           "automargin": true,
           "gridcolor": "white",
           "linecolor": "white",
           "ticks": "",
           "title": {
            "standoff": 15
           },
           "zerolinecolor": "white",
           "zerolinewidth": 2
          }
         }
        },
        "title": {
         "text": "The capital of Italy is ..., W_in"
        }
       }
      }
     },
     "metadata": {},
     "output_type": "display_data"
    }
   ],
   "source": [
    "fig = go.Figure(data=[\n",
    "    go.Bar(name=cities[i], x=x, y=[\n",
    "      np.linalg.norm(diff_df.loc[(rome_bases[0], cities[i], \"Rome\", \"W_in\", layer), \"Gradient\"])\n",
    "      for layer in range(12)])\n",
    "    for i in range(len(cities)) if i != 1\n",
    "])\n",
    "fig.update_layout(\n",
    "    barmode='stack',\n",
    "    title=f'{rome_bases[0]} ..., W_in',\n",
    ")\n",
    "fig.show()"
   ]
  },
  {
   "cell_type": "code",
   "execution_count": 31,
   "id": "02e76a5b",
   "metadata": {},
   "outputs": [
    {
     "data": {
      "application/vnd.plotly.v1+json": {
       "config": {
        "plotlyServerURL": "https://plot.ly"
       },
       "data": [
        {
         "name": "Paris",
         "type": "bar",
         "x": [
          0,
          1,
          2,
          3,
          4,
          5,
          6,
          7,
          8,
          9,
          10,
          11
         ],
         "y": [
          1.6731646060943604,
          1.7304775714874268,
          1.9143025875091553,
          1.520337700843811,
          1.3343777656555176,
          1.170103669166565,
          1.11894690990448,
          0.9162154793739319,
          0.934644877910614,
          0.7419136166572571,
          0.7130900025367737,
          0.6288205981254578
         ]
        },
        {
         "name": "Tokyo",
         "type": "bar",
         "x": [
          0,
          1,
          2,
          3,
          4,
          5,
          6,
          7,
          8,
          9,
          10,
          11
         ],
         "y": [
          2.4728827476501465,
          2.5466480255126953,
          2.7271738052368164,
          2.1900670528411865,
          1.8896901607513428,
          1.6075549125671387,
          1.4868398904800415,
          1.2112071514129639,
          1.270591139793396,
          0.853288471698761,
          0.7800818085670471,
          0.6771876811981201
         ]
        },
        {
         "name": "Beijing",
         "type": "bar",
         "x": [
          0,
          1,
          2,
          3,
          4,
          5,
          6,
          7,
          8,
          9,
          10,
          11
         ],
         "y": [
          2.8465354442596436,
          2.9167234897613525,
          3.1160073280334473,
          2.5506396293640137,
          2.1799511909484863,
          1.8392469882965088,
          1.6733981370925903,
          1.3112541437149048,
          1.3406118154525757,
          0.902251660823822,
          0.7957262992858887,
          0.6762315034866333
         ]
        },
        {
         "name": "Melbourne",
         "type": "bar",
         "x": [
          0,
          1,
          2,
          3,
          4,
          5,
          6,
          7,
          8,
          9,
          10,
          11
         ],
         "y": [
          1.8919817209243774,
          1.8967785835266113,
          2.1033778190612793,
          1.62450110912323,
          1.465256929397583,
          1.2844325304031372,
          1.2378329038619995,
          1.1070584058761597,
          1.2157443761825562,
          0.9054369926452637,
          0.8636930584907532,
          0.7392756342887878
         ]
        }
       ],
       "layout": {
        "barmode": "stack",
        "template": {
         "data": {
          "bar": [
           {
            "error_x": {
             "color": "#2a3f5f"
            },
            "error_y": {
             "color": "#2a3f5f"
            },
            "marker": {
             "line": {
              "color": "#E5ECF6",
              "width": 0.5
             },
             "pattern": {
              "fillmode": "overlay",
              "size": 10,
              "solidity": 0.2
             }
            },
            "type": "bar"
           }
          ],
          "barpolar": [
           {
            "marker": {
             "line": {
              "color": "#E5ECF6",
              "width": 0.5
             },
             "pattern": {
              "fillmode": "overlay",
              "size": 10,
              "solidity": 0.2
             }
            },
            "type": "barpolar"
           }
          ],
          "carpet": [
           {
            "aaxis": {
             "endlinecolor": "#2a3f5f",
             "gridcolor": "white",
             "linecolor": "white",
             "minorgridcolor": "white",
             "startlinecolor": "#2a3f5f"
            },
            "baxis": {
             "endlinecolor": "#2a3f5f",
             "gridcolor": "white",
             "linecolor": "white",
             "minorgridcolor": "white",
             "startlinecolor": "#2a3f5f"
            },
            "type": "carpet"
           }
          ],
          "choropleth": [
           {
            "colorbar": {
             "outlinewidth": 0,
             "ticks": ""
            },
            "type": "choropleth"
           }
          ],
          "contour": [
           {
            "colorbar": {
             "outlinewidth": 0,
             "ticks": ""
            },
            "colorscale": [
             [
              0,
              "#0d0887"
             ],
             [
              0.1111111111111111,
              "#46039f"
             ],
             [
              0.2222222222222222,
              "#7201a8"
             ],
             [
              0.3333333333333333,
              "#9c179e"
             ],
             [
              0.4444444444444444,
              "#bd3786"
             ],
             [
              0.5555555555555556,
              "#d8576b"
             ],
             [
              0.6666666666666666,
              "#ed7953"
             ],
             [
              0.7777777777777778,
              "#fb9f3a"
             ],
             [
              0.8888888888888888,
              "#fdca26"
             ],
             [
              1,
              "#f0f921"
             ]
            ],
            "type": "contour"
           }
          ],
          "contourcarpet": [
           {
            "colorbar": {
             "outlinewidth": 0,
             "ticks": ""
            },
            "type": "contourcarpet"
           }
          ],
          "heatmap": [
           {
            "colorbar": {
             "outlinewidth": 0,
             "ticks": ""
            },
            "colorscale": [
             [
              0,
              "#0d0887"
             ],
             [
              0.1111111111111111,
              "#46039f"
             ],
             [
              0.2222222222222222,
              "#7201a8"
             ],
             [
              0.3333333333333333,
              "#9c179e"
             ],
             [
              0.4444444444444444,
              "#bd3786"
             ],
             [
              0.5555555555555556,
              "#d8576b"
             ],
             [
              0.6666666666666666,
              "#ed7953"
             ],
             [
              0.7777777777777778,
              "#fb9f3a"
             ],
             [
              0.8888888888888888,
              "#fdca26"
             ],
             [
              1,
              "#f0f921"
             ]
            ],
            "type": "heatmap"
           }
          ],
          "heatmapgl": [
           {
            "colorbar": {
             "outlinewidth": 0,
             "ticks": ""
            },
            "colorscale": [
             [
              0,
              "#0d0887"
             ],
             [
              0.1111111111111111,
              "#46039f"
             ],
             [
              0.2222222222222222,
              "#7201a8"
             ],
             [
              0.3333333333333333,
              "#9c179e"
             ],
             [
              0.4444444444444444,
              "#bd3786"
             ],
             [
              0.5555555555555556,
              "#d8576b"
             ],
             [
              0.6666666666666666,
              "#ed7953"
             ],
             [
              0.7777777777777778,
              "#fb9f3a"
             ],
             [
              0.8888888888888888,
              "#fdca26"
             ],
             [
              1,
              "#f0f921"
             ]
            ],
            "type": "heatmapgl"
           }
          ],
          "histogram": [
           {
            "marker": {
             "pattern": {
              "fillmode": "overlay",
              "size": 10,
              "solidity": 0.2
             }
            },
            "type": "histogram"
           }
          ],
          "histogram2d": [
           {
            "colorbar": {
             "outlinewidth": 0,
             "ticks": ""
            },
            "colorscale": [
             [
              0,
              "#0d0887"
             ],
             [
              0.1111111111111111,
              "#46039f"
             ],
             [
              0.2222222222222222,
              "#7201a8"
             ],
             [
              0.3333333333333333,
              "#9c179e"
             ],
             [
              0.4444444444444444,
              "#bd3786"
             ],
             [
              0.5555555555555556,
              "#d8576b"
             ],
             [
              0.6666666666666666,
              "#ed7953"
             ],
             [
              0.7777777777777778,
              "#fb9f3a"
             ],
             [
              0.8888888888888888,
              "#fdca26"
             ],
             [
              1,
              "#f0f921"
             ]
            ],
            "type": "histogram2d"
           }
          ],
          "histogram2dcontour": [
           {
            "colorbar": {
             "outlinewidth": 0,
             "ticks": ""
            },
            "colorscale": [
             [
              0,
              "#0d0887"
             ],
             [
              0.1111111111111111,
              "#46039f"
             ],
             [
              0.2222222222222222,
              "#7201a8"
             ],
             [
              0.3333333333333333,
              "#9c179e"
             ],
             [
              0.4444444444444444,
              "#bd3786"
             ],
             [
              0.5555555555555556,
              "#d8576b"
             ],
             [
              0.6666666666666666,
              "#ed7953"
             ],
             [
              0.7777777777777778,
              "#fb9f3a"
             ],
             [
              0.8888888888888888,
              "#fdca26"
             ],
             [
              1,
              "#f0f921"
             ]
            ],
            "type": "histogram2dcontour"
           }
          ],
          "mesh3d": [
           {
            "colorbar": {
             "outlinewidth": 0,
             "ticks": ""
            },
            "type": "mesh3d"
           }
          ],
          "parcoords": [
           {
            "line": {
             "colorbar": {
              "outlinewidth": 0,
              "ticks": ""
             }
            },
            "type": "parcoords"
           }
          ],
          "pie": [
           {
            "automargin": true,
            "type": "pie"
           }
          ],
          "scatter": [
           {
            "fillpattern": {
             "fillmode": "overlay",
             "size": 10,
             "solidity": 0.2
            },
            "type": "scatter"
           }
          ],
          "scatter3d": [
           {
            "line": {
             "colorbar": {
              "outlinewidth": 0,
              "ticks": ""
             }
            },
            "marker": {
             "colorbar": {
              "outlinewidth": 0,
              "ticks": ""
             }
            },
            "type": "scatter3d"
           }
          ],
          "scattercarpet": [
           {
            "marker": {
             "colorbar": {
              "outlinewidth": 0,
              "ticks": ""
             }
            },
            "type": "scattercarpet"
           }
          ],
          "scattergeo": [
           {
            "marker": {
             "colorbar": {
              "outlinewidth": 0,
              "ticks": ""
             }
            },
            "type": "scattergeo"
           }
          ],
          "scattergl": [
           {
            "marker": {
             "colorbar": {
              "outlinewidth": 0,
              "ticks": ""
             }
            },
            "type": "scattergl"
           }
          ],
          "scattermapbox": [
           {
            "marker": {
             "colorbar": {
              "outlinewidth": 0,
              "ticks": ""
             }
            },
            "type": "scattermapbox"
           }
          ],
          "scatterpolar": [
           {
            "marker": {
             "colorbar": {
              "outlinewidth": 0,
              "ticks": ""
             }
            },
            "type": "scatterpolar"
           }
          ],
          "scatterpolargl": [
           {
            "marker": {
             "colorbar": {
              "outlinewidth": 0,
              "ticks": ""
             }
            },
            "type": "scatterpolargl"
           }
          ],
          "scatterternary": [
           {
            "marker": {
             "colorbar": {
              "outlinewidth": 0,
              "ticks": ""
             }
            },
            "type": "scatterternary"
           }
          ],
          "surface": [
           {
            "colorbar": {
             "outlinewidth": 0,
             "ticks": ""
            },
            "colorscale": [
             [
              0,
              "#0d0887"
             ],
             [
              0.1111111111111111,
              "#46039f"
             ],
             [
              0.2222222222222222,
              "#7201a8"
             ],
             [
              0.3333333333333333,
              "#9c179e"
             ],
             [
              0.4444444444444444,
              "#bd3786"
             ],
             [
              0.5555555555555556,
              "#d8576b"
             ],
             [
              0.6666666666666666,
              "#ed7953"
             ],
             [
              0.7777777777777778,
              "#fb9f3a"
             ],
             [
              0.8888888888888888,
              "#fdca26"
             ],
             [
              1,
              "#f0f921"
             ]
            ],
            "type": "surface"
           }
          ],
          "table": [
           {
            "cells": {
             "fill": {
              "color": "#EBF0F8"
             },
             "line": {
              "color": "white"
             }
            },
            "header": {
             "fill": {
              "color": "#C8D4E3"
             },
             "line": {
              "color": "white"
             }
            },
            "type": "table"
           }
          ]
         },
         "layout": {
          "annotationdefaults": {
           "arrowcolor": "#2a3f5f",
           "arrowhead": 0,
           "arrowwidth": 1
          },
          "autotypenumbers": "strict",
          "coloraxis": {
           "colorbar": {
            "outlinewidth": 0,
            "ticks": ""
           }
          },
          "colorscale": {
           "diverging": [
            [
             0,
             "#8e0152"
            ],
            [
             0.1,
             "#c51b7d"
            ],
            [
             0.2,
             "#de77ae"
            ],
            [
             0.3,
             "#f1b6da"
            ],
            [
             0.4,
             "#fde0ef"
            ],
            [
             0.5,
             "#f7f7f7"
            ],
            [
             0.6,
             "#e6f5d0"
            ],
            [
             0.7,
             "#b8e186"
            ],
            [
             0.8,
             "#7fbc41"
            ],
            [
             0.9,
             "#4d9221"
            ],
            [
             1,
             "#276419"
            ]
           ],
           "sequential": [
            [
             0,
             "#0d0887"
            ],
            [
             0.1111111111111111,
             "#46039f"
            ],
            [
             0.2222222222222222,
             "#7201a8"
            ],
            [
             0.3333333333333333,
             "#9c179e"
            ],
            [
             0.4444444444444444,
             "#bd3786"
            ],
            [
             0.5555555555555556,
             "#d8576b"
            ],
            [
             0.6666666666666666,
             "#ed7953"
            ],
            [
             0.7777777777777778,
             "#fb9f3a"
            ],
            [
             0.8888888888888888,
             "#fdca26"
            ],
            [
             1,
             "#f0f921"
            ]
           ],
           "sequentialminus": [
            [
             0,
             "#0d0887"
            ],
            [
             0.1111111111111111,
             "#46039f"
            ],
            [
             0.2222222222222222,
             "#7201a8"
            ],
            [
             0.3333333333333333,
             "#9c179e"
            ],
            [
             0.4444444444444444,
             "#bd3786"
            ],
            [
             0.5555555555555556,
             "#d8576b"
            ],
            [
             0.6666666666666666,
             "#ed7953"
            ],
            [
             0.7777777777777778,
             "#fb9f3a"
            ],
            [
             0.8888888888888888,
             "#fdca26"
            ],
            [
             1,
             "#f0f921"
            ]
           ]
          },
          "colorway": [
           "#636efa",
           "#EF553B",
           "#00cc96",
           "#ab63fa",
           "#FFA15A",
           "#19d3f3",
           "#FF6692",
           "#B6E880",
           "#FF97FF",
           "#FECB52"
          ],
          "font": {
           "color": "#2a3f5f"
          },
          "geo": {
           "bgcolor": "white",
           "lakecolor": "white",
           "landcolor": "#E5ECF6",
           "showlakes": true,
           "showland": true,
           "subunitcolor": "white"
          },
          "hoverlabel": {
           "align": "left"
          },
          "hovermode": "closest",
          "mapbox": {
           "style": "light"
          },
          "paper_bgcolor": "white",
          "plot_bgcolor": "#E5ECF6",
          "polar": {
           "angularaxis": {
            "gridcolor": "white",
            "linecolor": "white",
            "ticks": ""
           },
           "bgcolor": "#E5ECF6",
           "radialaxis": {
            "gridcolor": "white",
            "linecolor": "white",
            "ticks": ""
           }
          },
          "scene": {
           "xaxis": {
            "backgroundcolor": "#E5ECF6",
            "gridcolor": "white",
            "gridwidth": 2,
            "linecolor": "white",
            "showbackground": true,
            "ticks": "",
            "zerolinecolor": "white"
           },
           "yaxis": {
            "backgroundcolor": "#E5ECF6",
            "gridcolor": "white",
            "gridwidth": 2,
            "linecolor": "white",
            "showbackground": true,
            "ticks": "",
            "zerolinecolor": "white"
           },
           "zaxis": {
            "backgroundcolor": "#E5ECF6",
            "gridcolor": "white",
            "gridwidth": 2,
            "linecolor": "white",
            "showbackground": true,
            "ticks": "",
            "zerolinecolor": "white"
           }
          },
          "shapedefaults": {
           "line": {
            "color": "#2a3f5f"
           }
          },
          "ternary": {
           "aaxis": {
            "gridcolor": "white",
            "linecolor": "white",
            "ticks": ""
           },
           "baxis": {
            "gridcolor": "white",
            "linecolor": "white",
            "ticks": ""
           },
           "bgcolor": "#E5ECF6",
           "caxis": {
            "gridcolor": "white",
            "linecolor": "white",
            "ticks": ""
           }
          },
          "title": {
           "x": 0.05
          },
          "xaxis": {
           "automargin": true,
           "gridcolor": "white",
           "linecolor": "white",
           "ticks": "",
           "title": {
            "standoff": 15
           },
           "zerolinecolor": "white",
           "zerolinewidth": 2
          },
          "yaxis": {
           "automargin": true,
           "gridcolor": "white",
           "linecolor": "white",
           "ticks": "",
           "title": {
            "standoff": 15
           },
           "zerolinecolor": "white",
           "zerolinewidth": 2
          }
         }
        },
        "title": {
         "text": "The capital of Italy is ..., W_out"
        }
       }
      }
     },
     "metadata": {},
     "output_type": "display_data"
    }
   ],
   "source": [
    "fig = go.Figure(data=[\n",
    "    go.Bar(name=cities[i], x=x, y=[\n",
    "      np.linalg.norm(diff_df.loc[(rome_bases[0], cities[i], \"Rome\", \"W_out\", layer), \"Gradient\"])\n",
    "      for layer in range(12)])\n",
    "    for i in range(len(cities)) if i != 1\n",
    "])\n",
    "fig.update_layout(\n",
    "    barmode='stack',\n",
    "    title=f'{rome_bases[0]} ..., W_out',\n",
    ")\n",
    "fig.show()"
   ]
  },
  {
   "attachments": {},
   "cell_type": "markdown",
   "id": "9ca463b5",
   "metadata": {},
   "source": [
    "## Neurons\n",
    "\n",
    "Can we localize changes to individual neurons?"
   ]
  },
  {
   "cell_type": "code",
   "execution_count": 33,
   "id": "6ff76230",
   "metadata": {},
   "outputs": [],
   "source": [
    "rows2 = []\n",
    "for (prompt_base, given_answer, correct_answer, matrix, layer), grad in diff_df[\"Gradient\"].items():\n",
    "  neuron_axis = 0 if matrix == 'W_in' else 1\n",
    "  for neuron, magnitude in enumerate(np.linalg.norm(grad, axis=neuron_axis)):\n",
    "    rows2.append((prompt_base, given_answer, correct_answer, matrix, layer, neuron, magnitude))\n",
    "    \n",
    "columns = [\"Base\", \"Given Answer\", \"Correct Answer\", \"Matrix\", \"Layer\", \"Neuron\", \"Magnitude\"]\n",
    "diff_df2 = pd.DataFrame(rows2, columns=columns).set_index([\"Base\", \"Given Answer\", \"Correct Answer\", \"Matrix\", \"Layer\", \"Neuron\"])"
   ]
  },
  {
   "cell_type": "code",
   "execution_count": 34,
   "id": "f58fd60d",
   "metadata": {},
   "outputs": [
    {
     "data": {
      "text/plain": [
       "5013504"
      ]
     },
     "execution_count": 34,
     "metadata": {},
     "output_type": "execute_result"
    }
   ],
   "source": [
    "diff_df2.size"
   ]
  },
  {
   "attachments": {},
   "cell_type": "markdown",
   "id": "16c9fd57",
   "metadata": {},
   "source": [
    "TODO: add histograms to show magnitudes of change\n",
    "TODO: it turns out that only W_in shows up in all of these. Look at W_out as well!"
   ]
  },
  {
   "cell_type": "code",
   "execution_count": 35,
   "id": "f71ec4ad",
   "metadata": {},
   "outputs": [
    {
     "name": "stdout",
     "output_type": "stream",
     "text": [
      "Top 20 neurons with the highest magnitude of change away from Paris\n"
     ]
    },
    {
     "data": {
      "text/html": [
       "<div>\n",
       "<style scoped>\n",
       "    .dataframe tbody tr th:only-of-type {\n",
       "        vertical-align: middle;\n",
       "    }\n",
       "\n",
       "    .dataframe tbody tr th {\n",
       "        vertical-align: top;\n",
       "    }\n",
       "\n",
       "    .dataframe thead th {\n",
       "        text-align: right;\n",
       "    }\n",
       "</style>\n",
       "<table border=\"1\" class=\"dataframe\">\n",
       "  <thead>\n",
       "    <tr style=\"text-align: right;\">\n",
       "      <th></th>\n",
       "      <th></th>\n",
       "      <th></th>\n",
       "      <th></th>\n",
       "      <th></th>\n",
       "      <th></th>\n",
       "      <th>Magnitude</th>\n",
       "    </tr>\n",
       "    <tr>\n",
       "      <th>Base</th>\n",
       "      <th>Given Answer</th>\n",
       "      <th>Correct Answer</th>\n",
       "      <th>Matrix</th>\n",
       "      <th>Layer</th>\n",
       "      <th>Neuron</th>\n",
       "      <th></th>\n",
       "    </tr>\n",
       "  </thead>\n",
       "  <tbody>\n",
       "    <tr>\n",
       "      <th rowspan=\"2\" valign=\"top\">The city known as the City of Lights is</th>\n",
       "      <th>Melbourne</th>\n",
       "      <th>Paris</th>\n",
       "      <th>W_in</th>\n",
       "      <th>11</th>\n",
       "      <th>369</th>\n",
       "      <td>3.498796</td>\n",
       "    </tr>\n",
       "    <tr>\n",
       "      <th>Tokyo</th>\n",
       "      <th>Paris</th>\n",
       "      <th>W_in</th>\n",
       "      <th>11</th>\n",
       "      <th>369</th>\n",
       "      <td>3.428604</td>\n",
       "    </tr>\n",
       "    <tr>\n",
       "      <th>The birthplace of the French Revolution is</th>\n",
       "      <th>Tokyo</th>\n",
       "      <th>Paris</th>\n",
       "      <th>W_in</th>\n",
       "      <th>8</th>\n",
       "      <th>1961</th>\n",
       "      <td>3.424025</td>\n",
       "    </tr>\n",
       "    <tr>\n",
       "      <th>The city known as the City of Lights is</th>\n",
       "      <th>Beijing</th>\n",
       "      <th>Paris</th>\n",
       "      <th>W_in</th>\n",
       "      <th>11</th>\n",
       "      <th>369</th>\n",
       "      <td>3.323885</td>\n",
       "    </tr>\n",
       "    <tr>\n",
       "      <th rowspan=\"2\" valign=\"top\">The capital of France is</th>\n",
       "      <th rowspan=\"2\" valign=\"top\">Tokyo</th>\n",
       "      <th rowspan=\"2\" valign=\"top\">Paris</th>\n",
       "      <th rowspan=\"2\" valign=\"top\">W_in</th>\n",
       "      <th>7</th>\n",
       "      <th>1137</th>\n",
       "      <td>3.304254</td>\n",
       "    </tr>\n",
       "    <tr>\n",
       "      <th>4</th>\n",
       "      <th>1406</th>\n",
       "      <td>3.257752</td>\n",
       "    </tr>\n",
       "    <tr>\n",
       "      <th>The birthplace of the French Revolution is</th>\n",
       "      <th>Tokyo</th>\n",
       "      <th>Paris</th>\n",
       "      <th>W_in</th>\n",
       "      <th>7</th>\n",
       "      <th>1137</th>\n",
       "      <td>3.054942</td>\n",
       "    </tr>\n",
       "    <tr>\n",
       "      <th>The capital of France is</th>\n",
       "      <th>Beijing</th>\n",
       "      <th>Paris</th>\n",
       "      <th>W_in</th>\n",
       "      <th>4</th>\n",
       "      <th>1406</th>\n",
       "      <td>2.982404</td>\n",
       "    </tr>\n",
       "    <tr>\n",
       "      <th>The birthplace of the French Revolution is</th>\n",
       "      <th>Beijing</th>\n",
       "      <th>Paris</th>\n",
       "      <th>W_in</th>\n",
       "      <th>8</th>\n",
       "      <th>1961</th>\n",
       "      <td>2.978161</td>\n",
       "    </tr>\n",
       "    <tr>\n",
       "      <th>The capital of France is</th>\n",
       "      <th>Beijing</th>\n",
       "      <th>Paris</th>\n",
       "      <th>W_in</th>\n",
       "      <th>7</th>\n",
       "      <th>1137</th>\n",
       "      <td>2.952579</td>\n",
       "    </tr>\n",
       "    <tr>\n",
       "      <th>The birthplace of the French Revolution is</th>\n",
       "      <th>Tokyo</th>\n",
       "      <th>Paris</th>\n",
       "      <th>W_in</th>\n",
       "      <th>8</th>\n",
       "      <th>428</th>\n",
       "      <td>2.895690</td>\n",
       "    </tr>\n",
       "    <tr>\n",
       "      <th>The capital of France is</th>\n",
       "      <th>Tokyo</th>\n",
       "      <th>Paris</th>\n",
       "      <th>W_in</th>\n",
       "      <th>8</th>\n",
       "      <th>1961</th>\n",
       "      <td>2.869446</td>\n",
       "    </tr>\n",
       "    <tr>\n",
       "      <th>The city known as the City of Lights is</th>\n",
       "      <th>Rome</th>\n",
       "      <th>Paris</th>\n",
       "      <th>W_in</th>\n",
       "      <th>11</th>\n",
       "      <th>369</th>\n",
       "      <td>2.818926</td>\n",
       "    </tr>\n",
       "    <tr>\n",
       "      <th rowspan=\"6\" valign=\"top\">The capital of France is</th>\n",
       "      <th>Beijing</th>\n",
       "      <th>Paris</th>\n",
       "      <th>W_in</th>\n",
       "      <th>8</th>\n",
       "      <th>641</th>\n",
       "      <td>2.810137</td>\n",
       "    </tr>\n",
       "    <tr>\n",
       "      <th rowspan=\"2\" valign=\"top\">Tokyo</th>\n",
       "      <th rowspan=\"2\" valign=\"top\">Paris</th>\n",
       "      <th rowspan=\"2\" valign=\"top\">W_in</th>\n",
       "      <th rowspan=\"2\" valign=\"top\">8</th>\n",
       "      <th>428</th>\n",
       "      <td>2.790907</td>\n",
       "    </tr>\n",
       "    <tr>\n",
       "      <th>641</th>\n",
       "      <td>2.788456</td>\n",
       "    </tr>\n",
       "    <tr>\n",
       "      <th>Melbourne</th>\n",
       "      <th>Paris</th>\n",
       "      <th>W_in</th>\n",
       "      <th>9</th>\n",
       "      <th>1090</th>\n",
       "      <td>2.751420</td>\n",
       "    </tr>\n",
       "    <tr>\n",
       "      <th rowspan=\"2\" valign=\"top\">Beijing</th>\n",
       "      <th rowspan=\"2\" valign=\"top\">Paris</th>\n",
       "      <th rowspan=\"2\" valign=\"top\">W_in</th>\n",
       "      <th rowspan=\"2\" valign=\"top\">8</th>\n",
       "      <th>1961</th>\n",
       "      <td>2.727926</td>\n",
       "    </tr>\n",
       "    <tr>\n",
       "      <th>428</th>\n",
       "      <td>2.706186</td>\n",
       "    </tr>\n",
       "    <tr>\n",
       "      <th>The largest city in France,</th>\n",
       "      <th>Tokyo</th>\n",
       "      <th>Paris</th>\n",
       "      <th>W_in</th>\n",
       "      <th>9</th>\n",
       "      <th>1503</th>\n",
       "      <td>2.649649</td>\n",
       "    </tr>\n",
       "  </tbody>\n",
       "</table>\n",
       "</div>"
      ],
      "text/plain": [
       "                                                                                            Magnitude\n",
       "Base                                       Given Answer Correct Answer Matrix Layer Neuron           \n",
       "The city known as the City of Lights is    Melbourne    Paris          W_in   11    369      3.498796\n",
       "                                           Tokyo        Paris          W_in   11    369      3.428604\n",
       "The birthplace of the French Revolution is Tokyo        Paris          W_in   8     1961     3.424025\n",
       "The city known as the City of Lights is    Beijing      Paris          W_in   11    369      3.323885\n",
       "The capital of France is                   Tokyo        Paris          W_in   7     1137     3.304254\n",
       "                                                                              4     1406     3.257752\n",
       "The birthplace of the French Revolution is Tokyo        Paris          W_in   7     1137     3.054942\n",
       "The capital of France is                   Beijing      Paris          W_in   4     1406     2.982404\n",
       "The birthplace of the French Revolution is Beijing      Paris          W_in   8     1961     2.978161\n",
       "The capital of France is                   Beijing      Paris          W_in   7     1137     2.952579\n",
       "The birthplace of the French Revolution is Tokyo        Paris          W_in   8     428      2.895690\n",
       "The capital of France is                   Tokyo        Paris          W_in   8     1961     2.869446\n",
       "The city known as the City of Lights is    Rome         Paris          W_in   11    369      2.818926\n",
       "The capital of France is                   Beijing      Paris          W_in   8     641      2.810137\n",
       "                                           Tokyo        Paris          W_in   8     428      2.790907\n",
       "                                                                                    641      2.788456\n",
       "                                           Melbourne    Paris          W_in   9     1090     2.751420\n",
       "                                           Beijing      Paris          W_in   8     1961     2.727926\n",
       "                                                                                    428      2.706186\n",
       "The largest city in France,                Tokyo        Paris          W_in   9     1503     2.649649"
      ]
     },
     "execution_count": 35,
     "metadata": {},
     "output_type": "execute_result"
    }
   ],
   "source": [
    "print(f'Top {top_N} neurons with the highest magnitude of change away from Paris')\n",
    "diff_df2 \\\n",
    "  .loc[(slice(None), slice(None), \"Paris\", slice(None), slice(None), slice(None)), :] \\\n",
    "  .sort_values(by=\"Magnitude\", ascending=False).head(top_N)"
   ]
  },
  {
   "cell_type": "code",
   "execution_count": 36,
   "metadata": {},
   "outputs": [
    {
     "name": "stdout",
     "output_type": "stream",
     "text": [
      "L11N369 top changes\n"
     ]
    },
    {
     "data": {
      "text/html": [
       "<div>\n",
       "<style scoped>\n",
       "    .dataframe tbody tr th:only-of-type {\n",
       "        vertical-align: middle;\n",
       "    }\n",
       "\n",
       "    .dataframe tbody tr th {\n",
       "        vertical-align: top;\n",
       "    }\n",
       "\n",
       "    .dataframe thead th {\n",
       "        text-align: right;\n",
       "    }\n",
       "</style>\n",
       "<table border=\"1\" class=\"dataframe\">\n",
       "  <thead>\n",
       "    <tr style=\"text-align: right;\">\n",
       "      <th></th>\n",
       "      <th></th>\n",
       "      <th></th>\n",
       "      <th></th>\n",
       "      <th></th>\n",
       "      <th></th>\n",
       "      <th>Magnitude</th>\n",
       "    </tr>\n",
       "    <tr>\n",
       "      <th>Base</th>\n",
       "      <th>Given Answer</th>\n",
       "      <th>Correct Answer</th>\n",
       "      <th>Matrix</th>\n",
       "      <th>Layer</th>\n",
       "      <th>Neuron</th>\n",
       "      <th></th>\n",
       "    </tr>\n",
       "  </thead>\n",
       "  <tbody>\n",
       "    <tr>\n",
       "      <th rowspan=\"4\" valign=\"top\">The city known as the City of Lights is</th>\n",
       "      <th>Melbourne</th>\n",
       "      <th>Paris</th>\n",
       "      <th>W_in</th>\n",
       "      <th>11</th>\n",
       "      <th>369</th>\n",
       "      <td>3.498796</td>\n",
       "    </tr>\n",
       "    <tr>\n",
       "      <th>Tokyo</th>\n",
       "      <th>Paris</th>\n",
       "      <th>W_in</th>\n",
       "      <th>11</th>\n",
       "      <th>369</th>\n",
       "      <td>3.428604</td>\n",
       "    </tr>\n",
       "    <tr>\n",
       "      <th>Beijing</th>\n",
       "      <th>Paris</th>\n",
       "      <th>W_in</th>\n",
       "      <th>11</th>\n",
       "      <th>369</th>\n",
       "      <td>3.323885</td>\n",
       "    </tr>\n",
       "    <tr>\n",
       "      <th>Rome</th>\n",
       "      <th>Paris</th>\n",
       "      <th>W_in</th>\n",
       "      <th>11</th>\n",
       "      <th>369</th>\n",
       "      <td>2.818926</td>\n",
       "    </tr>\n",
       "    <tr>\n",
       "      <th>The Eiffel Tower is located in</th>\n",
       "      <th>Melbourne</th>\n",
       "      <th>Paris</th>\n",
       "      <th>W_in</th>\n",
       "      <th>11</th>\n",
       "      <th>369</th>\n",
       "      <td>2.539692</td>\n",
       "    </tr>\n",
       "    <tr>\n",
       "      <th>The city known as the Eternal City is</th>\n",
       "      <th>Paris</th>\n",
       "      <th>Rome</th>\n",
       "      <th>W_in</th>\n",
       "      <th>11</th>\n",
       "      <th>369</th>\n",
       "      <td>2.374645</td>\n",
       "    </tr>\n",
       "    <tr>\n",
       "      <th>A city boasting the famous Spanish Steps,</th>\n",
       "      <th>Paris</th>\n",
       "      <th>Rome</th>\n",
       "      <th>W_in</th>\n",
       "      <th>11</th>\n",
       "      <th>369</th>\n",
       "      <td>2.303016</td>\n",
       "    </tr>\n",
       "    <tr>\n",
       "      <th rowspan=\"2\" valign=\"top\">Home to the renowned Louvre Museum,</th>\n",
       "      <th>Melbourne</th>\n",
       "      <th>Paris</th>\n",
       "      <th>W_in</th>\n",
       "      <th>11</th>\n",
       "      <th>369</th>\n",
       "      <td>1.873592</td>\n",
       "    </tr>\n",
       "    <tr>\n",
       "      <th>Rome</th>\n",
       "      <th>Paris</th>\n",
       "      <th>W_in</th>\n",
       "      <th>11</th>\n",
       "      <th>369</th>\n",
       "      <td>1.762435</td>\n",
       "    </tr>\n",
       "    <tr>\n",
       "      <th>The site of the Eiffel Tower,</th>\n",
       "      <th>Rome</th>\n",
       "      <th>Paris</th>\n",
       "      <th>W_in</th>\n",
       "      <th>11</th>\n",
       "      <th>369</th>\n",
       "      <td>1.667901</td>\n",
       "    </tr>\n",
       "    <tr>\n",
       "      <th>The city known as the Eternal City is</th>\n",
       "      <th>Melbourne</th>\n",
       "      <th>Rome</th>\n",
       "      <th>W_in</th>\n",
       "      <th>11</th>\n",
       "      <th>369</th>\n",
       "      <td>1.526579</td>\n",
       "    </tr>\n",
       "    <tr>\n",
       "      <th>The site of the Eiffel Tower,</th>\n",
       "      <th>Melbourne</th>\n",
       "      <th>Paris</th>\n",
       "      <th>W_in</th>\n",
       "      <th>11</th>\n",
       "      <th>369</th>\n",
       "      <td>1.309075</td>\n",
       "    </tr>\n",
       "    <tr>\n",
       "      <th>The Eiffel Tower is located in</th>\n",
       "      <th>Tokyo</th>\n",
       "      <th>Paris</th>\n",
       "      <th>W_in</th>\n",
       "      <th>11</th>\n",
       "      <th>369</th>\n",
       "      <td>1.220182</td>\n",
       "    </tr>\n",
       "    <tr>\n",
       "      <th>Home to the renowned Louvre Museum,</th>\n",
       "      <th>Tokyo</th>\n",
       "      <th>Paris</th>\n",
       "      <th>W_in</th>\n",
       "      <th>11</th>\n",
       "      <th>369</th>\n",
       "      <td>1.200963</td>\n",
       "    </tr>\n",
       "    <tr>\n",
       "      <th>Home to the renowned Colosseum,</th>\n",
       "      <th>Paris</th>\n",
       "      <th>Rome</th>\n",
       "      <th>W_in</th>\n",
       "      <th>11</th>\n",
       "      <th>369</th>\n",
       "      <td>1.179559</td>\n",
       "    </tr>\n",
       "    <tr>\n",
       "      <th>The Eiffel Tower is located in</th>\n",
       "      <th>Beijing</th>\n",
       "      <th>Paris</th>\n",
       "      <th>W_in</th>\n",
       "      <th>11</th>\n",
       "      <th>369</th>\n",
       "      <td>1.171129</td>\n",
       "    </tr>\n",
       "    <tr>\n",
       "      <th>The city known as the Eternal City is</th>\n",
       "      <th>Beijing</th>\n",
       "      <th>Rome</th>\n",
       "      <th>W_in</th>\n",
       "      <th>11</th>\n",
       "      <th>369</th>\n",
       "      <td>1.154771</td>\n",
       "    </tr>\n",
       "    <tr>\n",
       "      <th>Famous for its picturesque Seine River,</th>\n",
       "      <th>Melbourne</th>\n",
       "      <th>Paris</th>\n",
       "      <th>W_in</th>\n",
       "      <th>11</th>\n",
       "      <th>369</th>\n",
       "      <td>1.139496</td>\n",
       "    </tr>\n",
       "    <tr>\n",
       "      <th>The city known as the Eternal City is</th>\n",
       "      <th>Tokyo</th>\n",
       "      <th>Rome</th>\n",
       "      <th>W_in</th>\n",
       "      <th>11</th>\n",
       "      <th>369</th>\n",
       "      <td>1.089409</td>\n",
       "    </tr>\n",
       "    <tr>\n",
       "      <th>Famous for its picturesque Tiber River,</th>\n",
       "      <th>Paris</th>\n",
       "      <th>Rome</th>\n",
       "      <th>W_in</th>\n",
       "      <th>11</th>\n",
       "      <th>369</th>\n",
       "      <td>1.088506</td>\n",
       "    </tr>\n",
       "  </tbody>\n",
       "</table>\n",
       "</div>"
      ],
      "text/plain": [
       "                                                                                           Magnitude\n",
       "Base                                      Given Answer Correct Answer Matrix Layer Neuron           \n",
       "The city known as the City of Lights is   Melbourne    Paris          W_in   11    369      3.498796\n",
       "                                          Tokyo        Paris          W_in   11    369      3.428604\n",
       "                                          Beijing      Paris          W_in   11    369      3.323885\n",
       "                                          Rome         Paris          W_in   11    369      2.818926\n",
       "The Eiffel Tower is located in            Melbourne    Paris          W_in   11    369      2.539692\n",
       "The city known as the Eternal City is     Paris        Rome           W_in   11    369      2.374645\n",
       "A city boasting the famous Spanish Steps, Paris        Rome           W_in   11    369      2.303016\n",
       "Home to the renowned Louvre Museum,       Melbourne    Paris          W_in   11    369      1.873592\n",
       "                                          Rome         Paris          W_in   11    369      1.762435\n",
       "The site of the Eiffel Tower,             Rome         Paris          W_in   11    369      1.667901\n",
       "The city known as the Eternal City is     Melbourne    Rome           W_in   11    369      1.526579\n",
       "The site of the Eiffel Tower,             Melbourne    Paris          W_in   11    369      1.309075\n",
       "The Eiffel Tower is located in            Tokyo        Paris          W_in   11    369      1.220182\n",
       "Home to the renowned Louvre Museum,       Tokyo        Paris          W_in   11    369      1.200963\n",
       "Home to the renowned Colosseum,           Paris        Rome           W_in   11    369      1.179559\n",
       "The Eiffel Tower is located in            Beijing      Paris          W_in   11    369      1.171129\n",
       "The city known as the Eternal City is     Beijing      Rome           W_in   11    369      1.154771\n",
       "Famous for its picturesque Seine River,   Melbourne    Paris          W_in   11    369      1.139496\n",
       "The city known as the Eternal City is     Tokyo        Rome           W_in   11    369      1.089409\n",
       "Famous for its picturesque Tiber River,   Paris        Rome           W_in   11    369      1.088506"
      ]
     },
     "execution_count": 36,
     "metadata": {},
     "output_type": "execute_result"
    }
   ],
   "source": [
    "print(f'L11N369 top changes')\n",
    "diff_df2 \\\n",
    "    .loc[(slice(None), slice(None), slice(None), slice(None), 11, 369), :] \\\n",
    "    .sort_values(by=\"Magnitude\", ascending=False).head(20)"
   ]
  },
  {
   "cell_type": "markdown",
   "id": "b579be1f",
   "metadata": {},
   "source": [
    "L11N369 cares a lot about Paris, though there are a few rows that don't mention it.\n",
    "Clearly less interested in capitals than L7N1137."
   ]
  },
  {
   "cell_type": "code",
   "execution_count": 37,
   "id": "baa6b0ee",
   "metadata": {},
   "outputs": [
    {
     "name": "stdout",
     "output_type": "stream",
     "text": [
      "L7N1137 top changes\n"
     ]
    },
    {
     "data": {
      "text/html": [
       "<div>\n",
       "<style scoped>\n",
       "    .dataframe tbody tr th:only-of-type {\n",
       "        vertical-align: middle;\n",
       "    }\n",
       "\n",
       "    .dataframe tbody tr th {\n",
       "        vertical-align: top;\n",
       "    }\n",
       "\n",
       "    .dataframe thead th {\n",
       "        text-align: right;\n",
       "    }\n",
       "</style>\n",
       "<table border=\"1\" class=\"dataframe\">\n",
       "  <thead>\n",
       "    <tr style=\"text-align: right;\">\n",
       "      <th></th>\n",
       "      <th></th>\n",
       "      <th></th>\n",
       "      <th></th>\n",
       "      <th></th>\n",
       "      <th></th>\n",
       "      <th>Magnitude</th>\n",
       "    </tr>\n",
       "    <tr>\n",
       "      <th>Base</th>\n",
       "      <th>Given Answer</th>\n",
       "      <th>Correct Answer</th>\n",
       "      <th>Matrix</th>\n",
       "      <th>Layer</th>\n",
       "      <th>Neuron</th>\n",
       "      <th></th>\n",
       "    </tr>\n",
       "  </thead>\n",
       "  <tbody>\n",
       "    <tr>\n",
       "      <th rowspan=\"2\" valign=\"top\">The capital of Italy is</th>\n",
       "      <th>Beijing</th>\n",
       "      <th>Rome</th>\n",
       "      <th>W_in</th>\n",
       "      <th>7</th>\n",
       "      <th>1137</th>\n",
       "      <td>3.517601</td>\n",
       "    </tr>\n",
       "    <tr>\n",
       "      <th>Tokyo</th>\n",
       "      <th>Rome</th>\n",
       "      <th>W_in</th>\n",
       "      <th>7</th>\n",
       "      <th>1137</th>\n",
       "      <td>3.327012</td>\n",
       "    </tr>\n",
       "    <tr>\n",
       "      <th>The capital of France is</th>\n",
       "      <th>Tokyo</th>\n",
       "      <th>Paris</th>\n",
       "      <th>W_in</th>\n",
       "      <th>7</th>\n",
       "      <th>1137</th>\n",
       "      <td>3.304254</td>\n",
       "    </tr>\n",
       "    <tr>\n",
       "      <th>The birthplace of the French Revolution is</th>\n",
       "      <th>Tokyo</th>\n",
       "      <th>Paris</th>\n",
       "      <th>W_in</th>\n",
       "      <th>7</th>\n",
       "      <th>1137</th>\n",
       "      <td>3.054942</td>\n",
       "    </tr>\n",
       "    <tr>\n",
       "      <th>The capital of France is</th>\n",
       "      <th>Beijing</th>\n",
       "      <th>Paris</th>\n",
       "      <th>W_in</th>\n",
       "      <th>7</th>\n",
       "      <th>1137</th>\n",
       "      <td>2.952579</td>\n",
       "    </tr>\n",
       "    <tr>\n",
       "      <th>The birthplace of the French Revolution is</th>\n",
       "      <th>Beijing</th>\n",
       "      <th>Paris</th>\n",
       "      <th>W_in</th>\n",
       "      <th>7</th>\n",
       "      <th>1137</th>\n",
       "      <td>2.384228</td>\n",
       "    </tr>\n",
       "    <tr>\n",
       "      <th rowspan=\"2\" valign=\"top\">The capital of Italy is</th>\n",
       "      <th>Melbourne</th>\n",
       "      <th>Rome</th>\n",
       "      <th>W_in</th>\n",
       "      <th>7</th>\n",
       "      <th>1137</th>\n",
       "      <td>2.169249</td>\n",
       "    </tr>\n",
       "    <tr>\n",
       "      <th>Paris</th>\n",
       "      <th>Rome</th>\n",
       "      <th>W_in</th>\n",
       "      <th>7</th>\n",
       "      <th>1137</th>\n",
       "      <td>2.155604</td>\n",
       "    </tr>\n",
       "    <tr>\n",
       "      <th>The birthplace of the Roman Empire is</th>\n",
       "      <th>Tokyo</th>\n",
       "      <th>Rome</th>\n",
       "      <th>W_in</th>\n",
       "      <th>7</th>\n",
       "      <th>1137</th>\n",
       "      <td>2.105061</td>\n",
       "    </tr>\n",
       "    <tr>\n",
       "      <th>The birthplace of the French Revolution is</th>\n",
       "      <th>Rome</th>\n",
       "      <th>Paris</th>\n",
       "      <th>W_in</th>\n",
       "      <th>7</th>\n",
       "      <th>1137</th>\n",
       "      <td>1.992732</td>\n",
       "    </tr>\n",
       "    <tr>\n",
       "      <th rowspan=\"2\" valign=\"top\">The capital of France is</th>\n",
       "      <th>Rome</th>\n",
       "      <th>Paris</th>\n",
       "      <th>W_in</th>\n",
       "      <th>7</th>\n",
       "      <th>1137</th>\n",
       "      <td>1.876958</td>\n",
       "    </tr>\n",
       "    <tr>\n",
       "      <th>Melbourne</th>\n",
       "      <th>Paris</th>\n",
       "      <th>W_in</th>\n",
       "      <th>7</th>\n",
       "      <th>1137</th>\n",
       "      <td>1.852360</td>\n",
       "    </tr>\n",
       "    <tr>\n",
       "      <th>The birthplace of the French Revolution is</th>\n",
       "      <th>Melbourne</th>\n",
       "      <th>Paris</th>\n",
       "      <th>W_in</th>\n",
       "      <th>7</th>\n",
       "      <th>1137</th>\n",
       "      <td>1.650255</td>\n",
       "    </tr>\n",
       "    <tr>\n",
       "      <th rowspan=\"3\" valign=\"top\">The birthplace of the Roman Empire is</th>\n",
       "      <th>Beijing</th>\n",
       "      <th>Rome</th>\n",
       "      <th>W_in</th>\n",
       "      <th>7</th>\n",
       "      <th>1137</th>\n",
       "      <td>1.402806</td>\n",
       "    </tr>\n",
       "    <tr>\n",
       "      <th>Paris</th>\n",
       "      <th>Rome</th>\n",
       "      <th>W_in</th>\n",
       "      <th>7</th>\n",
       "      <th>1137</th>\n",
       "      <td>1.332856</td>\n",
       "    </tr>\n",
       "    <tr>\n",
       "      <th>Melbourne</th>\n",
       "      <th>Rome</th>\n",
       "      <th>W_in</th>\n",
       "      <th>7</th>\n",
       "      <th>1137</th>\n",
       "      <td>1.239369</td>\n",
       "    </tr>\n",
       "    <tr>\n",
       "      <th rowspan=\"3\" valign=\"top\">The largest city in France,</th>\n",
       "      <th>Tokyo</th>\n",
       "      <th>Paris</th>\n",
       "      <th>W_in</th>\n",
       "      <th>7</th>\n",
       "      <th>1137</th>\n",
       "      <td>1.186610</td>\n",
       "    </tr>\n",
       "    <tr>\n",
       "      <th>Melbourne</th>\n",
       "      <th>Paris</th>\n",
       "      <th>W_in</th>\n",
       "      <th>7</th>\n",
       "      <th>1137</th>\n",
       "      <td>0.892214</td>\n",
       "    </tr>\n",
       "    <tr>\n",
       "      <th>Rome</th>\n",
       "      <th>Paris</th>\n",
       "      <th>W_in</th>\n",
       "      <th>7</th>\n",
       "      <th>1137</th>\n",
       "      <td>0.883342</td>\n",
       "    </tr>\n",
       "    <tr>\n",
       "      <th>The largest city in Italy,</th>\n",
       "      <th>Melbourne</th>\n",
       "      <th>Rome</th>\n",
       "      <th>W_in</th>\n",
       "      <th>7</th>\n",
       "      <th>1137</th>\n",
       "      <td>0.788894</td>\n",
       "    </tr>\n",
       "  </tbody>\n",
       "</table>\n",
       "</div>"
      ],
      "text/plain": [
       "                                                                                            Magnitude\n",
       "Base                                       Given Answer Correct Answer Matrix Layer Neuron           \n",
       "The capital of Italy is                    Beijing      Rome           W_in   7     1137     3.517601\n",
       "                                           Tokyo        Rome           W_in   7     1137     3.327012\n",
       "The capital of France is                   Tokyo        Paris          W_in   7     1137     3.304254\n",
       "The birthplace of the French Revolution is Tokyo        Paris          W_in   7     1137     3.054942\n",
       "The capital of France is                   Beijing      Paris          W_in   7     1137     2.952579\n",
       "The birthplace of the French Revolution is Beijing      Paris          W_in   7     1137     2.384228\n",
       "The capital of Italy is                    Melbourne    Rome           W_in   7     1137     2.169249\n",
       "                                           Paris        Rome           W_in   7     1137     2.155604\n",
       "The birthplace of the Roman Empire is      Tokyo        Rome           W_in   7     1137     2.105061\n",
       "The birthplace of the French Revolution is Rome         Paris          W_in   7     1137     1.992732\n",
       "The capital of France is                   Rome         Paris          W_in   7     1137     1.876958\n",
       "                                           Melbourne    Paris          W_in   7     1137     1.852360\n",
       "The birthplace of the French Revolution is Melbourne    Paris          W_in   7     1137     1.650255\n",
       "The birthplace of the Roman Empire is      Beijing      Rome           W_in   7     1137     1.402806\n",
       "                                           Paris        Rome           W_in   7     1137     1.332856\n",
       "                                           Melbourne    Rome           W_in   7     1137     1.239369\n",
       "The largest city in France,                Tokyo        Paris          W_in   7     1137     1.186610\n",
       "                                           Melbourne    Paris          W_in   7     1137     0.892214\n",
       "                                           Rome         Paris          W_in   7     1137     0.883342\n",
       "The largest city in Italy,                 Melbourne    Rome           W_in   7     1137     0.788894"
      ]
     },
     "execution_count": 37,
     "metadata": {},
     "output_type": "execute_result"
    }
   ],
   "source": [
    "print(f'L7N1137 top changes')\n",
    "diff_df2 \\\n",
    "    .loc[(slice(None), slice(None), slice(None), slice(None), 7, 1137), :] \\\n",
    "    .sort_values(by=\"Magnitude\", ascending=False).head(20)"
   ]
  },
  {
   "attachments": {},
   "cell_type": "markdown",
   "id": "7cfb533b",
   "metadata": {},
   "source": [
    "L7N1137 seems preoccupied with capitals and closely related things, like the birthplaces of empires and largest cities in a country."
   ]
  },
  {
   "cell_type": "code",
   "execution_count": 38,
   "id": "a0a8360a",
   "metadata": {},
   "outputs": [
    {
     "name": "stdout",
     "output_type": "stream",
     "text": [
      "L8N1961 top changes\n"
     ]
    },
    {
     "data": {
      "text/html": [
       "<div>\n",
       "<style scoped>\n",
       "    .dataframe tbody tr th:only-of-type {\n",
       "        vertical-align: middle;\n",
       "    }\n",
       "\n",
       "    .dataframe tbody tr th {\n",
       "        vertical-align: top;\n",
       "    }\n",
       "\n",
       "    .dataframe thead th {\n",
       "        text-align: right;\n",
       "    }\n",
       "</style>\n",
       "<table border=\"1\" class=\"dataframe\">\n",
       "  <thead>\n",
       "    <tr style=\"text-align: right;\">\n",
       "      <th></th>\n",
       "      <th></th>\n",
       "      <th></th>\n",
       "      <th></th>\n",
       "      <th></th>\n",
       "      <th></th>\n",
       "      <th>Magnitude</th>\n",
       "    </tr>\n",
       "    <tr>\n",
       "      <th>Base</th>\n",
       "      <th>Given Answer</th>\n",
       "      <th>Correct Answer</th>\n",
       "      <th>Matrix</th>\n",
       "      <th>Layer</th>\n",
       "      <th>Neuron</th>\n",
       "      <th></th>\n",
       "    </tr>\n",
       "  </thead>\n",
       "  <tbody>\n",
       "    <tr>\n",
       "      <th>The birthplace of the Roman Empire is</th>\n",
       "      <th>Tokyo</th>\n",
       "      <th>Rome</th>\n",
       "      <th>W_in</th>\n",
       "      <th>8</th>\n",
       "      <th>1961</th>\n",
       "      <td>3.529967</td>\n",
       "    </tr>\n",
       "    <tr>\n",
       "      <th>The birthplace of the French Revolution is</th>\n",
       "      <th>Tokyo</th>\n",
       "      <th>Paris</th>\n",
       "      <th>W_in</th>\n",
       "      <th>8</th>\n",
       "      <th>1961</th>\n",
       "      <td>3.424025</td>\n",
       "    </tr>\n",
       "    <tr>\n",
       "      <th rowspan=\"2\" valign=\"top\">The capital of Italy is</th>\n",
       "      <th>Beijing</th>\n",
       "      <th>Rome</th>\n",
       "      <th>W_in</th>\n",
       "      <th>8</th>\n",
       "      <th>1961</th>\n",
       "      <td>3.268980</td>\n",
       "    </tr>\n",
       "    <tr>\n",
       "      <th>Tokyo</th>\n",
       "      <th>Rome</th>\n",
       "      <th>W_in</th>\n",
       "      <th>8</th>\n",
       "      <th>1961</th>\n",
       "      <td>3.157644</td>\n",
       "    </tr>\n",
       "    <tr>\n",
       "      <th>The birthplace of the French Revolution is</th>\n",
       "      <th>Beijing</th>\n",
       "      <th>Paris</th>\n",
       "      <th>W_in</th>\n",
       "      <th>8</th>\n",
       "      <th>1961</th>\n",
       "      <td>2.978161</td>\n",
       "    </tr>\n",
       "    <tr>\n",
       "      <th>The capital of France is</th>\n",
       "      <th>Tokyo</th>\n",
       "      <th>Paris</th>\n",
       "      <th>W_in</th>\n",
       "      <th>8</th>\n",
       "      <th>1961</th>\n",
       "      <td>2.869446</td>\n",
       "    </tr>\n",
       "    <tr>\n",
       "      <th rowspan=\"2\" valign=\"top\">The birthplace of the Roman Empire is</th>\n",
       "      <th>Beijing</th>\n",
       "      <th>Rome</th>\n",
       "      <th>W_in</th>\n",
       "      <th>8</th>\n",
       "      <th>1961</th>\n",
       "      <td>2.863080</td>\n",
       "    </tr>\n",
       "    <tr>\n",
       "      <th>Melbourne</th>\n",
       "      <th>Rome</th>\n",
       "      <th>W_in</th>\n",
       "      <th>8</th>\n",
       "      <th>1961</th>\n",
       "      <td>2.781778</td>\n",
       "    </tr>\n",
       "    <tr>\n",
       "      <th>The capital of France is</th>\n",
       "      <th>Beijing</th>\n",
       "      <th>Paris</th>\n",
       "      <th>W_in</th>\n",
       "      <th>8</th>\n",
       "      <th>1961</th>\n",
       "      <td>2.727926</td>\n",
       "    </tr>\n",
       "    <tr>\n",
       "      <th>The capital of Italy is</th>\n",
       "      <th>Melbourne</th>\n",
       "      <th>Rome</th>\n",
       "      <th>W_in</th>\n",
       "      <th>8</th>\n",
       "      <th>1961</th>\n",
       "      <td>2.629667</td>\n",
       "    </tr>\n",
       "    <tr>\n",
       "      <th>The birthplace of the Roman Empire is</th>\n",
       "      <th>Paris</th>\n",
       "      <th>Rome</th>\n",
       "      <th>W_in</th>\n",
       "      <th>8</th>\n",
       "      <th>1961</th>\n",
       "      <td>2.564338</td>\n",
       "    </tr>\n",
       "    <tr>\n",
       "      <th>The capital of France is</th>\n",
       "      <th>Melbourne</th>\n",
       "      <th>Paris</th>\n",
       "      <th>W_in</th>\n",
       "      <th>8</th>\n",
       "      <th>1961</th>\n",
       "      <td>2.413014</td>\n",
       "    </tr>\n",
       "    <tr>\n",
       "      <th>The birthplace of the French Revolution is</th>\n",
       "      <th>Melbourne</th>\n",
       "      <th>Paris</th>\n",
       "      <th>W_in</th>\n",
       "      <th>8</th>\n",
       "      <th>1961</th>\n",
       "      <td>2.167775</td>\n",
       "    </tr>\n",
       "    <tr>\n",
       "      <th>The capital of Italy is</th>\n",
       "      <th>Paris</th>\n",
       "      <th>Rome</th>\n",
       "      <th>W_in</th>\n",
       "      <th>8</th>\n",
       "      <th>1961</th>\n",
       "      <td>2.144421</td>\n",
       "    </tr>\n",
       "    <tr>\n",
       "      <th>The largest city in France,</th>\n",
       "      <th>Tokyo</th>\n",
       "      <th>Paris</th>\n",
       "      <th>W_in</th>\n",
       "      <th>8</th>\n",
       "      <th>1961</th>\n",
       "      <td>1.632010</td>\n",
       "    </tr>\n",
       "    <tr>\n",
       "      <th>The largest city in Italy,</th>\n",
       "      <th>Tokyo</th>\n",
       "      <th>Rome</th>\n",
       "      <th>W_in</th>\n",
       "      <th>8</th>\n",
       "      <th>1961</th>\n",
       "      <td>1.556902</td>\n",
       "    </tr>\n",
       "    <tr>\n",
       "      <th>The birthplace of the French Revolution is</th>\n",
       "      <th>Rome</th>\n",
       "      <th>Paris</th>\n",
       "      <th>W_in</th>\n",
       "      <th>8</th>\n",
       "      <th>1961</th>\n",
       "      <td>1.552928</td>\n",
       "    </tr>\n",
       "    <tr>\n",
       "      <th>The largest city in Italy,</th>\n",
       "      <th>Beijing</th>\n",
       "      <th>Rome</th>\n",
       "      <th>W_in</th>\n",
       "      <th>8</th>\n",
       "      <th>1961</th>\n",
       "      <td>1.548119</td>\n",
       "    </tr>\n",
       "    <tr>\n",
       "      <th>Home to the renowned Louvre Museum,</th>\n",
       "      <th>Melbourne</th>\n",
       "      <th>Paris</th>\n",
       "      <th>W_in</th>\n",
       "      <th>8</th>\n",
       "      <th>1961</th>\n",
       "      <td>1.524055</td>\n",
       "    </tr>\n",
       "    <tr>\n",
       "      <th>The largest city in France,</th>\n",
       "      <th>Beijing</th>\n",
       "      <th>Paris</th>\n",
       "      <th>W_in</th>\n",
       "      <th>8</th>\n",
       "      <th>1961</th>\n",
       "      <td>1.518486</td>\n",
       "    </tr>\n",
       "  </tbody>\n",
       "</table>\n",
       "</div>"
      ],
      "text/plain": [
       "                                                                                            Magnitude\n",
       "Base                                       Given Answer Correct Answer Matrix Layer Neuron           \n",
       "The birthplace of the Roman Empire is      Tokyo        Rome           W_in   8     1961     3.529967\n",
       "The birthplace of the French Revolution is Tokyo        Paris          W_in   8     1961     3.424025\n",
       "The capital of Italy is                    Beijing      Rome           W_in   8     1961     3.268980\n",
       "                                           Tokyo        Rome           W_in   8     1961     3.157644\n",
       "The birthplace of the French Revolution is Beijing      Paris          W_in   8     1961     2.978161\n",
       "The capital of France is                   Tokyo        Paris          W_in   8     1961     2.869446\n",
       "The birthplace of the Roman Empire is      Beijing      Rome           W_in   8     1961     2.863080\n",
       "                                           Melbourne    Rome           W_in   8     1961     2.781778\n",
       "The capital of France is                   Beijing      Paris          W_in   8     1961     2.727926\n",
       "The capital of Italy is                    Melbourne    Rome           W_in   8     1961     2.629667\n",
       "The birthplace of the Roman Empire is      Paris        Rome           W_in   8     1961     2.564338\n",
       "The capital of France is                   Melbourne    Paris          W_in   8     1961     2.413014\n",
       "The birthplace of the French Revolution is Melbourne    Paris          W_in   8     1961     2.167775\n",
       "The capital of Italy is                    Paris        Rome           W_in   8     1961     2.144421\n",
       "The largest city in France,                Tokyo        Paris          W_in   8     1961     1.632010\n",
       "The largest city in Italy,                 Tokyo        Rome           W_in   8     1961     1.556902\n",
       "The birthplace of the French Revolution is Rome         Paris          W_in   8     1961     1.552928\n",
       "The largest city in Italy,                 Beijing      Rome           W_in   8     1961     1.548119\n",
       "Home to the renowned Louvre Museum,        Melbourne    Paris          W_in   8     1961     1.524055\n",
       "The largest city in France,                Beijing      Paris          W_in   8     1961     1.518486"
      ]
     },
     "execution_count": 38,
     "metadata": {},
     "output_type": "execute_result"
    }
   ],
   "source": [
    "print(f'L8N1961 top changes')\n",
    "diff_df2 \\\n",
    "    .loc[(slice(None), slice(None), slice(None), slice(None), 8, 1961), :] \\\n",
    "    .sort_values(by=\"Magnitude\", ascending=False).head(20)"
   ]
  },
  {
   "cell_type": "code",
   "execution_count": 39,
   "id": "2537f58c",
   "metadata": {},
   "outputs": [
    {
     "name": "stdout",
     "output_type": "stream",
     "text": [
      "Top 20 neurons with the highest magnitude of change away from Rome\n"
     ]
    },
    {
     "data": {
      "text/html": [
       "<div>\n",
       "<style scoped>\n",
       "    .dataframe tbody tr th:only-of-type {\n",
       "        vertical-align: middle;\n",
       "    }\n",
       "\n",
       "    .dataframe tbody tr th {\n",
       "        vertical-align: top;\n",
       "    }\n",
       "\n",
       "    .dataframe thead th {\n",
       "        text-align: right;\n",
       "    }\n",
       "</style>\n",
       "<table border=\"1\" class=\"dataframe\">\n",
       "  <thead>\n",
       "    <tr style=\"text-align: right;\">\n",
       "      <th></th>\n",
       "      <th></th>\n",
       "      <th></th>\n",
       "      <th></th>\n",
       "      <th></th>\n",
       "      <th></th>\n",
       "      <th>Magnitude</th>\n",
       "    </tr>\n",
       "    <tr>\n",
       "      <th>Base</th>\n",
       "      <th>Given Answer</th>\n",
       "      <th>Correct Answer</th>\n",
       "      <th>Matrix</th>\n",
       "      <th>Layer</th>\n",
       "      <th>Neuron</th>\n",
       "      <th></th>\n",
       "    </tr>\n",
       "  </thead>\n",
       "  <tbody>\n",
       "    <tr>\n",
       "      <th rowspan=\"3\" valign=\"top\">The capital of Italy is</th>\n",
       "      <th>Beijing</th>\n",
       "      <th>Rome</th>\n",
       "      <th>W_in</th>\n",
       "      <th>4</th>\n",
       "      <th>1406</th>\n",
       "      <td>3.964737</td>\n",
       "    </tr>\n",
       "    <tr>\n",
       "      <th>Tokyo</th>\n",
       "      <th>Rome</th>\n",
       "      <th>W_in</th>\n",
       "      <th>4</th>\n",
       "      <th>1406</th>\n",
       "      <td>3.584749</td>\n",
       "    </tr>\n",
       "    <tr>\n",
       "      <th>Beijing</th>\n",
       "      <th>Rome</th>\n",
       "      <th>W_in</th>\n",
       "      <th>8</th>\n",
       "      <th>428</th>\n",
       "      <td>3.535479</td>\n",
       "    </tr>\n",
       "    <tr>\n",
       "      <th>The birthplace of the Roman Empire is</th>\n",
       "      <th>Tokyo</th>\n",
       "      <th>Rome</th>\n",
       "      <th>W_in</th>\n",
       "      <th>8</th>\n",
       "      <th>1961</th>\n",
       "      <td>3.529967</td>\n",
       "    </tr>\n",
       "    <tr>\n",
       "      <th rowspan=\"5\" valign=\"top\">The capital of Italy is</th>\n",
       "      <th>Beijing</th>\n",
       "      <th>Rome</th>\n",
       "      <th>W_in</th>\n",
       "      <th>7</th>\n",
       "      <th>1137</th>\n",
       "      <td>3.517601</td>\n",
       "    </tr>\n",
       "    <tr>\n",
       "      <th>Tokyo</th>\n",
       "      <th>Rome</th>\n",
       "      <th>W_in</th>\n",
       "      <th>7</th>\n",
       "      <th>1137</th>\n",
       "      <td>3.327012</td>\n",
       "    </tr>\n",
       "    <tr>\n",
       "      <th>Melbourne</th>\n",
       "      <th>Rome</th>\n",
       "      <th>W_in</th>\n",
       "      <th>9</th>\n",
       "      <th>1090</th>\n",
       "      <td>3.280256</td>\n",
       "    </tr>\n",
       "    <tr>\n",
       "      <th>Beijing</th>\n",
       "      <th>Rome</th>\n",
       "      <th>W_in</th>\n",
       "      <th>8</th>\n",
       "      <th>1961</th>\n",
       "      <td>3.268980</td>\n",
       "    </tr>\n",
       "    <tr>\n",
       "      <th>Tokyo</th>\n",
       "      <th>Rome</th>\n",
       "      <th>W_in</th>\n",
       "      <th>8</th>\n",
       "      <th>428</th>\n",
       "      <td>3.242185</td>\n",
       "    </tr>\n",
       "    <tr>\n",
       "      <th>The birthplace of the Roman Empire is</th>\n",
       "      <th>Tokyo</th>\n",
       "      <th>Rome</th>\n",
       "      <th>W_in</th>\n",
       "      <th>8</th>\n",
       "      <th>428</th>\n",
       "      <td>3.169609</td>\n",
       "    </tr>\n",
       "    <tr>\n",
       "      <th rowspan=\"2\" valign=\"top\">The capital of Italy is</th>\n",
       "      <th>Tokyo</th>\n",
       "      <th>Rome</th>\n",
       "      <th>W_in</th>\n",
       "      <th>8</th>\n",
       "      <th>1961</th>\n",
       "      <td>3.157644</td>\n",
       "    </tr>\n",
       "    <tr>\n",
       "      <th>Beijing</th>\n",
       "      <th>Rome</th>\n",
       "      <th>W_in</th>\n",
       "      <th>8</th>\n",
       "      <th>641</th>\n",
       "      <td>3.080204</td>\n",
       "    </tr>\n",
       "    <tr>\n",
       "      <th rowspan=\"2\" valign=\"top\">The birthplace of the Roman Empire is</th>\n",
       "      <th>Beijing</th>\n",
       "      <th>Rome</th>\n",
       "      <th>W_in</th>\n",
       "      <th>8</th>\n",
       "      <th>1961</th>\n",
       "      <td>2.863080</td>\n",
       "    </tr>\n",
       "    <tr>\n",
       "      <th>Melbourne</th>\n",
       "      <th>Rome</th>\n",
       "      <th>W_in</th>\n",
       "      <th>8</th>\n",
       "      <th>1961</th>\n",
       "      <td>2.781778</td>\n",
       "    </tr>\n",
       "    <tr>\n",
       "      <th rowspan=\"3\" valign=\"top\">The capital of Italy is</th>\n",
       "      <th>Tokyo</th>\n",
       "      <th>Rome</th>\n",
       "      <th>W_in</th>\n",
       "      <th>8</th>\n",
       "      <th>641</th>\n",
       "      <td>2.734943</td>\n",
       "    </tr>\n",
       "    <tr>\n",
       "      <th rowspan=\"2\" valign=\"top\">Melbourne</th>\n",
       "      <th rowspan=\"2\" valign=\"top\">Rome</th>\n",
       "      <th rowspan=\"2\" valign=\"top\">W_in</th>\n",
       "      <th rowspan=\"2\" valign=\"top\">8</th>\n",
       "      <th>428</th>\n",
       "      <td>2.722614</td>\n",
       "    </tr>\n",
       "    <tr>\n",
       "      <th>1961</th>\n",
       "      <td>2.629667</td>\n",
       "    </tr>\n",
       "    <tr>\n",
       "      <th rowspan=\"2\" valign=\"top\">The birthplace of the Roman Empire is</th>\n",
       "      <th>Beijing</th>\n",
       "      <th>Rome</th>\n",
       "      <th>W_in</th>\n",
       "      <th>8</th>\n",
       "      <th>428</th>\n",
       "      <td>2.629412</td>\n",
       "    </tr>\n",
       "    <tr>\n",
       "      <th>Paris</th>\n",
       "      <th>Rome</th>\n",
       "      <th>W_in</th>\n",
       "      <th>8</th>\n",
       "      <th>428</th>\n",
       "      <td>2.625887</td>\n",
       "    </tr>\n",
       "    <tr>\n",
       "      <th>The largest city in Italy,</th>\n",
       "      <th>Beijing</th>\n",
       "      <th>Rome</th>\n",
       "      <th>W_in</th>\n",
       "      <th>9</th>\n",
       "      <th>1503</th>\n",
       "      <td>2.599792</td>\n",
       "    </tr>\n",
       "  </tbody>\n",
       "</table>\n",
       "</div>"
      ],
      "text/plain": [
       "                                                                                       Magnitude\n",
       "Base                                  Given Answer Correct Answer Matrix Layer Neuron           \n",
       "The capital of Italy is               Beijing      Rome           W_in   4     1406     3.964737\n",
       "                                      Tokyo        Rome           W_in   4     1406     3.584749\n",
       "                                      Beijing      Rome           W_in   8     428      3.535479\n",
       "The birthplace of the Roman Empire is Tokyo        Rome           W_in   8     1961     3.529967\n",
       "The capital of Italy is               Beijing      Rome           W_in   7     1137     3.517601\n",
       "                                      Tokyo        Rome           W_in   7     1137     3.327012\n",
       "                                      Melbourne    Rome           W_in   9     1090     3.280256\n",
       "                                      Beijing      Rome           W_in   8     1961     3.268980\n",
       "                                      Tokyo        Rome           W_in   8     428      3.242185\n",
       "The birthplace of the Roman Empire is Tokyo        Rome           W_in   8     428      3.169609\n",
       "The capital of Italy is               Tokyo        Rome           W_in   8     1961     3.157644\n",
       "                                      Beijing      Rome           W_in   8     641      3.080204\n",
       "The birthplace of the Roman Empire is Beijing      Rome           W_in   8     1961     2.863080\n",
       "                                      Melbourne    Rome           W_in   8     1961     2.781778\n",
       "The capital of Italy is               Tokyo        Rome           W_in   8     641      2.734943\n",
       "                                      Melbourne    Rome           W_in   8     428      2.722614\n",
       "                                                                               1961     2.629667\n",
       "The birthplace of the Roman Empire is Beijing      Rome           W_in   8     428      2.629412\n",
       "                                      Paris        Rome           W_in   8     428      2.625887\n",
       "The largest city in Italy,            Beijing      Rome           W_in   9     1503     2.599792"
      ]
     },
     "execution_count": 39,
     "metadata": {},
     "output_type": "execute_result"
    }
   ],
   "source": [
    "print(f'Top {top_N} neurons with the highest magnitude of change away from Rome')\n",
    "diff_df2 \\\n",
    "    .loc[(slice(None), slice(None), \"Rome\", slice(None), slice(None), slice(None)), :] \\\n",
    "    .sort_values(by=\"Magnitude\", ascending=False).head(top_N)"
   ]
  },
  {
   "cell_type": "code",
   "execution_count": 40,
   "id": "a50759e9",
   "metadata": {},
   "outputs": [
    {
     "name": "stdout",
     "output_type": "stream",
     "text": [
      "L4N1406 top changes\n"
     ]
    },
    {
     "data": {
      "text/html": [
       "<div>\n",
       "<style scoped>\n",
       "    .dataframe tbody tr th:only-of-type {\n",
       "        vertical-align: middle;\n",
       "    }\n",
       "\n",
       "    .dataframe tbody tr th {\n",
       "        vertical-align: top;\n",
       "    }\n",
       "\n",
       "    .dataframe thead th {\n",
       "        text-align: right;\n",
       "    }\n",
       "</style>\n",
       "<table border=\"1\" class=\"dataframe\">\n",
       "  <thead>\n",
       "    <tr style=\"text-align: right;\">\n",
       "      <th></th>\n",
       "      <th></th>\n",
       "      <th></th>\n",
       "      <th></th>\n",
       "      <th></th>\n",
       "      <th></th>\n",
       "      <th>Magnitude</th>\n",
       "    </tr>\n",
       "    <tr>\n",
       "      <th>Base</th>\n",
       "      <th>Given Answer</th>\n",
       "      <th>Correct Answer</th>\n",
       "      <th>Matrix</th>\n",
       "      <th>Layer</th>\n",
       "      <th>Neuron</th>\n",
       "      <th></th>\n",
       "    </tr>\n",
       "  </thead>\n",
       "  <tbody>\n",
       "    <tr>\n",
       "      <th rowspan=\"2\" valign=\"top\">The capital of Italy is</th>\n",
       "      <th>Beijing</th>\n",
       "      <th>Rome</th>\n",
       "      <th>W_in</th>\n",
       "      <th>4</th>\n",
       "      <th>1406</th>\n",
       "      <td>3.964737</td>\n",
       "    </tr>\n",
       "    <tr>\n",
       "      <th>Tokyo</th>\n",
       "      <th>Rome</th>\n",
       "      <th>W_in</th>\n",
       "      <th>4</th>\n",
       "      <th>1406</th>\n",
       "      <td>3.584749</td>\n",
       "    </tr>\n",
       "    <tr>\n",
       "      <th rowspan=\"2\" valign=\"top\">The capital of France is</th>\n",
       "      <th>Tokyo</th>\n",
       "      <th>Paris</th>\n",
       "      <th>W_in</th>\n",
       "      <th>4</th>\n",
       "      <th>1406</th>\n",
       "      <td>3.257752</td>\n",
       "    </tr>\n",
       "    <tr>\n",
       "      <th>Beijing</th>\n",
       "      <th>Paris</th>\n",
       "      <th>W_in</th>\n",
       "      <th>4</th>\n",
       "      <th>1406</th>\n",
       "      <td>2.982404</td>\n",
       "    </tr>\n",
       "    <tr>\n",
       "      <th rowspan=\"2\" valign=\"top\">The capital of Italy is</th>\n",
       "      <th>Paris</th>\n",
       "      <th>Rome</th>\n",
       "      <th>W_in</th>\n",
       "      <th>4</th>\n",
       "      <th>1406</th>\n",
       "      <td>2.585469</td>\n",
       "    </tr>\n",
       "    <tr>\n",
       "      <th>Melbourne</th>\n",
       "      <th>Rome</th>\n",
       "      <th>W_in</th>\n",
       "      <th>4</th>\n",
       "      <th>1406</th>\n",
       "      <td>2.431861</td>\n",
       "    </tr>\n",
       "    <tr>\n",
       "      <th>The birthplace of the French Revolution is</th>\n",
       "      <th>Tokyo</th>\n",
       "      <th>Paris</th>\n",
       "      <th>W_in</th>\n",
       "      <th>4</th>\n",
       "      <th>1406</th>\n",
       "      <td>1.965508</td>\n",
       "    </tr>\n",
       "    <tr>\n",
       "      <th rowspan=\"2\" valign=\"top\">The capital of France is</th>\n",
       "      <th>Rome</th>\n",
       "      <th>Paris</th>\n",
       "      <th>W_in</th>\n",
       "      <th>4</th>\n",
       "      <th>1406</th>\n",
       "      <td>1.832525</td>\n",
       "    </tr>\n",
       "    <tr>\n",
       "      <th>Melbourne</th>\n",
       "      <th>Paris</th>\n",
       "      <th>W_in</th>\n",
       "      <th>4</th>\n",
       "      <th>1406</th>\n",
       "      <td>1.811067</td>\n",
       "    </tr>\n",
       "    <tr>\n",
       "      <th rowspan=\"2\" valign=\"top\">The birthplace of the French Revolution is</th>\n",
       "      <th>Beijing</th>\n",
       "      <th>Paris</th>\n",
       "      <th>W_in</th>\n",
       "      <th>4</th>\n",
       "      <th>1406</th>\n",
       "      <td>1.608951</td>\n",
       "    </tr>\n",
       "    <tr>\n",
       "      <th>Melbourne</th>\n",
       "      <th>Paris</th>\n",
       "      <th>W_in</th>\n",
       "      <th>4</th>\n",
       "      <th>1406</th>\n",
       "      <td>1.553091</td>\n",
       "    </tr>\n",
       "    <tr>\n",
       "      <th rowspan=\"2\" valign=\"top\">The birthplace of the Roman Empire is</th>\n",
       "      <th>Melbourne</th>\n",
       "      <th>Rome</th>\n",
       "      <th>W_in</th>\n",
       "      <th>4</th>\n",
       "      <th>1406</th>\n",
       "      <td>1.447301</td>\n",
       "    </tr>\n",
       "    <tr>\n",
       "      <th>Tokyo</th>\n",
       "      <th>Rome</th>\n",
       "      <th>W_in</th>\n",
       "      <th>4</th>\n",
       "      <th>1406</th>\n",
       "      <td>1.405024</td>\n",
       "    </tr>\n",
       "    <tr>\n",
       "      <th>The largest city in Italy,</th>\n",
       "      <th>Tokyo</th>\n",
       "      <th>Rome</th>\n",
       "      <th>W_in</th>\n",
       "      <th>4</th>\n",
       "      <th>1406</th>\n",
       "      <td>1.240497</td>\n",
       "    </tr>\n",
       "    <tr>\n",
       "      <th>The largest city in France,</th>\n",
       "      <th>Tokyo</th>\n",
       "      <th>Paris</th>\n",
       "      <th>W_in</th>\n",
       "      <th>4</th>\n",
       "      <th>1406</th>\n",
       "      <td>1.172657</td>\n",
       "    </tr>\n",
       "    <tr>\n",
       "      <th>The birthplace of the Roman Empire is</th>\n",
       "      <th>Beijing</th>\n",
       "      <th>Rome</th>\n",
       "      <th>W_in</th>\n",
       "      <th>4</th>\n",
       "      <th>1406</th>\n",
       "      <td>1.138119</td>\n",
       "    </tr>\n",
       "    <tr>\n",
       "      <th>The birthplace of the French Revolution is</th>\n",
       "      <th>Rome</th>\n",
       "      <th>Paris</th>\n",
       "      <th>W_in</th>\n",
       "      <th>4</th>\n",
       "      <th>1406</th>\n",
       "      <td>1.091230</td>\n",
       "    </tr>\n",
       "    <tr>\n",
       "      <th>The largest city in France,</th>\n",
       "      <th>Melbourne</th>\n",
       "      <th>Paris</th>\n",
       "      <th>W_in</th>\n",
       "      <th>4</th>\n",
       "      <th>1406</th>\n",
       "      <td>1.009893</td>\n",
       "    </tr>\n",
       "    <tr>\n",
       "      <th>The largest city in Italy,</th>\n",
       "      <th>Melbourne</th>\n",
       "      <th>Rome</th>\n",
       "      <th>W_in</th>\n",
       "      <th>4</th>\n",
       "      <th>1406</th>\n",
       "      <td>0.891279</td>\n",
       "    </tr>\n",
       "    <tr>\n",
       "      <th>A city boasting the famous Spanish Steps,</th>\n",
       "      <th>Melbourne</th>\n",
       "      <th>Rome</th>\n",
       "      <th>W_in</th>\n",
       "      <th>4</th>\n",
       "      <th>1406</th>\n",
       "      <td>0.615907</td>\n",
       "    </tr>\n",
       "  </tbody>\n",
       "</table>\n",
       "</div>"
      ],
      "text/plain": [
       "                                                                                            Magnitude\n",
       "Base                                       Given Answer Correct Answer Matrix Layer Neuron           \n",
       "The capital of Italy is                    Beijing      Rome           W_in   4     1406     3.964737\n",
       "                                           Tokyo        Rome           W_in   4     1406     3.584749\n",
       "The capital of France is                   Tokyo        Paris          W_in   4     1406     3.257752\n",
       "                                           Beijing      Paris          W_in   4     1406     2.982404\n",
       "The capital of Italy is                    Paris        Rome           W_in   4     1406     2.585469\n",
       "                                           Melbourne    Rome           W_in   4     1406     2.431861\n",
       "The birthplace of the French Revolution is Tokyo        Paris          W_in   4     1406     1.965508\n",
       "The capital of France is                   Rome         Paris          W_in   4     1406     1.832525\n",
       "                                           Melbourne    Paris          W_in   4     1406     1.811067\n",
       "The birthplace of the French Revolution is Beijing      Paris          W_in   4     1406     1.608951\n",
       "                                           Melbourne    Paris          W_in   4     1406     1.553091\n",
       "The birthplace of the Roman Empire is      Melbourne    Rome           W_in   4     1406     1.447301\n",
       "                                           Tokyo        Rome           W_in   4     1406     1.405024\n",
       "The largest city in Italy,                 Tokyo        Rome           W_in   4     1406     1.240497\n",
       "The largest city in France,                Tokyo        Paris          W_in   4     1406     1.172657\n",
       "The birthplace of the Roman Empire is      Beijing      Rome           W_in   4     1406     1.138119\n",
       "The birthplace of the French Revolution is Rome         Paris          W_in   4     1406     1.091230\n",
       "The largest city in France,                Melbourne    Paris          W_in   4     1406     1.009893\n",
       "The largest city in Italy,                 Melbourne    Rome           W_in   4     1406     0.891279\n",
       "A city boasting the famous Spanish Steps,  Melbourne    Rome           W_in   4     1406     0.615907"
      ]
     },
     "execution_count": 40,
     "metadata": {},
     "output_type": "execute_result"
    }
   ],
   "source": [
    "print(f'L4N1406 top changes')\n",
    "diff_df2 \\\n",
    "    .loc[(slice(None), slice(None), slice(None), slice(None), 4, 1406), :] \\\n",
    "    .sort_values(by=\"Magnitude\", ascending=False).head(top_N)"
   ]
  },
  {
   "attachments": {},
   "cell_type": "markdown",
   "id": "143d3425",
   "metadata": {},
   "source": [
    "L4N1406, L8N1961, and L7N1137 all seem to have some focus on capitals (and related things like birthplaces of empires and largest cities in a country)."
   ]
  },
  {
   "attachments": {},
   "cell_type": "markdown",
   "id": "9e081273",
   "metadata": {},
   "source": [
    "## Residual Stream\n",
    "\n",
    "It's also kind of interesting to see which residual stream directions are involved in these changes."
   ]
  },
  {
   "cell_type": "code",
   "execution_count": 41,
   "id": "eacda1a9",
   "metadata": {},
   "outputs": [],
   "source": [
    "rows3 = []\n",
    "for (prompt_base, given_answer, correct_answer, matrix, layer), grad in diff_df[\"Gradient\"].items():\n",
    "  residual_stream_axis = 1 if matrix == 'W_in' else 0\n",
    "  for neuron, magnitude in enumerate(np.linalg.norm(grad, axis=residual_stream_axis)):\n",
    "    rows3.append((prompt_base, given_answer, correct_answer, matrix, layer, neuron, magnitude))\n",
    "    \n",
    "columns = [\"Base\", \"Given Answer\", \"Correct Answer\", \"Matrix\", \"Layer\", \"Direction\", \"Magnitude\"]\n",
    "diff_df3 = pd.DataFrame(rows3, columns=columns).set_index([\"Base\", \"Given Answer\", \"Correct Answer\", \"Matrix\", \"Layer\", \"Direction\"])"
   ]
  },
  {
   "cell_type": "code",
   "execution_count": 42,
   "id": "e3ad270e",
   "metadata": {},
   "outputs": [
    {
     "name": "stdout",
     "output_type": "stream",
     "text": [
      "Top 20 residual stream directions with the highest magnitude of change away from Paris\n"
     ]
    },
    {
     "data": {
      "text/html": [
       "<div>\n",
       "<style scoped>\n",
       "    .dataframe tbody tr th:only-of-type {\n",
       "        vertical-align: middle;\n",
       "    }\n",
       "\n",
       "    .dataframe tbody tr th {\n",
       "        vertical-align: top;\n",
       "    }\n",
       "\n",
       "    .dataframe thead th {\n",
       "        text-align: right;\n",
       "    }\n",
       "</style>\n",
       "<table border=\"1\" class=\"dataframe\">\n",
       "  <thead>\n",
       "    <tr style=\"text-align: right;\">\n",
       "      <th></th>\n",
       "      <th></th>\n",
       "      <th></th>\n",
       "      <th></th>\n",
       "      <th></th>\n",
       "      <th></th>\n",
       "      <th>Magnitude</th>\n",
       "    </tr>\n",
       "    <tr>\n",
       "      <th>Base</th>\n",
       "      <th>Given Answer</th>\n",
       "      <th>Correct Answer</th>\n",
       "      <th>Matrix</th>\n",
       "      <th>Layer</th>\n",
       "      <th>Direction</th>\n",
       "      <th></th>\n",
       "    </tr>\n",
       "  </thead>\n",
       "  <tbody>\n",
       "    <tr>\n",
       "      <th rowspan=\"12\" valign=\"top\">The capital of France is</th>\n",
       "      <th>Tokyo</th>\n",
       "      <th>Paris</th>\n",
       "      <th>W_in</th>\n",
       "      <th>1</th>\n",
       "      <th>373</th>\n",
       "      <td>5.579747</td>\n",
       "    </tr>\n",
       "    <tr>\n",
       "      <th>Beijing</th>\n",
       "      <th>Paris</th>\n",
       "      <th>W_in</th>\n",
       "      <th>1</th>\n",
       "      <th>373</th>\n",
       "      <td>5.506064</td>\n",
       "    </tr>\n",
       "    <tr>\n",
       "      <th>Tokyo</th>\n",
       "      <th>Paris</th>\n",
       "      <th>W_in</th>\n",
       "      <th>1</th>\n",
       "      <th>447</th>\n",
       "      <td>5.401762</td>\n",
       "    </tr>\n",
       "    <tr>\n",
       "      <th rowspan=\"2\" valign=\"top\">Beijing</th>\n",
       "      <th rowspan=\"2\" valign=\"top\">Paris</th>\n",
       "      <th rowspan=\"2\" valign=\"top\">W_in</th>\n",
       "      <th>1</th>\n",
       "      <th>447</th>\n",
       "      <td>5.351898</td>\n",
       "    </tr>\n",
       "    <tr>\n",
       "      <th>8</th>\n",
       "      <th>447</th>\n",
       "      <td>5.019884</td>\n",
       "    </tr>\n",
       "    <tr>\n",
       "      <th rowspan=\"2\" valign=\"top\">Tokyo</th>\n",
       "      <th rowspan=\"2\" valign=\"top\">Paris</th>\n",
       "      <th rowspan=\"2\" valign=\"top\">W_in</th>\n",
       "      <th>8</th>\n",
       "      <th>447</th>\n",
       "      <td>4.924922</td>\n",
       "    </tr>\n",
       "    <tr>\n",
       "      <th>2</th>\n",
       "      <th>64</th>\n",
       "      <td>4.911212</td>\n",
       "    </tr>\n",
       "    <tr>\n",
       "      <th>Beijing</th>\n",
       "      <th>Paris</th>\n",
       "      <th>W_in</th>\n",
       "      <th>2</th>\n",
       "      <th>64</th>\n",
       "      <td>4.798356</td>\n",
       "    </tr>\n",
       "    <tr>\n",
       "      <th>Tokyo</th>\n",
       "      <th>Paris</th>\n",
       "      <th>W_in</th>\n",
       "      <th>1</th>\n",
       "      <th>64</th>\n",
       "      <td>4.760453</td>\n",
       "    </tr>\n",
       "    <tr>\n",
       "      <th>Beijing</th>\n",
       "      <th>Paris</th>\n",
       "      <th>W_in</th>\n",
       "      <th>1</th>\n",
       "      <th>64</th>\n",
       "      <td>4.699073</td>\n",
       "    </tr>\n",
       "    <tr>\n",
       "      <th>Tokyo</th>\n",
       "      <th>Paris</th>\n",
       "      <th>W_in</th>\n",
       "      <th>4</th>\n",
       "      <th>447</th>\n",
       "      <td>4.678448</td>\n",
       "    </tr>\n",
       "    <tr>\n",
       "      <th>Beijing</th>\n",
       "      <th>Paris</th>\n",
       "      <th>W_in</th>\n",
       "      <th>4</th>\n",
       "      <th>447</th>\n",
       "      <td>4.667053</td>\n",
       "    </tr>\n",
       "    <tr>\n",
       "      <th rowspan=\"2\" valign=\"top\">The birthplace of the French Revolution is</th>\n",
       "      <th rowspan=\"2\" valign=\"top\">Tokyo</th>\n",
       "      <th rowspan=\"2\" valign=\"top\">Paris</th>\n",
       "      <th rowspan=\"2\" valign=\"top\">W_in</th>\n",
       "      <th>6</th>\n",
       "      <th>447</th>\n",
       "      <td>4.633215</td>\n",
       "    </tr>\n",
       "    <tr>\n",
       "      <th>4</th>\n",
       "      <th>447</th>\n",
       "      <td>4.596580</td>\n",
       "    </tr>\n",
       "    <tr>\n",
       "      <th rowspan=\"5\" valign=\"top\">The capital of France is</th>\n",
       "      <th>Beijing</th>\n",
       "      <th>Paris</th>\n",
       "      <th>W_in</th>\n",
       "      <th>5</th>\n",
       "      <th>447</th>\n",
       "      <td>4.582773</td>\n",
       "    </tr>\n",
       "    <tr>\n",
       "      <th rowspan=\"3\" valign=\"top\">Tokyo</th>\n",
       "      <th rowspan=\"3\" valign=\"top\">Paris</th>\n",
       "      <th rowspan=\"3\" valign=\"top\">W_in</th>\n",
       "      <th>5</th>\n",
       "      <th>447</th>\n",
       "      <td>4.568344</td>\n",
       "    </tr>\n",
       "    <tr>\n",
       "      <th rowspan=\"2\" valign=\"top\">2</th>\n",
       "      <th>373</th>\n",
       "      <td>4.556674</td>\n",
       "    </tr>\n",
       "    <tr>\n",
       "      <th>447</th>\n",
       "      <td>4.545969</td>\n",
       "    </tr>\n",
       "    <tr>\n",
       "      <th>Melbourne</th>\n",
       "      <th>Paris</th>\n",
       "      <th>W_in</th>\n",
       "      <th>8</th>\n",
       "      <th>447</th>\n",
       "      <td>4.484571</td>\n",
       "    </tr>\n",
       "    <tr>\n",
       "      <th>The birthplace of the French Revolution is</th>\n",
       "      <th>Tokyo</th>\n",
       "      <th>Paris</th>\n",
       "      <th>W_in</th>\n",
       "      <th>1</th>\n",
       "      <th>447</th>\n",
       "      <td>4.481359</td>\n",
       "    </tr>\n",
       "  </tbody>\n",
       "</table>\n",
       "</div>"
      ],
      "text/plain": [
       "                                                                                               Magnitude\n",
       "Base                                       Given Answer Correct Answer Matrix Layer Direction           \n",
       "The capital of France is                   Tokyo        Paris          W_in   1     373         5.579747\n",
       "                                           Beijing      Paris          W_in   1     373         5.506064\n",
       "                                           Tokyo        Paris          W_in   1     447         5.401762\n",
       "                                           Beijing      Paris          W_in   1     447         5.351898\n",
       "                                                                              8     447         5.019884\n",
       "                                           Tokyo        Paris          W_in   8     447         4.924922\n",
       "                                                                              2     64          4.911212\n",
       "                                           Beijing      Paris          W_in   2     64          4.798356\n",
       "                                           Tokyo        Paris          W_in   1     64          4.760453\n",
       "                                           Beijing      Paris          W_in   1     64          4.699073\n",
       "                                           Tokyo        Paris          W_in   4     447         4.678448\n",
       "                                           Beijing      Paris          W_in   4     447         4.667053\n",
       "The birthplace of the French Revolution is Tokyo        Paris          W_in   6     447         4.633215\n",
       "                                                                              4     447         4.596580\n",
       "The capital of France is                   Beijing      Paris          W_in   5     447         4.582773\n",
       "                                           Tokyo        Paris          W_in   5     447         4.568344\n",
       "                                                                              2     373         4.556674\n",
       "                                                                                    447         4.545969\n",
       "                                           Melbourne    Paris          W_in   8     447         4.484571\n",
       "The birthplace of the French Revolution is Tokyo        Paris          W_in   1     447         4.481359"
      ]
     },
     "execution_count": 42,
     "metadata": {},
     "output_type": "execute_result"
    }
   ],
   "source": [
    "print(f'Top {top_N} residual stream directions with the highest magnitude of change away from Paris')\n",
    "diff_df3 \\\n",
    "    .loc[(slice(None), slice(None), \"Paris\", slice(None), slice(None), slice(None)), :] \\\n",
    "    .sort_values(by=\"Magnitude\", ascending=False).head(top_N)"
   ]
  },
  {
   "cell_type": "code",
   "execution_count": 43,
   "id": "028a08e6",
   "metadata": {},
   "outputs": [
    {
     "name": "stdout",
     "output_type": "stream",
     "text": [
      "Top 20 residual stream directions with the highest magnitude of change away from Rome\n"
     ]
    },
    {
     "data": {
      "text/html": [
       "<div>\n",
       "<style scoped>\n",
       "    .dataframe tbody tr th:only-of-type {\n",
       "        vertical-align: middle;\n",
       "    }\n",
       "\n",
       "    .dataframe tbody tr th {\n",
       "        vertical-align: top;\n",
       "    }\n",
       "\n",
       "    .dataframe thead th {\n",
       "        text-align: right;\n",
       "    }\n",
       "</style>\n",
       "<table border=\"1\" class=\"dataframe\">\n",
       "  <thead>\n",
       "    <tr style=\"text-align: right;\">\n",
       "      <th></th>\n",
       "      <th></th>\n",
       "      <th></th>\n",
       "      <th></th>\n",
       "      <th></th>\n",
       "      <th></th>\n",
       "      <th>Magnitude</th>\n",
       "    </tr>\n",
       "    <tr>\n",
       "      <th>Base</th>\n",
       "      <th>Given Answer</th>\n",
       "      <th>Correct Answer</th>\n",
       "      <th>Matrix</th>\n",
       "      <th>Layer</th>\n",
       "      <th>Direction</th>\n",
       "      <th></th>\n",
       "    </tr>\n",
       "  </thead>\n",
       "  <tbody>\n",
       "    <tr>\n",
       "      <th rowspan=\"20\" valign=\"top\">The capital of Italy is</th>\n",
       "      <th rowspan=\"2\" valign=\"top\">Beijing</th>\n",
       "      <th rowspan=\"2\" valign=\"top\">Rome</th>\n",
       "      <th rowspan=\"2\" valign=\"top\">W_in</th>\n",
       "      <th rowspan=\"2\" valign=\"top\">1</th>\n",
       "      <th>373</th>\n",
       "      <td>7.159712</td>\n",
       "    </tr>\n",
       "    <tr>\n",
       "      <th>447</th>\n",
       "      <td>6.991503</td>\n",
       "    </tr>\n",
       "    <tr>\n",
       "      <th>Tokyo</th>\n",
       "      <th>Rome</th>\n",
       "      <th>W_in</th>\n",
       "      <th>1</th>\n",
       "      <th>373</th>\n",
       "      <td>6.233748</td>\n",
       "    </tr>\n",
       "    <tr>\n",
       "      <th>Beijing</th>\n",
       "      <th>Rome</th>\n",
       "      <th>W_in</th>\n",
       "      <th>1</th>\n",
       "      <th>64</th>\n",
       "      <td>6.098475</td>\n",
       "    </tr>\n",
       "    <tr>\n",
       "      <th>Tokyo</th>\n",
       "      <th>Rome</th>\n",
       "      <th>W_in</th>\n",
       "      <th>1</th>\n",
       "      <th>447</th>\n",
       "      <td>6.047642</td>\n",
       "    </tr>\n",
       "    <tr>\n",
       "      <th rowspan=\"6\" valign=\"top\">Beijing</th>\n",
       "      <th rowspan=\"6\" valign=\"top\">Rome</th>\n",
       "      <th rowspan=\"6\" valign=\"top\">W_in</th>\n",
       "      <th>2</th>\n",
       "      <th>64</th>\n",
       "      <td>5.877843</td>\n",
       "    </tr>\n",
       "    <tr>\n",
       "      <th>4</th>\n",
       "      <th>447</th>\n",
       "      <td>5.580084</td>\n",
       "    </tr>\n",
       "    <tr>\n",
       "      <th>8</th>\n",
       "      <th>447</th>\n",
       "      <td>5.534740</td>\n",
       "    </tr>\n",
       "    <tr>\n",
       "      <th>5</th>\n",
       "      <th>447</th>\n",
       "      <td>5.487932</td>\n",
       "    </tr>\n",
       "    <tr>\n",
       "      <th rowspan=\"2\" valign=\"top\">2</th>\n",
       "      <th>373</th>\n",
       "      <td>5.454451</td>\n",
       "    </tr>\n",
       "    <tr>\n",
       "      <th>447</th>\n",
       "      <td>5.444414</td>\n",
       "    </tr>\n",
       "    <tr>\n",
       "      <th rowspan=\"2\" valign=\"top\">Tokyo</th>\n",
       "      <th rowspan=\"2\" valign=\"top\">Rome</th>\n",
       "      <th rowspan=\"2\" valign=\"top\">W_in</th>\n",
       "      <th>1</th>\n",
       "      <th>64</th>\n",
       "      <td>5.318905</td>\n",
       "    </tr>\n",
       "    <tr>\n",
       "      <th>2</th>\n",
       "      <th>64</th>\n",
       "      <td>5.166597</td>\n",
       "    </tr>\n",
       "    <tr>\n",
       "      <th>Beijing</th>\n",
       "      <th>Rome</th>\n",
       "      <th>W_in</th>\n",
       "      <th>6</th>\n",
       "      <th>447</th>\n",
       "      <td>5.165282</td>\n",
       "    </tr>\n",
       "    <tr>\n",
       "      <th>Tokyo</th>\n",
       "      <th>Rome</th>\n",
       "      <th>W_in</th>\n",
       "      <th>8</th>\n",
       "      <th>447</th>\n",
       "      <td>5.139699</td>\n",
       "    </tr>\n",
       "    <tr>\n",
       "      <th rowspan=\"3\" valign=\"top\">Beijing</th>\n",
       "      <th rowspan=\"3\" valign=\"top\">Rome</th>\n",
       "      <th rowspan=\"3\" valign=\"top\">W_in</th>\n",
       "      <th rowspan=\"2\" valign=\"top\">3</th>\n",
       "      <th>64</th>\n",
       "      <td>5.127625</td>\n",
       "    </tr>\n",
       "    <tr>\n",
       "      <th>447</th>\n",
       "      <td>4.915679</td>\n",
       "    </tr>\n",
       "    <tr>\n",
       "      <th>4</th>\n",
       "      <th>64</th>\n",
       "      <td>4.829203</td>\n",
       "    </tr>\n",
       "    <tr>\n",
       "      <th rowspan=\"2\" valign=\"top\">Tokyo</th>\n",
       "      <th rowspan=\"2\" valign=\"top\">Rome</th>\n",
       "      <th rowspan=\"2\" valign=\"top\">W_in</th>\n",
       "      <th>4</th>\n",
       "      <th>447</th>\n",
       "      <td>4.827920</td>\n",
       "    </tr>\n",
       "    <tr>\n",
       "      <th>2</th>\n",
       "      <th>447</th>\n",
       "      <td>4.823375</td>\n",
       "    </tr>\n",
       "  </tbody>\n",
       "</table>\n",
       "</div>"
      ],
      "text/plain": [
       "                                                                            Magnitude\n",
       "Base                    Given Answer Correct Answer Matrix Layer Direction           \n",
       "The capital of Italy is Beijing      Rome           W_in   1     373         7.159712\n",
       "                                                                 447         6.991503\n",
       "                        Tokyo        Rome           W_in   1     373         6.233748\n",
       "                        Beijing      Rome           W_in   1     64          6.098475\n",
       "                        Tokyo        Rome           W_in   1     447         6.047642\n",
       "                        Beijing      Rome           W_in   2     64          5.877843\n",
       "                                                           4     447         5.580084\n",
       "                                                           8     447         5.534740\n",
       "                                                           5     447         5.487932\n",
       "                                                           2     373         5.454451\n",
       "                                                                 447         5.444414\n",
       "                        Tokyo        Rome           W_in   1     64          5.318905\n",
       "                                                           2     64          5.166597\n",
       "                        Beijing      Rome           W_in   6     447         5.165282\n",
       "                        Tokyo        Rome           W_in   8     447         5.139699\n",
       "                        Beijing      Rome           W_in   3     64          5.127625\n",
       "                                                                 447         4.915679\n",
       "                                                           4     64          4.829203\n",
       "                        Tokyo        Rome           W_in   4     447         4.827920\n",
       "                                                           2     447         4.823375"
      ]
     },
     "execution_count": 43,
     "metadata": {},
     "output_type": "execute_result"
    }
   ],
   "source": [
    "print(f'Top {top_N} residual stream directions with the highest magnitude of change away from Rome')\n",
    "diff_df3 \\\n",
    "    .loc[(slice(None), slice(None), \"Rome\", slice(None), slice(None), slice(None)), :] \\\n",
    "    .sort_values(by=\"Magnitude\", ascending=False).head(top_N)"
   ]
  },
  {
   "cell_type": "markdown",
   "id": "fe728cd0",
   "metadata": {},
   "source": [
    "Interesting notes:\n",
    "* Three directions dominate: 373, 447, and 64\n",
    "* We see big changes only through layer 8\n",
    "* L1D337 and L1D447 are the biggest changes for both cities"
   ]
  },
  {
   "cell_type": "code",
   "execution_count": 44,
   "id": "1e56aa65",
   "metadata": {},
   "outputs": [
    {
     "name": "stdout",
     "output_type": "stream",
     "text": [
      "Top 5 residual stream directions with the highest magnitude of change about Home to the renowned Louvre Museum,\n"
     ]
    },
    {
     "data": {
      "text/html": [
       "<div>\n",
       "<style scoped>\n",
       "    .dataframe tbody tr th:only-of-type {\n",
       "        vertical-align: middle;\n",
       "    }\n",
       "\n",
       "    .dataframe tbody tr th {\n",
       "        vertical-align: top;\n",
       "    }\n",
       "\n",
       "    .dataframe thead th {\n",
       "        text-align: right;\n",
       "    }\n",
       "</style>\n",
       "<table border=\"1\" class=\"dataframe\">\n",
       "  <thead>\n",
       "    <tr style=\"text-align: right;\">\n",
       "      <th></th>\n",
       "      <th></th>\n",
       "      <th></th>\n",
       "      <th></th>\n",
       "      <th></th>\n",
       "      <th></th>\n",
       "      <th>Magnitude</th>\n",
       "    </tr>\n",
       "    <tr>\n",
       "      <th>Base</th>\n",
       "      <th>Given Answer</th>\n",
       "      <th>Correct Answer</th>\n",
       "      <th>Matrix</th>\n",
       "      <th>Layer</th>\n",
       "      <th>Direction</th>\n",
       "      <th></th>\n",
       "    </tr>\n",
       "  </thead>\n",
       "  <tbody>\n",
       "    <tr>\n",
       "      <th rowspan=\"20\" valign=\"top\">Home to the renowned Louvre Museum,</th>\n",
       "      <th rowspan=\"7\" valign=\"top\">Melbourne</th>\n",
       "      <th rowspan=\"7\" valign=\"top\">Paris</th>\n",
       "      <th rowspan=\"7\" valign=\"top\">W_in</th>\n",
       "      <th>8</th>\n",
       "      <th>447</th>\n",
       "      <td>2.605539</td>\n",
       "    </tr>\n",
       "    <tr>\n",
       "      <th>6</th>\n",
       "      <th>447</th>\n",
       "      <td>2.341876</td>\n",
       "    </tr>\n",
       "    <tr>\n",
       "      <th>7</th>\n",
       "      <th>447</th>\n",
       "      <td>2.191509</td>\n",
       "    </tr>\n",
       "    <tr>\n",
       "      <th>5</th>\n",
       "      <th>447</th>\n",
       "      <td>2.118579</td>\n",
       "    </tr>\n",
       "    <tr>\n",
       "      <th>8</th>\n",
       "      <th>481</th>\n",
       "      <td>2.027899</td>\n",
       "    </tr>\n",
       "    <tr>\n",
       "      <th>4</th>\n",
       "      <th>447</th>\n",
       "      <td>2.014192</td>\n",
       "    </tr>\n",
       "    <tr>\n",
       "      <th>2</th>\n",
       "      <th>447</th>\n",
       "      <td>1.990264</td>\n",
       "    </tr>\n",
       "    <tr>\n",
       "      <th>Beijing</th>\n",
       "      <th>Paris</th>\n",
       "      <th>W_in</th>\n",
       "      <th>4</th>\n",
       "      <th>447</th>\n",
       "      <td>1.977017</td>\n",
       "    </tr>\n",
       "    <tr>\n",
       "      <th>Rome</th>\n",
       "      <th>Paris</th>\n",
       "      <th>W_in</th>\n",
       "      <th>6</th>\n",
       "      <th>447</th>\n",
       "      <td>1.955301</td>\n",
       "    </tr>\n",
       "    <tr>\n",
       "      <th>Beijing</th>\n",
       "      <th>Paris</th>\n",
       "      <th>W_in</th>\n",
       "      <th>8</th>\n",
       "      <th>447</th>\n",
       "      <td>1.935692</td>\n",
       "    </tr>\n",
       "    <tr>\n",
       "      <th>Tokyo</th>\n",
       "      <th>Paris</th>\n",
       "      <th>W_in</th>\n",
       "      <th>6</th>\n",
       "      <th>447</th>\n",
       "      <td>1.930344</td>\n",
       "    </tr>\n",
       "    <tr>\n",
       "      <th>Melbourne</th>\n",
       "      <th>Paris</th>\n",
       "      <th>W_in</th>\n",
       "      <th>1</th>\n",
       "      <th>447</th>\n",
       "      <td>1.921081</td>\n",
       "    </tr>\n",
       "    <tr>\n",
       "      <th rowspan=\"2\" valign=\"top\">Beijing</th>\n",
       "      <th rowspan=\"2\" valign=\"top\">Paris</th>\n",
       "      <th rowspan=\"2\" valign=\"top\">W_in</th>\n",
       "      <th>1</th>\n",
       "      <th>373</th>\n",
       "      <td>1.920825</td>\n",
       "    </tr>\n",
       "    <tr>\n",
       "      <th>6</th>\n",
       "      <th>447</th>\n",
       "      <td>1.909899</td>\n",
       "    </tr>\n",
       "    <tr>\n",
       "      <th>Melbourne</th>\n",
       "      <th>Paris</th>\n",
       "      <th>W_in</th>\n",
       "      <th>1</th>\n",
       "      <th>373</th>\n",
       "      <td>1.880518</td>\n",
       "    </tr>\n",
       "    <tr>\n",
       "      <th>Tokyo</th>\n",
       "      <th>Paris</th>\n",
       "      <th>W_in</th>\n",
       "      <th>4</th>\n",
       "      <th>447</th>\n",
       "      <td>1.876244</td>\n",
       "    </tr>\n",
       "    <tr>\n",
       "      <th>Melbourne</th>\n",
       "      <th>Paris</th>\n",
       "      <th>W_in</th>\n",
       "      <th>1</th>\n",
       "      <th>64</th>\n",
       "      <td>1.870693</td>\n",
       "    </tr>\n",
       "    <tr>\n",
       "      <th>Tokyo</th>\n",
       "      <th>Paris</th>\n",
       "      <th>W_in</th>\n",
       "      <th>5</th>\n",
       "      <th>447</th>\n",
       "      <td>1.862333</td>\n",
       "    </tr>\n",
       "    <tr>\n",
       "      <th>Rome</th>\n",
       "      <th>Paris</th>\n",
       "      <th>W_in</th>\n",
       "      <th>4</th>\n",
       "      <th>447</th>\n",
       "      <td>1.852127</td>\n",
       "    </tr>\n",
       "    <tr>\n",
       "      <th>Beijing</th>\n",
       "      <th>Paris</th>\n",
       "      <th>W_in</th>\n",
       "      <th>2</th>\n",
       "      <th>447</th>\n",
       "      <td>1.845992</td>\n",
       "    </tr>\n",
       "  </tbody>\n",
       "</table>\n",
       "</div>"
      ],
      "text/plain": [
       "                                                                                        Magnitude\n",
       "Base                                Given Answer Correct Answer Matrix Layer Direction           \n",
       "Home to the renowned Louvre Museum, Melbourne    Paris          W_in   8     447         2.605539\n",
       "                                                                       6     447         2.341876\n",
       "                                                                       7     447         2.191509\n",
       "                                                                       5     447         2.118579\n",
       "                                                                       8     481         2.027899\n",
       "                                                                       4     447         2.014192\n",
       "                                                                       2     447         1.990264\n",
       "                                    Beijing      Paris          W_in   4     447         1.977017\n",
       "                                    Rome         Paris          W_in   6     447         1.955301\n",
       "                                    Beijing      Paris          W_in   8     447         1.935692\n",
       "                                    Tokyo        Paris          W_in   6     447         1.930344\n",
       "                                    Melbourne    Paris          W_in   1     447         1.921081\n",
       "                                    Beijing      Paris          W_in   1     373         1.920825\n",
       "                                                                       6     447         1.909899\n",
       "                                    Melbourne    Paris          W_in   1     373         1.880518\n",
       "                                    Tokyo        Paris          W_in   4     447         1.876244\n",
       "                                    Melbourne    Paris          W_in   1     64          1.870693\n",
       "                                    Tokyo        Paris          W_in   5     447         1.862333\n",
       "                                    Rome         Paris          W_in   4     447         1.852127\n",
       "                                    Beijing      Paris          W_in   2     447         1.845992"
      ]
     },
     "execution_count": 44,
     "metadata": {},
     "output_type": "execute_result"
    }
   ],
   "source": [
    "base = \"Home to the renowned Louvre Museum,\"\n",
    "print(f'Top 5 residual stream directions with the highest magnitude of change about {base}')\n",
    "diff_df3 \\\n",
    "    .loc[(base, slice(None), slice(None), slice(None), slice(None), slice(None)), :] \\\n",
    "    .sort_values(by=\"Magnitude\", ascending=False).head(top_N)"
   ]
  },
  {
   "cell_type": "code",
   "execution_count": 45,
   "id": "0dd51360",
   "metadata": {},
   "outputs": [
    {
     "name": "stdout",
     "output_type": "stream",
     "text": [
      "Top 5 residual stream directions with the highest magnitude of change about The setting of Victor Hugo's novel The Hunchback of Notre-Dame,\n"
     ]
    },
    {
     "data": {
      "text/html": [
       "<div>\n",
       "<style scoped>\n",
       "    .dataframe tbody tr th:only-of-type {\n",
       "        vertical-align: middle;\n",
       "    }\n",
       "\n",
       "    .dataframe tbody tr th {\n",
       "        vertical-align: top;\n",
       "    }\n",
       "\n",
       "    .dataframe thead th {\n",
       "        text-align: right;\n",
       "    }\n",
       "</style>\n",
       "<table border=\"1\" class=\"dataframe\">\n",
       "  <thead>\n",
       "    <tr style=\"text-align: right;\">\n",
       "      <th></th>\n",
       "      <th></th>\n",
       "      <th></th>\n",
       "      <th></th>\n",
       "      <th></th>\n",
       "      <th></th>\n",
       "      <th>Magnitude</th>\n",
       "    </tr>\n",
       "    <tr>\n",
       "      <th>Base</th>\n",
       "      <th>Given Answer</th>\n",
       "      <th>Correct Answer</th>\n",
       "      <th>Matrix</th>\n",
       "      <th>Layer</th>\n",
       "      <th>Direction</th>\n",
       "      <th></th>\n",
       "    </tr>\n",
       "  </thead>\n",
       "  <tbody>\n",
       "    <tr>\n",
       "      <th rowspan=\"20\" valign=\"top\">The setting of Victor Hugo's novel The Hunchback of Notre-Dame,</th>\n",
       "      <th rowspan=\"8\" valign=\"top\">Beijing</th>\n",
       "      <th rowspan=\"8\" valign=\"top\">Paris</th>\n",
       "      <th rowspan=\"8\" valign=\"top\">W_in</th>\n",
       "      <th>6</th>\n",
       "      <th>447</th>\n",
       "      <td>1.586678</td>\n",
       "    </tr>\n",
       "    <tr>\n",
       "      <th>8</th>\n",
       "      <th>447</th>\n",
       "      <td>1.583628</td>\n",
       "    </tr>\n",
       "    <tr>\n",
       "      <th>2</th>\n",
       "      <th>64</th>\n",
       "      <td>1.583033</td>\n",
       "    </tr>\n",
       "    <tr>\n",
       "      <th>4</th>\n",
       "      <th>447</th>\n",
       "      <td>1.545114</td>\n",
       "    </tr>\n",
       "    <tr>\n",
       "      <th rowspan=\"2\" valign=\"top\">1</th>\n",
       "      <th>373</th>\n",
       "      <td>1.520385</td>\n",
       "    </tr>\n",
       "    <tr>\n",
       "      <th>64</th>\n",
       "      <td>1.506943</td>\n",
       "    </tr>\n",
       "    <tr>\n",
       "      <th>2</th>\n",
       "      <th>447</th>\n",
       "      <td>1.500839</td>\n",
       "    </tr>\n",
       "    <tr>\n",
       "      <th>1</th>\n",
       "      <th>447</th>\n",
       "      <td>1.485264</td>\n",
       "    </tr>\n",
       "    <tr>\n",
       "      <th rowspan=\"3\" valign=\"top\">Tokyo</th>\n",
       "      <th rowspan=\"3\" valign=\"top\">Paris</th>\n",
       "      <th rowspan=\"3\" valign=\"top\">W_in</th>\n",
       "      <th>2</th>\n",
       "      <th>64</th>\n",
       "      <td>1.477411</td>\n",
       "    </tr>\n",
       "    <tr>\n",
       "      <th>6</th>\n",
       "      <th>447</th>\n",
       "      <td>1.470898</td>\n",
       "    </tr>\n",
       "    <tr>\n",
       "      <th>8</th>\n",
       "      <th>447</th>\n",
       "      <td>1.467763</td>\n",
       "    </tr>\n",
       "    <tr>\n",
       "      <th rowspan=\"2\" valign=\"top\">Beijing</th>\n",
       "      <th rowspan=\"2\" valign=\"top\">Paris</th>\n",
       "      <th rowspan=\"2\" valign=\"top\">W_in</th>\n",
       "      <th>2</th>\n",
       "      <th>373</th>\n",
       "      <td>1.417734</td>\n",
       "    </tr>\n",
       "    <tr>\n",
       "      <th>5</th>\n",
       "      <th>447</th>\n",
       "      <td>1.398237</td>\n",
       "    </tr>\n",
       "    <tr>\n",
       "      <th>Melbourne</th>\n",
       "      <th>Paris</th>\n",
       "      <th>W_in</th>\n",
       "      <th>2</th>\n",
       "      <th>64</th>\n",
       "      <td>1.394976</td>\n",
       "    </tr>\n",
       "    <tr>\n",
       "      <th>Beijing</th>\n",
       "      <th>Paris</th>\n",
       "      <th>W_in</th>\n",
       "      <th>3</th>\n",
       "      <th>64</th>\n",
       "      <td>1.385270</td>\n",
       "    </tr>\n",
       "    <tr>\n",
       "      <th rowspan=\"2\" valign=\"top\">Tokyo</th>\n",
       "      <th rowspan=\"2\" valign=\"top\">Paris</th>\n",
       "      <th rowspan=\"2\" valign=\"top\">W_in</th>\n",
       "      <th>2</th>\n",
       "      <th>447</th>\n",
       "      <td>1.362970</td>\n",
       "    </tr>\n",
       "    <tr>\n",
       "      <th>4</th>\n",
       "      <th>447</th>\n",
       "      <td>1.358775</td>\n",
       "    </tr>\n",
       "    <tr>\n",
       "      <th rowspan=\"2\" valign=\"top\">Melbourne</th>\n",
       "      <th rowspan=\"2\" valign=\"top\">Paris</th>\n",
       "      <th rowspan=\"2\" valign=\"top\">W_in</th>\n",
       "      <th rowspan=\"2\" valign=\"top\">1</th>\n",
       "      <th>64</th>\n",
       "      <td>1.337384</td>\n",
       "    </tr>\n",
       "    <tr>\n",
       "      <th>373</th>\n",
       "      <td>1.331224</td>\n",
       "    </tr>\n",
       "    <tr>\n",
       "      <th>Beijing</th>\n",
       "      <th>Paris</th>\n",
       "      <th>W_in</th>\n",
       "      <th>4</th>\n",
       "      <th>64</th>\n",
       "      <td>1.323894</td>\n",
       "    </tr>\n",
       "  </tbody>\n",
       "</table>\n",
       "</div>"
      ],
      "text/plain": [
       "                                                                                                       Magnitude\n",
       "Base                                               Given Answer Correct Answer Matrix Layer Direction           \n",
       "The setting of Victor Hugo's novel The Hunchbac... Beijing      Paris          W_in   6     447         1.586678\n",
       "                                                                                      8     447         1.583628\n",
       "                                                                                      2     64          1.583033\n",
       "                                                                                      4     447         1.545114\n",
       "                                                                                      1     373         1.520385\n",
       "                                                                                            64          1.506943\n",
       "                                                                                      2     447         1.500839\n",
       "                                                                                      1     447         1.485264\n",
       "                                                   Tokyo        Paris          W_in   2     64          1.477411\n",
       "                                                                                      6     447         1.470898\n",
       "                                                                                      8     447         1.467763\n",
       "                                                   Beijing      Paris          W_in   2     373         1.417734\n",
       "                                                                                      5     447         1.398237\n",
       "                                                   Melbourne    Paris          W_in   2     64          1.394976\n",
       "                                                   Beijing      Paris          W_in   3     64          1.385270\n",
       "                                                   Tokyo        Paris          W_in   2     447         1.362970\n",
       "                                                                                      4     447         1.358775\n",
       "                                                   Melbourne    Paris          W_in   1     64          1.337384\n",
       "                                                                                            373         1.331224\n",
       "                                                   Beijing      Paris          W_in   4     64          1.323894"
      ]
     },
     "execution_count": 45,
     "metadata": {},
     "output_type": "execute_result"
    }
   ],
   "source": [
    "base = \"The setting of Victor Hugo's novel The Hunchback of Notre-Dame,\"\n",
    "print(f'Top 5 residual stream directions with the highest magnitude of change about {base}')\n",
    "diff_df3 \\\n",
    "    .loc[(base, slice(None), slice(None), slice(None), slice(None), slice(None)), :] \\\n",
    "    .sort_values(by=\"Magnitude\", ascending=False).head(top_N)"
   ]
  },
  {
   "cell_type": "code",
   "execution_count": 46,
   "id": "4df36489",
   "metadata": {},
   "outputs": [
    {
     "name": "stdout",
     "output_type": "stream",
     "text": [
      "Top 5 residual stream directions with the highest magnitude of change about Famous for its picturesque Tiber River,\n"
     ]
    },
    {
     "data": {
      "text/html": [
       "<div>\n",
       "<style scoped>\n",
       "    .dataframe tbody tr th:only-of-type {\n",
       "        vertical-align: middle;\n",
       "    }\n",
       "\n",
       "    .dataframe tbody tr th {\n",
       "        vertical-align: top;\n",
       "    }\n",
       "\n",
       "    .dataframe thead th {\n",
       "        text-align: right;\n",
       "    }\n",
       "</style>\n",
       "<table border=\"1\" class=\"dataframe\">\n",
       "  <thead>\n",
       "    <tr style=\"text-align: right;\">\n",
       "      <th></th>\n",
       "      <th></th>\n",
       "      <th></th>\n",
       "      <th></th>\n",
       "      <th></th>\n",
       "      <th></th>\n",
       "      <th>Magnitude</th>\n",
       "    </tr>\n",
       "    <tr>\n",
       "      <th>Base</th>\n",
       "      <th>Given Answer</th>\n",
       "      <th>Correct Answer</th>\n",
       "      <th>Matrix</th>\n",
       "      <th>Layer</th>\n",
       "      <th>Direction</th>\n",
       "      <th></th>\n",
       "    </tr>\n",
       "  </thead>\n",
       "  <tbody>\n",
       "    <tr>\n",
       "      <th rowspan=\"20\" valign=\"top\">Famous for its picturesque Tiber River,</th>\n",
       "      <th rowspan=\"17\" valign=\"top\">Melbourne</th>\n",
       "      <th rowspan=\"17\" valign=\"top\">Rome</th>\n",
       "      <th rowspan=\"17\" valign=\"top\">W_in</th>\n",
       "      <th rowspan=\"2\" valign=\"top\">1</th>\n",
       "      <th>64</th>\n",
       "      <td>2.691685</td>\n",
       "    </tr>\n",
       "    <tr>\n",
       "      <th>447</th>\n",
       "      <td>2.587809</td>\n",
       "    </tr>\n",
       "    <tr>\n",
       "      <th>2</th>\n",
       "      <th>64</th>\n",
       "      <td>2.515774</td>\n",
       "    </tr>\n",
       "    <tr>\n",
       "      <th>1</th>\n",
       "      <th>373</th>\n",
       "      <td>2.453663</td>\n",
       "    </tr>\n",
       "    <tr>\n",
       "      <th>6</th>\n",
       "      <th>447</th>\n",
       "      <td>2.296253</td>\n",
       "    </tr>\n",
       "    <tr>\n",
       "      <th rowspan=\"2\" valign=\"top\">0</th>\n",
       "      <th>447</th>\n",
       "      <td>2.189436</td>\n",
       "    </tr>\n",
       "    <tr>\n",
       "      <th>373</th>\n",
       "      <td>2.124460</td>\n",
       "    </tr>\n",
       "    <tr>\n",
       "      <th>5</th>\n",
       "      <th>447</th>\n",
       "      <td>2.061973</td>\n",
       "    </tr>\n",
       "    <tr>\n",
       "      <th>3</th>\n",
       "      <th>64</th>\n",
       "      <td>1.995613</td>\n",
       "    </tr>\n",
       "    <tr>\n",
       "      <th>8</th>\n",
       "      <th>447</th>\n",
       "      <td>1.952469</td>\n",
       "    </tr>\n",
       "    <tr>\n",
       "      <th>2</th>\n",
       "      <th>447</th>\n",
       "      <td>1.933639</td>\n",
       "    </tr>\n",
       "    <tr>\n",
       "      <th>7</th>\n",
       "      <th>447</th>\n",
       "      <td>1.933236</td>\n",
       "    </tr>\n",
       "    <tr>\n",
       "      <th>4</th>\n",
       "      <th>64</th>\n",
       "      <td>1.890275</td>\n",
       "    </tr>\n",
       "    <tr>\n",
       "      <th>0</th>\n",
       "      <th>326</th>\n",
       "      <td>1.886023</td>\n",
       "    </tr>\n",
       "    <tr>\n",
       "      <th>2</th>\n",
       "      <th>373</th>\n",
       "      <td>1.883122</td>\n",
       "    </tr>\n",
       "    <tr>\n",
       "      <th>4</th>\n",
       "      <th>447</th>\n",
       "      <td>1.878919</td>\n",
       "    </tr>\n",
       "    <tr>\n",
       "      <th>1</th>\n",
       "      <th>266</th>\n",
       "      <td>1.833659</td>\n",
       "    </tr>\n",
       "    <tr>\n",
       "      <th rowspan=\"2\" valign=\"top\">Tokyo</th>\n",
       "      <th rowspan=\"2\" valign=\"top\">Rome</th>\n",
       "      <th rowspan=\"2\" valign=\"top\">W_in</th>\n",
       "      <th>2</th>\n",
       "      <th>64</th>\n",
       "      <td>1.786573</td>\n",
       "    </tr>\n",
       "    <tr>\n",
       "      <th>6</th>\n",
       "      <th>447</th>\n",
       "      <td>1.777951</td>\n",
       "    </tr>\n",
       "    <tr>\n",
       "      <th>Melbourne</th>\n",
       "      <th>Rome</th>\n",
       "      <th>W_in</th>\n",
       "      <th>0</th>\n",
       "      <th>64</th>\n",
       "      <td>1.776180</td>\n",
       "    </tr>\n",
       "  </tbody>\n",
       "</table>\n",
       "</div>"
      ],
      "text/plain": [
       "                                                                                            Magnitude\n",
       "Base                                    Given Answer Correct Answer Matrix Layer Direction           \n",
       "Famous for its picturesque Tiber River, Melbourne    Rome           W_in   1     64          2.691685\n",
       "                                                                                 447         2.587809\n",
       "                                                                           2     64          2.515774\n",
       "                                                                           1     373         2.453663\n",
       "                                                                           6     447         2.296253\n",
       "                                                                           0     447         2.189436\n",
       "                                                                                 373         2.124460\n",
       "                                                                           5     447         2.061973\n",
       "                                                                           3     64          1.995613\n",
       "                                                                           8     447         1.952469\n",
       "                                                                           2     447         1.933639\n",
       "                                                                           7     447         1.933236\n",
       "                                                                           4     64          1.890275\n",
       "                                                                           0     326         1.886023\n",
       "                                                                           2     373         1.883122\n",
       "                                                                           4     447         1.878919\n",
       "                                                                           1     266         1.833659\n",
       "                                        Tokyo        Rome           W_in   2     64          1.786573\n",
       "                                                                           6     447         1.777951\n",
       "                                        Melbourne    Rome           W_in   0     64          1.776180"
      ]
     },
     "execution_count": 46,
     "metadata": {},
     "output_type": "execute_result"
    }
   ],
   "source": [
    "\n",
    "base = \"Famous for its picturesque Tiber River,\"\n",
    "print(f'Top 5 residual stream directions with the highest magnitude of change about {base}')\n",
    "diff_df3 \\\n",
    "    .loc[(base, slice(None), slice(None), slice(None), slice(None), slice(None)), :] \\\n",
    "    .sort_values(by=\"Magnitude\", ascending=False).head(top_N)"
   ]
  },
  {
   "cell_type": "code",
   "execution_count": 47,
   "id": "2c5a5c54",
   "metadata": {},
   "outputs": [
    {
     "name": "stdout",
     "output_type": "stream",
     "text": [
      "Top 5 residual stream directions with the highest magnitude of change about Home to the renowned Colosseum,\n"
     ]
    },
    {
     "data": {
      "text/html": [
       "<div>\n",
       "<style scoped>\n",
       "    .dataframe tbody tr th:only-of-type {\n",
       "        vertical-align: middle;\n",
       "    }\n",
       "\n",
       "    .dataframe tbody tr th {\n",
       "        vertical-align: top;\n",
       "    }\n",
       "\n",
       "    .dataframe thead th {\n",
       "        text-align: right;\n",
       "    }\n",
       "</style>\n",
       "<table border=\"1\" class=\"dataframe\">\n",
       "  <thead>\n",
       "    <tr style=\"text-align: right;\">\n",
       "      <th></th>\n",
       "      <th></th>\n",
       "      <th></th>\n",
       "      <th></th>\n",
       "      <th></th>\n",
       "      <th></th>\n",
       "      <th>Magnitude</th>\n",
       "    </tr>\n",
       "    <tr>\n",
       "      <th>Base</th>\n",
       "      <th>Given Answer</th>\n",
       "      <th>Correct Answer</th>\n",
       "      <th>Matrix</th>\n",
       "      <th>Layer</th>\n",
       "      <th>Direction</th>\n",
       "      <th></th>\n",
       "    </tr>\n",
       "  </thead>\n",
       "  <tbody>\n",
       "    <tr>\n",
       "      <th rowspan=\"20\" valign=\"top\">Home to the renowned Colosseum,</th>\n",
       "      <th rowspan=\"6\" valign=\"top\">Melbourne</th>\n",
       "      <th rowspan=\"6\" valign=\"top\">Rome</th>\n",
       "      <th rowspan=\"6\" valign=\"top\">W_in</th>\n",
       "      <th rowspan=\"3\" valign=\"top\">1</th>\n",
       "      <th>447</th>\n",
       "      <td>3.559548</td>\n",
       "    </tr>\n",
       "    <tr>\n",
       "      <th>64</th>\n",
       "      <td>3.362255</td>\n",
       "    </tr>\n",
       "    <tr>\n",
       "      <th>373</th>\n",
       "      <td>3.200690</td>\n",
       "    </tr>\n",
       "    <tr>\n",
       "      <th rowspan=\"2\" valign=\"top\">2</th>\n",
       "      <th>64</th>\n",
       "      <td>3.176810</td>\n",
       "    </tr>\n",
       "    <tr>\n",
       "      <th>447</th>\n",
       "      <td>2.876518</td>\n",
       "    </tr>\n",
       "    <tr>\n",
       "      <th>3</th>\n",
       "      <th>64</th>\n",
       "      <td>2.628633</td>\n",
       "    </tr>\n",
       "    <tr>\n",
       "      <th>Tokyo</th>\n",
       "      <th>Rome</th>\n",
       "      <th>W_in</th>\n",
       "      <th>1</th>\n",
       "      <th>447</th>\n",
       "      <td>2.607578</td>\n",
       "    </tr>\n",
       "    <tr>\n",
       "      <th rowspan=\"2\" valign=\"top\">Melbourne</th>\n",
       "      <th rowspan=\"2\" valign=\"top\">Rome</th>\n",
       "      <th rowspan=\"2\" valign=\"top\">W_in</th>\n",
       "      <th>4</th>\n",
       "      <th>64</th>\n",
       "      <td>2.590034</td>\n",
       "    </tr>\n",
       "    <tr>\n",
       "      <th>2</th>\n",
       "      <th>373</th>\n",
       "      <td>2.545317</td>\n",
       "    </tr>\n",
       "    <tr>\n",
       "      <th rowspan=\"3\" valign=\"top\">Tokyo</th>\n",
       "      <th rowspan=\"3\" valign=\"top\">Rome</th>\n",
       "      <th rowspan=\"3\" valign=\"top\">W_in</th>\n",
       "      <th>2</th>\n",
       "      <th>64</th>\n",
       "      <td>2.465634</td>\n",
       "    </tr>\n",
       "    <tr>\n",
       "      <th rowspan=\"2\" valign=\"top\">1</th>\n",
       "      <th>64</th>\n",
       "      <td>2.462986</td>\n",
       "    </tr>\n",
       "    <tr>\n",
       "      <th>373</th>\n",
       "      <td>2.411186</td>\n",
       "    </tr>\n",
       "    <tr>\n",
       "      <th>Melbourne</th>\n",
       "      <th>Rome</th>\n",
       "      <th>W_in</th>\n",
       "      <th>5</th>\n",
       "      <th>447</th>\n",
       "      <td>2.392912</td>\n",
       "    </tr>\n",
       "    <tr>\n",
       "      <th>Beijing</th>\n",
       "      <th>Rome</th>\n",
       "      <th>W_in</th>\n",
       "      <th>1</th>\n",
       "      <th>447</th>\n",
       "      <td>2.387529</td>\n",
       "    </tr>\n",
       "    <tr>\n",
       "      <th rowspan=\"2\" valign=\"top\">Melbourne</th>\n",
       "      <th rowspan=\"2\" valign=\"top\">Rome</th>\n",
       "      <th rowspan=\"2\" valign=\"top\">W_in</th>\n",
       "      <th>4</th>\n",
       "      <th>447</th>\n",
       "      <td>2.382307</td>\n",
       "    </tr>\n",
       "    <tr>\n",
       "      <th>6</th>\n",
       "      <th>447</th>\n",
       "      <td>2.334295</td>\n",
       "    </tr>\n",
       "    <tr>\n",
       "      <th rowspan=\"3\" valign=\"top\">Beijing</th>\n",
       "      <th rowspan=\"3\" valign=\"top\">Rome</th>\n",
       "      <th rowspan=\"3\" valign=\"top\">W_in</th>\n",
       "      <th>2</th>\n",
       "      <th>64</th>\n",
       "      <td>2.298651</td>\n",
       "    </tr>\n",
       "    <tr>\n",
       "      <th rowspan=\"2\" valign=\"top\">1</th>\n",
       "      <th>64</th>\n",
       "      <td>2.295971</td>\n",
       "    </tr>\n",
       "    <tr>\n",
       "      <th>373</th>\n",
       "      <td>2.287050</td>\n",
       "    </tr>\n",
       "    <tr>\n",
       "      <th>Melbourne</th>\n",
       "      <th>Rome</th>\n",
       "      <th>W_in</th>\n",
       "      <th>1</th>\n",
       "      <th>266</th>\n",
       "      <td>2.278152</td>\n",
       "    </tr>\n",
       "  </tbody>\n",
       "</table>\n",
       "</div>"
      ],
      "text/plain": [
       "                                                                                    Magnitude\n",
       "Base                            Given Answer Correct Answer Matrix Layer Direction           \n",
       "Home to the renowned Colosseum, Melbourne    Rome           W_in   1     447         3.559548\n",
       "                                                                         64          3.362255\n",
       "                                                                         373         3.200690\n",
       "                                                                   2     64          3.176810\n",
       "                                                                         447         2.876518\n",
       "                                                                   3     64          2.628633\n",
       "                                Tokyo        Rome           W_in   1     447         2.607578\n",
       "                                Melbourne    Rome           W_in   4     64          2.590034\n",
       "                                                                   2     373         2.545317\n",
       "                                Tokyo        Rome           W_in   2     64          2.465634\n",
       "                                                                   1     64          2.462986\n",
       "                                                                         373         2.411186\n",
       "                                Melbourne    Rome           W_in   5     447         2.392912\n",
       "                                Beijing      Rome           W_in   1     447         2.387529\n",
       "                                Melbourne    Rome           W_in   4     447         2.382307\n",
       "                                                                   6     447         2.334295\n",
       "                                Beijing      Rome           W_in   2     64          2.298651\n",
       "                                                                   1     64          2.295971\n",
       "                                                                         373         2.287050\n",
       "                                Melbourne    Rome           W_in   1     266         2.278152"
      ]
     },
     "execution_count": 47,
     "metadata": {},
     "output_type": "execute_result"
    }
   ],
   "source": [
    "\n",
    "base = \"Home to the renowned Colosseum,\"\n",
    "print(f'Top 5 residual stream directions with the highest magnitude of change about {base}')\n",
    "diff_df3 \\\n",
    "    .loc[(base, slice(None), slice(None), slice(None), slice(None), slice(None)), :] \\\n",
    "    .sort_values(by=\"Magnitude\", ascending=False).head(top_N)"
   ]
  },
  {
   "attachments": {},
   "cell_type": "markdown",
   "id": "8ef0d793",
   "metadata": {},
   "source": [
    "## Verification\n",
    "\n",
    "We have three neurons conjectured to care about capitals (L4N1406, L8N1961, and L7N1137). Can we verify this?\n",
    "* Check that they have relatively large diffs on other inputs related to capitals\n",
    "* Check that they have small diffs on unrelated inputs\n",
    "* Ablations TODO\n",
    "\n",
    "Similarly L11N369 seems to care about Paris. Verify this (TODO)."
   ]
  },
  {
   "attachments": {},
   "cell_type": "markdown",
   "id": "f93d0bef",
   "metadata": {},
   "source": [
    "### Unrelated inputs"
   ]
  },
  {
   "cell_type": "code",
   "execution_count": 17,
   "id": "ddfb0ac0",
   "metadata": {},
   "outputs": [],
   "source": [
    "verification_inputs = [\n",
    "    \"Ox is a word that, for many of us, is both familiar and strange.\",\n",
    "    \"Google Authenticator is adding a long-standing customer request\",\n",
    "    \"Hillary Clinton: Republicans Are Playing Into the Hands of Putin and Xi\",\n",
    "    \"When I was arrested and charged with possession with intent to sell cocaine in 1986, I was addicted to both coke and heroin.\",\n",
    "    \"The Brain is Not Close to Thermodynamic Limits on Computation\",\n",
    "    \"AGI ruin mostly rests on strong claims about alignment and deployment, not about society\",\n",
    "    \"One apple plus one apple equals two apples.\",\n",
    "    \"Knight to E4.\",\n",
    "    \"The quick brown fox jumps over the lazy dog.\",\n",
    "    \"Sir, in my heart there was a kind of fighting That would not let me sleep.\",\n",
    "    \"For in the same way you judge others, you will be judged, and with the measure you use, it will be measured to you.\",\n",
    "]"
   ]
  },
  {
   "cell_type": "code",
   "execution_count": 19,
   "id": "ce8da976",
   "metadata": {},
   "outputs": [],
   "source": [
    "verification_rows = []\n",
    "\n",
    "for input in verification_inputs:\n",
    "    loss = model(input, return_type=\"loss\")\n",
    "    loss.backward()\n",
    "    for layer in range(len(model.blocks)):\n",
    "        for posn in posns:\n",
    "            verification_rows.append((input, posn, layer, getattr(model.blocks[layer].mlp, posn).grad.clone().numpy()))\n",
    "    model.zero_grad()"
   ]
  },
  {
   "cell_type": "code",
   "execution_count": 20,
   "id": "a625432c",
   "metadata": {},
   "outputs": [],
   "source": [
    "columns = [\"Input\", \"Matrix\", \"Layer\", \"Gradient\"]\n",
    "verification_df = pd.DataFrame(verification_rows, columns=columns).set_index([\"Input\", \"Matrix\", \"Layer\"])"
   ]
  },
  {
   "cell_type": "code",
   "execution_count": 21,
   "id": "42b5810d",
   "metadata": {},
   "outputs": [],
   "source": [
    "verification_rows2 = []\n",
    "for (base, matrix, layer), grad in verification_df[\"Gradient\"].items():\n",
    "  neuron_axis = 0 if matrix == 'W_in' else 1\n",
    "  for neuron, magnitude in enumerate(np.linalg.norm(grad, axis=neuron_axis)):\n",
    "    verification_rows2.append((base, matrix, layer, neuron, magnitude))\n",
    "    \n",
    "columns = [\"Input\", \"Matrix\", \"Layer\", \"Neuron\", \"Magnitude\"]\n",
    "verification_neuron_df = pd.DataFrame(verification_rows2, columns=columns).set_index([\"Input\", \"Matrix\", \"Layer\", \"Neuron\"])"
   ]
  },
  {
   "cell_type": "code",
   "execution_count": 22,
   "id": "5e6321c2",
   "metadata": {},
   "outputs": [
    {
     "data": {
      "text/html": [
       "<div>\n",
       "<style scoped>\n",
       "    .dataframe tbody tr th:only-of-type {\n",
       "        vertical-align: middle;\n",
       "    }\n",
       "\n",
       "    .dataframe tbody tr th {\n",
       "        vertical-align: top;\n",
       "    }\n",
       "\n",
       "    .dataframe thead th {\n",
       "        text-align: right;\n",
       "    }\n",
       "</style>\n",
       "<table border=\"1\" class=\"dataframe\">\n",
       "  <thead>\n",
       "    <tr style=\"text-align: right;\">\n",
       "      <th></th>\n",
       "      <th></th>\n",
       "      <th></th>\n",
       "      <th></th>\n",
       "      <th>Magnitude</th>\n",
       "    </tr>\n",
       "    <tr>\n",
       "      <th>Input</th>\n",
       "      <th>Matrix</th>\n",
       "      <th>Layer</th>\n",
       "      <th>Neuron</th>\n",
       "      <th></th>\n",
       "    </tr>\n",
       "  </thead>\n",
       "  <tbody>\n",
       "    <tr>\n",
       "      <th rowspan=\"2\" valign=\"top\">Knight to E4.</th>\n",
       "      <th rowspan=\"2\" valign=\"top\">W_out</th>\n",
       "      <th rowspan=\"2\" valign=\"top\">2</th>\n",
       "      <th>666</th>\n",
       "      <td>4.451502</td>\n",
       "    </tr>\n",
       "    <tr>\n",
       "      <th>1825</th>\n",
       "      <td>4.187678</td>\n",
       "    </tr>\n",
       "    <tr>\n",
       "      <th rowspan=\"2\" valign=\"top\">Ox is a word that, for many of us, is both familiar and strange.</th>\n",
       "      <th rowspan=\"2\" valign=\"top\">W_in</th>\n",
       "      <th rowspan=\"2\" valign=\"top\">0</th>\n",
       "      <th>2293</th>\n",
       "      <td>3.918315</td>\n",
       "    </tr>\n",
       "    <tr>\n",
       "      <th>642</th>\n",
       "      <td>3.745791</td>\n",
       "    </tr>\n",
       "    <tr>\n",
       "      <th rowspan=\"2\" valign=\"top\">Knight to E4.</th>\n",
       "      <th rowspan=\"2\" valign=\"top\">W_in</th>\n",
       "      <th>3</th>\n",
       "      <th>1987</th>\n",
       "      <td>3.236897</td>\n",
       "    </tr>\n",
       "    <tr>\n",
       "      <th>0</th>\n",
       "      <th>642</th>\n",
       "      <td>3.206800</td>\n",
       "    </tr>\n",
       "    <tr>\n",
       "      <th rowspan=\"2\" valign=\"top\">Ox is a word that, for many of us, is both familiar and strange.</th>\n",
       "      <th>W_in</th>\n",
       "      <th>0</th>\n",
       "      <th>197</th>\n",
       "      <td>3.068923</td>\n",
       "    </tr>\n",
       "    <tr>\n",
       "      <th>W_out</th>\n",
       "      <th>2</th>\n",
       "      <th>666</th>\n",
       "      <td>2.733447</td>\n",
       "    </tr>\n",
       "    <tr>\n",
       "      <th>AGI ruin mostly rests on strong claims about alignment and deployment, not about society</th>\n",
       "      <th>W_in</th>\n",
       "      <th>10</th>\n",
       "      <th>3023</th>\n",
       "      <td>2.648305</td>\n",
       "    </tr>\n",
       "    <tr>\n",
       "      <th rowspan=\"4\" valign=\"top\">Ox is a word that, for many of us, is both familiar and strange.</th>\n",
       "      <th rowspan=\"3\" valign=\"top\">W_in</th>\n",
       "      <th>2</th>\n",
       "      <th>2643</th>\n",
       "      <td>2.634565</td>\n",
       "    </tr>\n",
       "    <tr>\n",
       "      <th>11</th>\n",
       "      <th>411</th>\n",
       "      <td>2.629629</td>\n",
       "    </tr>\n",
       "    <tr>\n",
       "      <th>2</th>\n",
       "      <th>2015</th>\n",
       "      <td>2.613508</td>\n",
       "    </tr>\n",
       "    <tr>\n",
       "      <th>W_out</th>\n",
       "      <th>2</th>\n",
       "      <th>1825</th>\n",
       "      <td>2.571455</td>\n",
       "    </tr>\n",
       "    <tr>\n",
       "      <th>Knight to E4.</th>\n",
       "      <th>W_in</th>\n",
       "      <th>2</th>\n",
       "      <th>2653</th>\n",
       "      <td>2.559177</td>\n",
       "    </tr>\n",
       "    <tr>\n",
       "      <th>Hillary Clinton: Republicans Are Playing Into the Hands of Putin and Xi</th>\n",
       "      <th>W_in</th>\n",
       "      <th>7</th>\n",
       "      <th>1022</th>\n",
       "      <td>2.470968</td>\n",
       "    </tr>\n",
       "    <tr>\n",
       "      <th rowspan=\"3\" valign=\"top\">Knight to E4.</th>\n",
       "      <th rowspan=\"3\" valign=\"top\">W_in</th>\n",
       "      <th>5</th>\n",
       "      <th>284</th>\n",
       "      <td>2.422877</td>\n",
       "    </tr>\n",
       "    <tr>\n",
       "      <th>11</th>\n",
       "      <th>2362</th>\n",
       "      <td>2.402013</td>\n",
       "    </tr>\n",
       "    <tr>\n",
       "      <th>0</th>\n",
       "      <th>2293</th>\n",
       "      <td>2.370207</td>\n",
       "    </tr>\n",
       "    <tr>\n",
       "      <th>One apple plus one apple equals two apples.</th>\n",
       "      <th>W_in</th>\n",
       "      <th>7</th>\n",
       "      <th>2794</th>\n",
       "      <td>2.302675</td>\n",
       "    </tr>\n",
       "    <tr>\n",
       "      <th>Ox is a word that, for many of us, is both familiar and strange.</th>\n",
       "      <th>W_in</th>\n",
       "      <th>2</th>\n",
       "      <th>480</th>\n",
       "      <td>2.233637</td>\n",
       "    </tr>\n",
       "  </tbody>\n",
       "</table>\n",
       "</div>"
      ],
      "text/plain": [
       "                                                                        Magnitude\n",
       "Input                                              Matrix Layer Neuron           \n",
       "Knight to E4.                                      W_out  2     666      4.451502\n",
       "                                                                1825     4.187678\n",
       "Ox is a word that, for many of us, is both fami... W_in   0     2293     3.918315\n",
       "                                                                642      3.745791\n",
       "Knight to E4.                                      W_in   3     1987     3.236897\n",
       "                                                          0     642      3.206800\n",
       "Ox is a word that, for many of us, is both fami... W_in   0     197      3.068923\n",
       "                                                   W_out  2     666      2.733447\n",
       "AGI ruin mostly rests on strong claims about al... W_in   10    3023     2.648305\n",
       "Ox is a word that, for many of us, is both fami... W_in   2     2643     2.634565\n",
       "                                                          11    411      2.629629\n",
       "                                                          2     2015     2.613508\n",
       "                                                   W_out  2     1825     2.571455\n",
       "Knight to E4.                                      W_in   2     2653     2.559177\n",
       "Hillary Clinton: Republicans Are Playing Into t... W_in   7     1022     2.470968\n",
       "Knight to E4.                                      W_in   5     284      2.422877\n",
       "                                                          11    2362     2.402013\n",
       "                                                          0     2293     2.370207\n",
       "One apple plus one apple equals two apples.        W_in   7     2794     2.302675\n",
       "Ox is a word that, for many of us, is both fami... W_in   2     480      2.233637"
      ]
     },
     "execution_count": 22,
     "metadata": {},
     "output_type": "execute_result"
    }
   ],
   "source": [
    "verification_neuron_df.sort_values(by=\"Magnitude\", ascending=False).head(top_N)"
   ]
  },
  {
   "attachments": {},
   "cell_type": "markdown",
   "id": "413f4b96",
   "metadata": {},
   "source": [
    "There's no intersection between these top neurons and those we were looking at before!"
   ]
  },
  {
   "cell_type": "code",
   "execution_count": 39,
   "id": "024c3f78",
   "metadata": {},
   "outputs": [],
   "source": [
    "def capital_neurons(matrix=slice(None)):\n",
    "    return [\n",
    "        (slice(None), matrix, 4, 1406),\n",
    "        (slice(None), matrix, 8, 1961),\n",
    "        (slice(None), matrix, 7, 1137),\n",
    "    ]\n",
    "\n",
    "idx = pd.IndexSlice"
   ]
  },
  {
   "attachments": {},
   "cell_type": "markdown",
   "id": "7bda9d17",
   "metadata": {},
   "source": [
    "Much smaller diffs for all the neurons we were looking at before! (Each reached Magnitude 3.5 - 3.96 for inputs related to capitals)"
   ]
  },
  {
   "cell_type": "code",
   "execution_count": 25,
   "id": "f065bca6",
   "metadata": {},
   "outputs": [
    {
     "data": {
      "text/html": [
       "<div>\n",
       "<style scoped>\n",
       "    .dataframe tbody tr th:only-of-type {\n",
       "        vertical-align: middle;\n",
       "    }\n",
       "\n",
       "    .dataframe tbody tr th {\n",
       "        vertical-align: top;\n",
       "    }\n",
       "\n",
       "    .dataframe thead th {\n",
       "        text-align: right;\n",
       "    }\n",
       "</style>\n",
       "<table border=\"1\" class=\"dataframe\">\n",
       "  <thead>\n",
       "    <tr style=\"text-align: right;\">\n",
       "      <th></th>\n",
       "      <th></th>\n",
       "      <th></th>\n",
       "      <th></th>\n",
       "      <th>Magnitude</th>\n",
       "    </tr>\n",
       "    <tr>\n",
       "      <th>Input</th>\n",
       "      <th>Matrix</th>\n",
       "      <th>Layer</th>\n",
       "      <th>Neuron</th>\n",
       "      <th></th>\n",
       "    </tr>\n",
       "  </thead>\n",
       "  <tbody>\n",
       "    <tr>\n",
       "      <th>Google Authenticator is adding a long-standing customer request</th>\n",
       "      <th>W_in</th>\n",
       "      <th>8</th>\n",
       "      <th>1961</th>\n",
       "      <td>1.170218</td>\n",
       "    </tr>\n",
       "    <tr>\n",
       "      <th>Hillary Clinton: Republicans Are Playing Into the Hands of Putin and Xi</th>\n",
       "      <th>W_in</th>\n",
       "      <th>8</th>\n",
       "      <th>1961</th>\n",
       "      <td>1.133584</td>\n",
       "    </tr>\n",
       "    <tr>\n",
       "      <th>The quick brown fox jumps over the lazy dog.</th>\n",
       "      <th>W_in</th>\n",
       "      <th>8</th>\n",
       "      <th>1961</th>\n",
       "      <td>1.128265</td>\n",
       "    </tr>\n",
       "    <tr>\n",
       "      <th>AGI ruin mostly rests on strong claims about alignment and deployment, not about society</th>\n",
       "      <th>W_in</th>\n",
       "      <th>8</th>\n",
       "      <th>1961</th>\n",
       "      <td>1.037483</td>\n",
       "    </tr>\n",
       "    <tr>\n",
       "      <th>Hillary Clinton: Republicans Are Playing Into the Hands of Putin and Xi</th>\n",
       "      <th>W_in</th>\n",
       "      <th>4</th>\n",
       "      <th>1406</th>\n",
       "      <td>0.926769</td>\n",
       "    </tr>\n",
       "    <tr>\n",
       "      <th>One apple plus one apple equals two apples.</th>\n",
       "      <th>W_in</th>\n",
       "      <th>8</th>\n",
       "      <th>1961</th>\n",
       "      <td>0.921822</td>\n",
       "    </tr>\n",
       "    <tr>\n",
       "      <th>The Brain is Not Close to Thermodynamic Limits on Computation</th>\n",
       "      <th>W_in</th>\n",
       "      <th>8</th>\n",
       "      <th>1961</th>\n",
       "      <td>0.685662</td>\n",
       "    </tr>\n",
       "    <tr>\n",
       "      <th>Sir, in my heart there was a kind of fighting That would not let me sleep.</th>\n",
       "      <th>W_in</th>\n",
       "      <th>8</th>\n",
       "      <th>1961</th>\n",
       "      <td>0.619164</td>\n",
       "    </tr>\n",
       "    <tr>\n",
       "      <th>Ox is a word that, for many of us, is both familiar and strange.</th>\n",
       "      <th>W_in</th>\n",
       "      <th>8</th>\n",
       "      <th>1961</th>\n",
       "      <td>0.598775</td>\n",
       "    </tr>\n",
       "    <tr>\n",
       "      <th>Google Authenticator is adding a long-standing customer request</th>\n",
       "      <th>W_in</th>\n",
       "      <th>4</th>\n",
       "      <th>1406</th>\n",
       "      <td>0.579521</td>\n",
       "    </tr>\n",
       "  </tbody>\n",
       "</table>\n",
       "</div>"
      ],
      "text/plain": [
       "                                                                        Magnitude\n",
       "Input                                              Matrix Layer Neuron           \n",
       "Google Authenticator is adding a long-standing ... W_in   8     1961     1.170218\n",
       "Hillary Clinton: Republicans Are Playing Into t... W_in   8     1961     1.133584\n",
       "The quick brown fox jumps over the lazy dog.       W_in   8     1961     1.128265\n",
       "AGI ruin mostly rests on strong claims about al... W_in   8     1961     1.037483\n",
       "Hillary Clinton: Republicans Are Playing Into t... W_in   4     1406     0.926769\n",
       "One apple plus one apple equals two apples.        W_in   8     1961     0.921822\n",
       "The Brain is Not Close to Thermodynamic Limits ... W_in   8     1961     0.685662\n",
       "Sir, in my heart there was a kind of fighting T... W_in   8     1961     0.619164\n",
       "Ox is a word that, for many of us, is both fami... W_in   8     1961     0.598775\n",
       "Google Authenticator is adding a long-standing ... W_in   4     1406     0.579521"
      ]
     },
     "execution_count": 25,
     "metadata": {},
     "output_type": "execute_result"
    }
   ],
   "source": [
    "pd.concat([verification_neuron_df.loc[idx[neuron_slice], :] for neuron_slice in capital_neurons()]) \\\n",
    "    .sort_values(by=\"Magnitude\", ascending=False).head(10)"
   ]
  },
  {
   "cell_type": "code",
   "execution_count": 23,
   "id": "efaed211",
   "metadata": {},
   "outputs": [
    {
     "data": {
      "text/html": [
       "<div>\n",
       "<style scoped>\n",
       "    .dataframe tbody tr th:only-of-type {\n",
       "        vertical-align: middle;\n",
       "    }\n",
       "\n",
       "    .dataframe tbody tr th {\n",
       "        vertical-align: top;\n",
       "    }\n",
       "\n",
       "    .dataframe thead th {\n",
       "        text-align: right;\n",
       "    }\n",
       "</style>\n",
       "<table border=\"1\" class=\"dataframe\">\n",
       "  <thead>\n",
       "    <tr style=\"text-align: right;\">\n",
       "      <th></th>\n",
       "      <th></th>\n",
       "      <th></th>\n",
       "      <th></th>\n",
       "      <th>Magnitude</th>\n",
       "    </tr>\n",
       "    <tr>\n",
       "      <th>Input</th>\n",
       "      <th>Matrix</th>\n",
       "      <th>Layer</th>\n",
       "      <th>Neuron</th>\n",
       "      <th></th>\n",
       "    </tr>\n",
       "  </thead>\n",
       "  <tbody>\n",
       "    <tr>\n",
       "      <th>Knight to E4.</th>\n",
       "      <th>W_in</th>\n",
       "      <th>11</th>\n",
       "      <th>369</th>\n",
       "      <td>0.599770</td>\n",
       "    </tr>\n",
       "    <tr>\n",
       "      <th>Hillary Clinton: Republicans Are Playing Into the Hands of Putin and Xi</th>\n",
       "      <th>W_in</th>\n",
       "      <th>11</th>\n",
       "      <th>369</th>\n",
       "      <td>0.571101</td>\n",
       "    </tr>\n",
       "    <tr>\n",
       "      <th>Google Authenticator is adding a long-standing customer request</th>\n",
       "      <th>W_in</th>\n",
       "      <th>11</th>\n",
       "      <th>369</th>\n",
       "      <td>0.268485</td>\n",
       "    </tr>\n",
       "    <tr>\n",
       "      <th>Sir, in my heart there was a kind of fighting That would not let me sleep.</th>\n",
       "      <th>W_in</th>\n",
       "      <th>11</th>\n",
       "      <th>369</th>\n",
       "      <td>0.199792</td>\n",
       "    </tr>\n",
       "    <tr>\n",
       "      <th>Ox is a word that, for many of us, is both familiar and strange.</th>\n",
       "      <th>W_in</th>\n",
       "      <th>11</th>\n",
       "      <th>369</th>\n",
       "      <td>0.097662</td>\n",
       "    </tr>\n",
       "    <tr>\n",
       "      <th>For in the same way you judge others, you will be judged, and with the measure you use, it will be measured to you.</th>\n",
       "      <th>W_in</th>\n",
       "      <th>11</th>\n",
       "      <th>369</th>\n",
       "      <td>0.043669</td>\n",
       "    </tr>\n",
       "    <tr>\n",
       "      <th>One apple plus one apple equals two apples.</th>\n",
       "      <th>W_in</th>\n",
       "      <th>11</th>\n",
       "      <th>369</th>\n",
       "      <td>0.039784</td>\n",
       "    </tr>\n",
       "    <tr>\n",
       "      <th>The Brain is Not Close to Thermodynamic Limits on Computation</th>\n",
       "      <th>W_in</th>\n",
       "      <th>11</th>\n",
       "      <th>369</th>\n",
       "      <td>0.032939</td>\n",
       "    </tr>\n",
       "    <tr>\n",
       "      <th>AGI ruin mostly rests on strong claims about alignment and deployment, not about society</th>\n",
       "      <th>W_in</th>\n",
       "      <th>11</th>\n",
       "      <th>369</th>\n",
       "      <td>0.028906</td>\n",
       "    </tr>\n",
       "    <tr>\n",
       "      <th>The quick brown fox jumps over the lazy dog.</th>\n",
       "      <th>W_in</th>\n",
       "      <th>11</th>\n",
       "      <th>369</th>\n",
       "      <td>0.024901</td>\n",
       "    </tr>\n",
       "  </tbody>\n",
       "</table>\n",
       "</div>"
      ],
      "text/plain": [
       "                                                                        Magnitude\n",
       "Input                                              Matrix Layer Neuron           \n",
       "Knight to E4.                                      W_in   11    369      0.599770\n",
       "Hillary Clinton: Republicans Are Playing Into t... W_in   11    369      0.571101\n",
       "Google Authenticator is adding a long-standing ... W_in   11    369      0.268485\n",
       "Sir, in my heart there was a kind of fighting T... W_in   11    369      0.199792\n",
       "Ox is a word that, for many of us, is both fami... W_in   11    369      0.097662\n",
       "For in the same way you judge others, you will ... W_in   11    369      0.043669\n",
       "One apple plus one apple equals two apples.        W_in   11    369      0.039784\n",
       "The Brain is Not Close to Thermodynamic Limits ... W_in   11    369      0.032939\n",
       "AGI ruin mostly rests on strong claims about al... W_in   11    369      0.028906\n",
       "The quick brown fox jumps over the lazy dog.       W_in   11    369      0.024901"
      ]
     },
     "execution_count": 23,
     "metadata": {},
     "output_type": "execute_result"
    }
   ],
   "source": [
    "verification_neuron_df \\\n",
    "    .loc[(slice(None), slice(None), 11, 369), :] \\\n",
    "    .sort_values(by=\"Magnitude\", ascending=False).head(10)"
   ]
  },
  {
   "attachments": {},
   "cell_type": "markdown",
   "id": "82b4dc5a",
   "metadata": {},
   "source": [
    "### Capitals"
   ]
  },
  {
   "attachments": {},
   "cell_type": "markdown",
   "id": "13abdc5a",
   "metadata": {},
   "source": [
    "How much do the capital neurons update on inputs related to other capitals?"
   ]
  },
  {
   "cell_type": "code",
   "execution_count": 8,
   "id": "74f699b7",
   "metadata": {},
   "outputs": [],
   "source": [
    "correct_capital_inputs = [(capital, True) for capital in [\n",
    "    \"Washington D.C. is the capital of the United States.\",\n",
    "    \"Beijing is the capital of China.\",\n",
    "    \"The capital of Mexico is Mexico City.\",\n",
    "    \"The capital of Australia is Canberra.\",\n",
    "    \"The capital of Canada is Ottawa.\",\n",
    "    \"The capital of Brazil is Brasilia.\",\n",
    "    \"The capital of India is New Delhi.\",\n",
    "    \"The capital of Russia is Moscow.\",\n",
    "    \"The capital of South Africa is Pretoria.\",\n",
    "]]\n",
    "\n",
    "incorrect_capital_inputs = [(capital, False) for capital in [\n",
    "    \"Beijing is the capital of the United States.\",\n",
    "    \"Washington D.C. is the capital of China.\",\n",
    "    \"The capital of Mexico is Canberra.\",\n",
    "    \"The capital of Australia is Mexico City.\",\n",
    "    \"The capital of Canada is Brasilia.\",\n",
    "    \"The capital of Brazil is Ottawa.\",\n",
    "    \"The capital of India is Pretoria.\",\n",
    "    \"The capital of Russia is New Delhi.\",\n",
    "    \"The capital of South Africa is Moscow.\",\n",
    "]]\n",
    "\n",
    "capital_rows = []\n",
    "\n",
    "for (input, correct) in correct_capital_inputs + incorrect_capital_inputs:\n",
    "    loss = model(input, return_type=\"loss\")\n",
    "    loss.backward()\n",
    "    for layer in range(len(model.blocks)):\n",
    "        for posn in posns:\n",
    "            capital_rows.append((input, correct, posn, layer, getattr(model.blocks[layer].mlp, posn).grad.clone().numpy()))\n",
    "    model.zero_grad()\n",
    "\n",
    "columns = [\"Input\", \"Correct\", \"Matrix\", \"Layer\", \"Gradient\"]\n",
    "capital_df = pd.DataFrame(capital_rows, columns=columns).set_index([\"Input\", \"Correct\", \"Matrix\", \"Layer\"])\n",
    "\n",
    "capital_rows2 = []\n",
    "for (input, correct, matrix, layer), grad in capital_df[\"Gradient\"].items():\n",
    "  neuron_axis = 0 if matrix == 'W_in' else 1\n",
    "  for neuron, magnitude in enumerate(np.linalg.norm(grad, axis=neuron_axis)):\n",
    "    capital_rows2.append((input, correct, matrix, layer, neuron, magnitude))\n",
    "    \n",
    "columns = [\"Input\", \"Correct\", \"Matrix\", \"Layer\", \"Neuron\", \"Magnitude\"]\n",
    "capital_neuron_df = pd.DataFrame(capital_rows2, columns=columns).set_index([\"Input\", \"Correct\", \"Matrix\", \"Layer\", \"Neuron\"])"
   ]
  },
  {
   "cell_type": "code",
   "execution_count": 47,
   "id": "4fef4c57",
   "metadata": {},
   "outputs": [],
   "source": [
    "def capital_neurons2(correct=slice(None), matrix=slice(None)):\n",
    "    return [\n",
    "        (slice(None), correct, matrix, 4, 1406),\n",
    "        (slice(None), correct, matrix, 8, 1961),\n",
    "        (slice(None), correct, matrix, 7, 1137),\n",
    "    ]\n",
    "\n",
    "idx = pd.IndexSlice"
   ]
  },
  {
   "cell_type": "code",
   "execution_count": 48,
   "id": "65b4f215",
   "metadata": {},
   "outputs": [
    {
     "name": "stdout",
     "output_type": "stream",
     "text": [
      "Updates on correct capital inputs\n"
     ]
    },
    {
     "data": {
      "text/html": [
       "<div>\n",
       "<style scoped>\n",
       "    .dataframe tbody tr th:only-of-type {\n",
       "        vertical-align: middle;\n",
       "    }\n",
       "\n",
       "    .dataframe tbody tr th {\n",
       "        vertical-align: top;\n",
       "    }\n",
       "\n",
       "    .dataframe thead th {\n",
       "        text-align: right;\n",
       "    }\n",
       "</style>\n",
       "<table border=\"1\" class=\"dataframe\">\n",
       "  <thead>\n",
       "    <tr style=\"text-align: right;\">\n",
       "      <th></th>\n",
       "      <th></th>\n",
       "      <th></th>\n",
       "      <th></th>\n",
       "      <th></th>\n",
       "      <th>Magnitude</th>\n",
       "    </tr>\n",
       "    <tr>\n",
       "      <th>Input</th>\n",
       "      <th>Correct</th>\n",
       "      <th>Matrix</th>\n",
       "      <th>Layer</th>\n",
       "      <th>Neuron</th>\n",
       "      <th></th>\n",
       "    </tr>\n",
       "  </thead>\n",
       "  <tbody>\n",
       "    <tr>\n",
       "      <th>The capital of Brazil is Brasilia.</th>\n",
       "      <th>True</th>\n",
       "      <th>W_in</th>\n",
       "      <th>4</th>\n",
       "      <th>1406</th>\n",
       "      <td>5.863631</td>\n",
       "    </tr>\n",
       "    <tr>\n",
       "      <th>The capital of Canada is Ottawa.</th>\n",
       "      <th>True</th>\n",
       "      <th>W_in</th>\n",
       "      <th>4</th>\n",
       "      <th>1406</th>\n",
       "      <td>5.294219</td>\n",
       "    </tr>\n",
       "    <tr>\n",
       "      <th>The capital of Australia is Canberra.</th>\n",
       "      <th>True</th>\n",
       "      <th>W_in</th>\n",
       "      <th>4</th>\n",
       "      <th>1406</th>\n",
       "      <td>5.210154</td>\n",
       "    </tr>\n",
       "    <tr>\n",
       "      <th rowspan=\"2\" valign=\"top\">The capital of South Africa is Pretoria.</th>\n",
       "      <th rowspan=\"2\" valign=\"top\">True</th>\n",
       "      <th rowspan=\"2\" valign=\"top\">W_in</th>\n",
       "      <th>7</th>\n",
       "      <th>1137</th>\n",
       "      <td>5.194824</td>\n",
       "    </tr>\n",
       "    <tr>\n",
       "      <th>4</th>\n",
       "      <th>1406</th>\n",
       "      <td>5.081234</td>\n",
       "    </tr>\n",
       "    <tr>\n",
       "      <th>The capital of Brazil is Brasilia.</th>\n",
       "      <th>True</th>\n",
       "      <th>W_in</th>\n",
       "      <th>7</th>\n",
       "      <th>1137</th>\n",
       "      <td>5.063847</td>\n",
       "    </tr>\n",
       "    <tr>\n",
       "      <th>The capital of Russia is Moscow.</th>\n",
       "      <th>True</th>\n",
       "      <th>W_in</th>\n",
       "      <th>4</th>\n",
       "      <th>1406</th>\n",
       "      <td>5.019931</td>\n",
       "    </tr>\n",
       "    <tr>\n",
       "      <th>The capital of Australia is Canberra.</th>\n",
       "      <th>True</th>\n",
       "      <th>W_in</th>\n",
       "      <th>7</th>\n",
       "      <th>1137</th>\n",
       "      <td>4.271571</td>\n",
       "    </tr>\n",
       "    <tr>\n",
       "      <th>The capital of Canada is Ottawa.</th>\n",
       "      <th>True</th>\n",
       "      <th>W_in</th>\n",
       "      <th>7</th>\n",
       "      <th>1137</th>\n",
       "      <td>4.061668</td>\n",
       "    </tr>\n",
       "    <tr>\n",
       "      <th>The capital of Mexico is Mexico City.</th>\n",
       "      <th>True</th>\n",
       "      <th>W_in</th>\n",
       "      <th>4</th>\n",
       "      <th>1406</th>\n",
       "      <td>3.514666</td>\n",
       "    </tr>\n",
       "  </tbody>\n",
       "</table>\n",
       "</div>"
      ],
      "text/plain": [
       "                                                                      Magnitude\n",
       "Input                                    Correct Matrix Layer Neuron           \n",
       "The capital of Brazil is Brasilia.       True    W_in   4     1406     5.863631\n",
       "The capital of Canada is Ottawa.         True    W_in   4     1406     5.294219\n",
       "The capital of Australia is Canberra.    True    W_in   4     1406     5.210154\n",
       "The capital of South Africa is Pretoria. True    W_in   7     1137     5.194824\n",
       "                                                        4     1406     5.081234\n",
       "The capital of Brazil is Brasilia.       True    W_in   7     1137     5.063847\n",
       "The capital of Russia is Moscow.         True    W_in   4     1406     5.019931\n",
       "The capital of Australia is Canberra.    True    W_in   7     1137     4.271571\n",
       "The capital of Canada is Ottawa.         True    W_in   7     1137     4.061668\n",
       "The capital of Mexico is Mexico City.    True    W_in   4     1406     3.514666"
      ]
     },
     "execution_count": 48,
     "metadata": {},
     "output_type": "execute_result"
    }
   ],
   "source": [
    "print(\"Updates on correct capital inputs\")\n",
    "pd.concat([capital_neuron_df.loc[idx[neuron_slice], :] for neuron_slice in capital_neurons2(correct=True)]) \\\n",
    "    .sort_values(by=\"Magnitude\", ascending=False).head(10)"
   ]
  },
  {
   "cell_type": "code",
   "execution_count": 49,
   "id": "950e46ea",
   "metadata": {},
   "outputs": [
    {
     "name": "stdout",
     "output_type": "stream",
     "text": [
      "Updates on incorrect capital inputs\n"
     ]
    },
    {
     "data": {
      "text/html": [
       "<div>\n",
       "<style scoped>\n",
       "    .dataframe tbody tr th:only-of-type {\n",
       "        vertical-align: middle;\n",
       "    }\n",
       "\n",
       "    .dataframe tbody tr th {\n",
       "        vertical-align: top;\n",
       "    }\n",
       "\n",
       "    .dataframe thead th {\n",
       "        text-align: right;\n",
       "    }\n",
       "</style>\n",
       "<table border=\"1\" class=\"dataframe\">\n",
       "  <thead>\n",
       "    <tr style=\"text-align: right;\">\n",
       "      <th></th>\n",
       "      <th></th>\n",
       "      <th></th>\n",
       "      <th></th>\n",
       "      <th></th>\n",
       "      <th>Magnitude</th>\n",
       "    </tr>\n",
       "    <tr>\n",
       "      <th>Input</th>\n",
       "      <th>Correct</th>\n",
       "      <th>Matrix</th>\n",
       "      <th>Layer</th>\n",
       "      <th>Neuron</th>\n",
       "      <th></th>\n",
       "    </tr>\n",
       "  </thead>\n",
       "  <tbody>\n",
       "    <tr>\n",
       "      <th>The capital of Canada is Brasilia.</th>\n",
       "      <th>False</th>\n",
       "      <th>W_in</th>\n",
       "      <th>4</th>\n",
       "      <th>1406</th>\n",
       "      <td>3.810387</td>\n",
       "    </tr>\n",
       "    <tr>\n",
       "      <th>The capital of Australia is Mexico City.</th>\n",
       "      <th>False</th>\n",
       "      <th>W_in</th>\n",
       "      <th>4</th>\n",
       "      <th>1406</th>\n",
       "      <td>3.469062</td>\n",
       "    </tr>\n",
       "    <tr>\n",
       "      <th>The capital of Russia is New Delhi.</th>\n",
       "      <th>False</th>\n",
       "      <th>W_in</th>\n",
       "      <th>4</th>\n",
       "      <th>1406</th>\n",
       "      <td>3.216355</td>\n",
       "    </tr>\n",
       "    <tr>\n",
       "      <th>The capital of India is Pretoria.</th>\n",
       "      <th>False</th>\n",
       "      <th>W_in</th>\n",
       "      <th>7</th>\n",
       "      <th>1137</th>\n",
       "      <td>3.199577</td>\n",
       "    </tr>\n",
       "    <tr>\n",
       "      <th>The capital of Canada is Brasilia.</th>\n",
       "      <th>False</th>\n",
       "      <th>W_in</th>\n",
       "      <th>7</th>\n",
       "      <th>1137</th>\n",
       "      <td>2.285698</td>\n",
       "    </tr>\n",
       "    <tr>\n",
       "      <th>The capital of Brazil is Ottawa.</th>\n",
       "      <th>False</th>\n",
       "      <th>W_in</th>\n",
       "      <th>4</th>\n",
       "      <th>1406</th>\n",
       "      <td>2.281038</td>\n",
       "    </tr>\n",
       "    <tr>\n",
       "      <th>The capital of India is Pretoria.</th>\n",
       "      <th>False</th>\n",
       "      <th>W_in</th>\n",
       "      <th>4</th>\n",
       "      <th>1406</th>\n",
       "      <td>2.237222</td>\n",
       "    </tr>\n",
       "    <tr>\n",
       "      <th>The capital of Mexico is Canberra.</th>\n",
       "      <th>False</th>\n",
       "      <th>W_in</th>\n",
       "      <th>8</th>\n",
       "      <th>1961</th>\n",
       "      <td>2.132167</td>\n",
       "    </tr>\n",
       "    <tr>\n",
       "      <th>The capital of Russia is New Delhi.</th>\n",
       "      <th>False</th>\n",
       "      <th>W_in</th>\n",
       "      <th>7</th>\n",
       "      <th>1137</th>\n",
       "      <td>2.103357</td>\n",
       "    </tr>\n",
       "    <tr>\n",
       "      <th>Beijing is the capital of the United States.</th>\n",
       "      <th>False</th>\n",
       "      <th>W_in</th>\n",
       "      <th>4</th>\n",
       "      <th>1406</th>\n",
       "      <td>2.085735</td>\n",
       "    </tr>\n",
       "  </tbody>\n",
       "</table>\n",
       "</div>"
      ],
      "text/plain": [
       "                                                                          Magnitude\n",
       "Input                                        Correct Matrix Layer Neuron           \n",
       "The capital of Canada is Brasilia.           False   W_in   4     1406     3.810387\n",
       "The capital of Australia is Mexico City.     False   W_in   4     1406     3.469062\n",
       "The capital of Russia is New Delhi.          False   W_in   4     1406     3.216355\n",
       "The capital of India is Pretoria.            False   W_in   7     1137     3.199577\n",
       "The capital of Canada is Brasilia.           False   W_in   7     1137     2.285698\n",
       "The capital of Brazil is Ottawa.             False   W_in   4     1406     2.281038\n",
       "The capital of India is Pretoria.            False   W_in   4     1406     2.237222\n",
       "The capital of Mexico is Canberra.           False   W_in   8     1961     2.132167\n",
       "The capital of Russia is New Delhi.          False   W_in   7     1137     2.103357\n",
       "Beijing is the capital of the United States. False   W_in   4     1406     2.085735"
      ]
     },
     "execution_count": 49,
     "metadata": {},
     "output_type": "execute_result"
    }
   ],
   "source": [
    "print(\"Updates on incorrect capital inputs\")\n",
    "pd.concat([capital_neuron_df.loc[idx[neuron_slice], :] for neuron_slice in capital_neurons2(correct=False)]) \\\n",
    "    .sort_values(by=\"Magnitude\", ascending=False).head(10)"
   ]
  },
  {
   "attachments": {},
   "cell_type": "markdown",
   "id": "c88955bb",
   "metadata": {},
   "source": [
    "It's a bit of a surprise that we see larger updates on the correct capital inputs than incorrect inputs."
   ]
  },
  {
   "cell_type": "code",
   "execution_count": 50,
   "id": "fdfa79a6",
   "metadata": {},
   "outputs": [
    {
     "data": {
      "application/vnd.plotly.v1+json": {
       "config": {
        "plotlyServerURL": "https://plot.ly"
       },
       "data": [
        {
         "alignmentgroup": "True",
         "bingroup": "x",
         "hovertemplate": "variable=0<br>value=%{x}<br>count=%{y}<extra></extra>",
         "legendgroup": "0",
         "marker": {
          "color": "#636efa",
          "pattern": {
           "shape": ""
          }
         },
         "name": "0",
         "offsetgroup": "0",
         "orientation": "v",
         "showlegend": true,
         "type": "histogram",
         "x": [
          1.7975959777832031,
          0.029954880475997925,
          3.4848740100860596,
          0.08912171423435211,
          3.5146656036376953,
          0.12659543752670288,
          5.210154056549072,
          0.21897466480731964,
          5.294219017028809,
          0.17693978548049927,
          5.863630771636963,
          0.23826093971729279,
          3.261012315750122,
          0.11997188627719879,
          5.019931316375732,
          0.14623689651489258,
          5.081233978271484,
          0.21685321629047394,
          2.0857350826263428,
          0.06233246624469757,
          0.7328758835792542,
          0.03013203851878643,
          1.5373213291168213,
          0.12781529128551483,
          3.469062089920044,
          0.1067652478814125,
          3.810387134552002,
          0.1244686171412468,
          2.2810378074645996,
          0.11633548885583878,
          2.2372217178344727,
          0.13209083676338196,
          3.2163548469543457,
          0.12955725193023682,
          1.9879685640335083,
          0.07634235173463821,
          0.4166560769081116,
          0.016361508518457413,
          0.48120003938674927,
          0.03276148810982704,
          0.6810381412506104,
          0.021320657804608345,
          0.9689939618110657,
          0.023077132180333138,
          1.2771966457366943,
          0.023541299626231194,
          1.076724886894226,
          0.023199858143925667,
          0.4763202369213104,
          0.01894366554915905,
          0.4062168300151825,
          0.023725692182779312,
          0.7061577439308167,
          0.019668305292725563,
          0.3228398561477661,
          0.02587641216814518,
          0.5676082372665405,
          0.02243889309465885,
          2.132167339324951,
          0.026971016079187393,
          1.8818538188934326,
          0.02368307299911976,
          1.4585208892822266,
          0.025732604786753654,
          1.6033295392990112,
          0.0232295710593462,
          1.1545400619506836,
          0.019585514441132545,
          1.8919007778167725,
          0.028190219774842262,
          1.5329334735870361,
          0.020268000662326813,
          0.08487670123577118,
          0.009025558829307556,
          0.1582154631614685,
          0.01568247564136982,
          1.8441544771194458,
          0.05399284139275551,
          4.271571159362793,
          0.0919000580906868,
          4.0616679191589355,
          0.07067305594682693,
          5.063846588134766,
          0.12257027626037598,
          3.185605049133301,
          0.05701908469200134,
          2.4401156902313232,
          0.06819236278533936,
          5.19482421875,
          0.09746754169464111,
          0.03986779600381851,
          0.01463879831135273,
          0.06755290180444717,
          0.010184050537645817,
          0.7529512047767639,
          0.06897426396608353,
          1.5061662197113037,
          0.06564588844776154,
          2.285698175430298,
          0.05896404758095741,
          1.6502418518066406,
          0.07356638461351395,
          3.1995770931243896,
          0.06330575793981552,
          2.1033570766448975,
          0.06629589200019836,
          0.6996325254440308,
          0.053244445472955704
         ],
         "xaxis": "x",
         "yaxis": "y"
        }
       ],
       "layout": {
        "barmode": "relative",
        "legend": {
         "title": {
          "text": "variable"
         },
         "tracegroupgap": 0
        },
        "template": {
         "data": {
          "bar": [
           {
            "error_x": {
             "color": "#2a3f5f"
            },
            "error_y": {
             "color": "#2a3f5f"
            },
            "marker": {
             "line": {
              "color": "#E5ECF6",
              "width": 0.5
             },
             "pattern": {
              "fillmode": "overlay",
              "size": 10,
              "solidity": 0.2
             }
            },
            "type": "bar"
           }
          ],
          "barpolar": [
           {
            "marker": {
             "line": {
              "color": "#E5ECF6",
              "width": 0.5
             },
             "pattern": {
              "fillmode": "overlay",
              "size": 10,
              "solidity": 0.2
             }
            },
            "type": "barpolar"
           }
          ],
          "carpet": [
           {
            "aaxis": {
             "endlinecolor": "#2a3f5f",
             "gridcolor": "white",
             "linecolor": "white",
             "minorgridcolor": "white",
             "startlinecolor": "#2a3f5f"
            },
            "baxis": {
             "endlinecolor": "#2a3f5f",
             "gridcolor": "white",
             "linecolor": "white",
             "minorgridcolor": "white",
             "startlinecolor": "#2a3f5f"
            },
            "type": "carpet"
           }
          ],
          "choropleth": [
           {
            "colorbar": {
             "outlinewidth": 0,
             "ticks": ""
            },
            "type": "choropleth"
           }
          ],
          "contour": [
           {
            "colorbar": {
             "outlinewidth": 0,
             "ticks": ""
            },
            "colorscale": [
             [
              0,
              "#0d0887"
             ],
             [
              0.1111111111111111,
              "#46039f"
             ],
             [
              0.2222222222222222,
              "#7201a8"
             ],
             [
              0.3333333333333333,
              "#9c179e"
             ],
             [
              0.4444444444444444,
              "#bd3786"
             ],
             [
              0.5555555555555556,
              "#d8576b"
             ],
             [
              0.6666666666666666,
              "#ed7953"
             ],
             [
              0.7777777777777778,
              "#fb9f3a"
             ],
             [
              0.8888888888888888,
              "#fdca26"
             ],
             [
              1,
              "#f0f921"
             ]
            ],
            "type": "contour"
           }
          ],
          "contourcarpet": [
           {
            "colorbar": {
             "outlinewidth": 0,
             "ticks": ""
            },
            "type": "contourcarpet"
           }
          ],
          "heatmap": [
           {
            "colorbar": {
             "outlinewidth": 0,
             "ticks": ""
            },
            "colorscale": [
             [
              0,
              "#0d0887"
             ],
             [
              0.1111111111111111,
              "#46039f"
             ],
             [
              0.2222222222222222,
              "#7201a8"
             ],
             [
              0.3333333333333333,
              "#9c179e"
             ],
             [
              0.4444444444444444,
              "#bd3786"
             ],
             [
              0.5555555555555556,
              "#d8576b"
             ],
             [
              0.6666666666666666,
              "#ed7953"
             ],
             [
              0.7777777777777778,
              "#fb9f3a"
             ],
             [
              0.8888888888888888,
              "#fdca26"
             ],
             [
              1,
              "#f0f921"
             ]
            ],
            "type": "heatmap"
           }
          ],
          "heatmapgl": [
           {
            "colorbar": {
             "outlinewidth": 0,
             "ticks": ""
            },
            "colorscale": [
             [
              0,
              "#0d0887"
             ],
             [
              0.1111111111111111,
              "#46039f"
             ],
             [
              0.2222222222222222,
              "#7201a8"
             ],
             [
              0.3333333333333333,
              "#9c179e"
             ],
             [
              0.4444444444444444,
              "#bd3786"
             ],
             [
              0.5555555555555556,
              "#d8576b"
             ],
             [
              0.6666666666666666,
              "#ed7953"
             ],
             [
              0.7777777777777778,
              "#fb9f3a"
             ],
             [
              0.8888888888888888,
              "#fdca26"
             ],
             [
              1,
              "#f0f921"
             ]
            ],
            "type": "heatmapgl"
           }
          ],
          "histogram": [
           {
            "marker": {
             "pattern": {
              "fillmode": "overlay",
              "size": 10,
              "solidity": 0.2
             }
            },
            "type": "histogram"
           }
          ],
          "histogram2d": [
           {
            "colorbar": {
             "outlinewidth": 0,
             "ticks": ""
            },
            "colorscale": [
             [
              0,
              "#0d0887"
             ],
             [
              0.1111111111111111,
              "#46039f"
             ],
             [
              0.2222222222222222,
              "#7201a8"
             ],
             [
              0.3333333333333333,
              "#9c179e"
             ],
             [
              0.4444444444444444,
              "#bd3786"
             ],
             [
              0.5555555555555556,
              "#d8576b"
             ],
             [
              0.6666666666666666,
              "#ed7953"
             ],
             [
              0.7777777777777778,
              "#fb9f3a"
             ],
             [
              0.8888888888888888,
              "#fdca26"
             ],
             [
              1,
              "#f0f921"
             ]
            ],
            "type": "histogram2d"
           }
          ],
          "histogram2dcontour": [
           {
            "colorbar": {
             "outlinewidth": 0,
             "ticks": ""
            },
            "colorscale": [
             [
              0,
              "#0d0887"
             ],
             [
              0.1111111111111111,
              "#46039f"
             ],
             [
              0.2222222222222222,
              "#7201a8"
             ],
             [
              0.3333333333333333,
              "#9c179e"
             ],
             [
              0.4444444444444444,
              "#bd3786"
             ],
             [
              0.5555555555555556,
              "#d8576b"
             ],
             [
              0.6666666666666666,
              "#ed7953"
             ],
             [
              0.7777777777777778,
              "#fb9f3a"
             ],
             [
              0.8888888888888888,
              "#fdca26"
             ],
             [
              1,
              "#f0f921"
             ]
            ],
            "type": "histogram2dcontour"
           }
          ],
          "mesh3d": [
           {
            "colorbar": {
             "outlinewidth": 0,
             "ticks": ""
            },
            "type": "mesh3d"
           }
          ],
          "parcoords": [
           {
            "line": {
             "colorbar": {
              "outlinewidth": 0,
              "ticks": ""
             }
            },
            "type": "parcoords"
           }
          ],
          "pie": [
           {
            "automargin": true,
            "type": "pie"
           }
          ],
          "scatter": [
           {
            "fillpattern": {
             "fillmode": "overlay",
             "size": 10,
             "solidity": 0.2
            },
            "type": "scatter"
           }
          ],
          "scatter3d": [
           {
            "line": {
             "colorbar": {
              "outlinewidth": 0,
              "ticks": ""
             }
            },
            "marker": {
             "colorbar": {
              "outlinewidth": 0,
              "ticks": ""
             }
            },
            "type": "scatter3d"
           }
          ],
          "scattercarpet": [
           {
            "marker": {
             "colorbar": {
              "outlinewidth": 0,
              "ticks": ""
             }
            },
            "type": "scattercarpet"
           }
          ],
          "scattergeo": [
           {
            "marker": {
             "colorbar": {
              "outlinewidth": 0,
              "ticks": ""
             }
            },
            "type": "scattergeo"
           }
          ],
          "scattergl": [
           {
            "marker": {
             "colorbar": {
              "outlinewidth": 0,
              "ticks": ""
             }
            },
            "type": "scattergl"
           }
          ],
          "scattermapbox": [
           {
            "marker": {
             "colorbar": {
              "outlinewidth": 0,
              "ticks": ""
             }
            },
            "type": "scattermapbox"
           }
          ],
          "scatterpolar": [
           {
            "marker": {
             "colorbar": {
              "outlinewidth": 0,
              "ticks": ""
             }
            },
            "type": "scatterpolar"
           }
          ],
          "scatterpolargl": [
           {
            "marker": {
             "colorbar": {
              "outlinewidth": 0,
              "ticks": ""
             }
            },
            "type": "scatterpolargl"
           }
          ],
          "scatterternary": [
           {
            "marker": {
             "colorbar": {
              "outlinewidth": 0,
              "ticks": ""
             }
            },
            "type": "scatterternary"
           }
          ],
          "surface": [
           {
            "colorbar": {
             "outlinewidth": 0,
             "ticks": ""
            },
            "colorscale": [
             [
              0,
              "#0d0887"
             ],
             [
              0.1111111111111111,
              "#46039f"
             ],
             [
              0.2222222222222222,
              "#7201a8"
             ],
             [
              0.3333333333333333,
              "#9c179e"
             ],
             [
              0.4444444444444444,
              "#bd3786"
             ],
             [
              0.5555555555555556,
              "#d8576b"
             ],
             [
              0.6666666666666666,
              "#ed7953"
             ],
             [
              0.7777777777777778,
              "#fb9f3a"
             ],
             [
              0.8888888888888888,
              "#fdca26"
             ],
             [
              1,
              "#f0f921"
             ]
            ],
            "type": "surface"
           }
          ],
          "table": [
           {
            "cells": {
             "fill": {
              "color": "#EBF0F8"
             },
             "line": {
              "color": "white"
             }
            },
            "header": {
             "fill": {
              "color": "#C8D4E3"
             },
             "line": {
              "color": "white"
             }
            },
            "type": "table"
           }
          ]
         },
         "layout": {
          "annotationdefaults": {
           "arrowcolor": "#2a3f5f",
           "arrowhead": 0,
           "arrowwidth": 1
          },
          "autotypenumbers": "strict",
          "coloraxis": {
           "colorbar": {
            "outlinewidth": 0,
            "ticks": ""
           }
          },
          "colorscale": {
           "diverging": [
            [
             0,
             "#8e0152"
            ],
            [
             0.1,
             "#c51b7d"
            ],
            [
             0.2,
             "#de77ae"
            ],
            [
             0.3,
             "#f1b6da"
            ],
            [
             0.4,
             "#fde0ef"
            ],
            [
             0.5,
             "#f7f7f7"
            ],
            [
             0.6,
             "#e6f5d0"
            ],
            [
             0.7,
             "#b8e186"
            ],
            [
             0.8,
             "#7fbc41"
            ],
            [
             0.9,
             "#4d9221"
            ],
            [
             1,
             "#276419"
            ]
           ],
           "sequential": [
            [
             0,
             "#0d0887"
            ],
            [
             0.1111111111111111,
             "#46039f"
            ],
            [
             0.2222222222222222,
             "#7201a8"
            ],
            [
             0.3333333333333333,
             "#9c179e"
            ],
            [
             0.4444444444444444,
             "#bd3786"
            ],
            [
             0.5555555555555556,
             "#d8576b"
            ],
            [
             0.6666666666666666,
             "#ed7953"
            ],
            [
             0.7777777777777778,
             "#fb9f3a"
            ],
            [
             0.8888888888888888,
             "#fdca26"
            ],
            [
             1,
             "#f0f921"
            ]
           ],
           "sequentialminus": [
            [
             0,
             "#0d0887"
            ],
            [
             0.1111111111111111,
             "#46039f"
            ],
            [
             0.2222222222222222,
             "#7201a8"
            ],
            [
             0.3333333333333333,
             "#9c179e"
            ],
            [
             0.4444444444444444,
             "#bd3786"
            ],
            [
             0.5555555555555556,
             "#d8576b"
            ],
            [
             0.6666666666666666,
             "#ed7953"
            ],
            [
             0.7777777777777778,
             "#fb9f3a"
            ],
            [
             0.8888888888888888,
             "#fdca26"
            ],
            [
             1,
             "#f0f921"
            ]
           ]
          },
          "colorway": [
           "#636efa",
           "#EF553B",
           "#00cc96",
           "#ab63fa",
           "#FFA15A",
           "#19d3f3",
           "#FF6692",
           "#B6E880",
           "#FF97FF",
           "#FECB52"
          ],
          "font": {
           "color": "#2a3f5f"
          },
          "geo": {
           "bgcolor": "white",
           "lakecolor": "white",
           "landcolor": "#E5ECF6",
           "showlakes": true,
           "showland": true,
           "subunitcolor": "white"
          },
          "hoverlabel": {
           "align": "left"
          },
          "hovermode": "closest",
          "mapbox": {
           "style": "light"
          },
          "paper_bgcolor": "white",
          "plot_bgcolor": "#E5ECF6",
          "polar": {
           "angularaxis": {
            "gridcolor": "white",
            "linecolor": "white",
            "ticks": ""
           },
           "bgcolor": "#E5ECF6",
           "radialaxis": {
            "gridcolor": "white",
            "linecolor": "white",
            "ticks": ""
           }
          },
          "scene": {
           "xaxis": {
            "backgroundcolor": "#E5ECF6",
            "gridcolor": "white",
            "gridwidth": 2,
            "linecolor": "white",
            "showbackground": true,
            "ticks": "",
            "zerolinecolor": "white"
           },
           "yaxis": {
            "backgroundcolor": "#E5ECF6",
            "gridcolor": "white",
            "gridwidth": 2,
            "linecolor": "white",
            "showbackground": true,
            "ticks": "",
            "zerolinecolor": "white"
           },
           "zaxis": {
            "backgroundcolor": "#E5ECF6",
            "gridcolor": "white",
            "gridwidth": 2,
            "linecolor": "white",
            "showbackground": true,
            "ticks": "",
            "zerolinecolor": "white"
           }
          },
          "shapedefaults": {
           "line": {
            "color": "#2a3f5f"
           }
          },
          "ternary": {
           "aaxis": {
            "gridcolor": "white",
            "linecolor": "white",
            "ticks": ""
           },
           "baxis": {
            "gridcolor": "white",
            "linecolor": "white",
            "ticks": ""
           },
           "bgcolor": "#E5ECF6",
           "caxis": {
            "gridcolor": "white",
            "linecolor": "white",
            "ticks": ""
           }
          },
          "title": {
           "x": 0.05
          },
          "xaxis": {
           "automargin": true,
           "gridcolor": "white",
           "linecolor": "white",
           "ticks": "",
           "title": {
            "standoff": 15
           },
           "zerolinecolor": "white",
           "zerolinewidth": 2
          },
          "yaxis": {
           "automargin": true,
           "gridcolor": "white",
           "linecolor": "white",
           "ticks": "",
           "title": {
            "standoff": 15
           },
           "zerolinecolor": "white",
           "zerolinewidth": 2
          }
         }
        },
        "title": {
         "text": "Distribution of gradient magnitudes for capital neurons in the (correct and incorrect) capitals dataset"
        },
        "xaxis": {
         "anchor": "y",
         "domain": [
          0,
          1
         ],
         "title": {
          "text": "value"
         }
        },
        "yaxis": {
         "anchor": "x",
         "domain": [
          0,
          1
         ],
         "title": {
          "text": "count"
         }
        }
       }
      }
     },
     "metadata": {},
     "output_type": "display_data"
    }
   ],
   "source": [
    "px.histogram(\n",
    "    pd.concat([capital_neuron_df.loc[idx[neuron_slice], :] for neuron_slice in capital_neurons2()]).values,\n",
    "    title=\"Distribution of gradient magnitudes for capital neurons in the (correct and incorrect) capitals dataset\"\n",
    ")"
   ]
  },
  {
   "attachments": {},
   "cell_type": "markdown",
   "id": "e878bcfb",
   "metadata": {},
   "source": [
    "`W_out` updates are an order of magnitude smaller than `W_in` updates. (Why?)"
   ]
  },
  {
   "cell_type": "code",
   "execution_count": 51,
   "id": "02e27430",
   "metadata": {},
   "outputs": [
    {
     "data": {
      "application/vnd.plotly.v1+json": {
       "config": {
        "plotlyServerURL": "https://plot.ly"
       },
       "data": [
        {
         "alignmentgroup": "True",
         "bingroup": "x",
         "hovertemplate": "variable=0<br>value=%{x}<br>count=%{y}<extra></extra>",
         "legendgroup": "0",
         "marker": {
          "color": "#636efa",
          "pattern": {
           "shape": ""
          }
         },
         "name": "0",
         "offsetgroup": "0",
         "orientation": "v",
         "showlegend": true,
         "type": "histogram",
         "x": [
          1.7975959777832031,
          3.4848740100860596,
          3.5146656036376953,
          5.210154056549072,
          5.294219017028809,
          5.863630771636963,
          3.261012315750122,
          5.019931316375732,
          5.081233978271484,
          2.0857350826263428,
          0.7328758835792542,
          1.5373213291168213,
          3.469062089920044,
          3.810387134552002,
          2.2810378074645996,
          2.2372217178344727,
          3.2163548469543457,
          1.9879685640335083,
          0.4166560769081116,
          0.48120003938674927,
          0.6810381412506104,
          0.9689939618110657,
          1.2771966457366943,
          1.076724886894226,
          0.4763202369213104,
          0.4062168300151825,
          0.7061577439308167,
          0.3228398561477661,
          0.5676082372665405,
          2.132167339324951,
          1.8818538188934326,
          1.4585208892822266,
          1.6033295392990112,
          1.1545400619506836,
          1.8919007778167725,
          1.5329334735870361,
          0.08487670123577118,
          0.1582154631614685,
          1.8441544771194458,
          4.271571159362793,
          4.0616679191589355,
          5.063846588134766,
          3.185605049133301,
          2.4401156902313232,
          5.19482421875,
          0.03986779600381851,
          0.06755290180444717,
          0.7529512047767639,
          1.5061662197113037,
          2.285698175430298,
          1.6502418518066406,
          3.1995770931243896,
          2.1033570766448975,
          0.6996325254440308
         ],
         "xaxis": "x",
         "yaxis": "y"
        }
       ],
       "layout": {
        "barmode": "relative",
        "legend": {
         "title": {
          "text": "variable"
         },
         "tracegroupgap": 0
        },
        "template": {
         "data": {
          "bar": [
           {
            "error_x": {
             "color": "#2a3f5f"
            },
            "error_y": {
             "color": "#2a3f5f"
            },
            "marker": {
             "line": {
              "color": "#E5ECF6",
              "width": 0.5
             },
             "pattern": {
              "fillmode": "overlay",
              "size": 10,
              "solidity": 0.2
             }
            },
            "type": "bar"
           }
          ],
          "barpolar": [
           {
            "marker": {
             "line": {
              "color": "#E5ECF6",
              "width": 0.5
             },
             "pattern": {
              "fillmode": "overlay",
              "size": 10,
              "solidity": 0.2
             }
            },
            "type": "barpolar"
           }
          ],
          "carpet": [
           {
            "aaxis": {
             "endlinecolor": "#2a3f5f",
             "gridcolor": "white",
             "linecolor": "white",
             "minorgridcolor": "white",
             "startlinecolor": "#2a3f5f"
            },
            "baxis": {
             "endlinecolor": "#2a3f5f",
             "gridcolor": "white",
             "linecolor": "white",
             "minorgridcolor": "white",
             "startlinecolor": "#2a3f5f"
            },
            "type": "carpet"
           }
          ],
          "choropleth": [
           {
            "colorbar": {
             "outlinewidth": 0,
             "ticks": ""
            },
            "type": "choropleth"
           }
          ],
          "contour": [
           {
            "colorbar": {
             "outlinewidth": 0,
             "ticks": ""
            },
            "colorscale": [
             [
              0,
              "#0d0887"
             ],
             [
              0.1111111111111111,
              "#46039f"
             ],
             [
              0.2222222222222222,
              "#7201a8"
             ],
             [
              0.3333333333333333,
              "#9c179e"
             ],
             [
              0.4444444444444444,
              "#bd3786"
             ],
             [
              0.5555555555555556,
              "#d8576b"
             ],
             [
              0.6666666666666666,
              "#ed7953"
             ],
             [
              0.7777777777777778,
              "#fb9f3a"
             ],
             [
              0.8888888888888888,
              "#fdca26"
             ],
             [
              1,
              "#f0f921"
             ]
            ],
            "type": "contour"
           }
          ],
          "contourcarpet": [
           {
            "colorbar": {
             "outlinewidth": 0,
             "ticks": ""
            },
            "type": "contourcarpet"
           }
          ],
          "heatmap": [
           {
            "colorbar": {
             "outlinewidth": 0,
             "ticks": ""
            },
            "colorscale": [
             [
              0,
              "#0d0887"
             ],
             [
              0.1111111111111111,
              "#46039f"
             ],
             [
              0.2222222222222222,
              "#7201a8"
             ],
             [
              0.3333333333333333,
              "#9c179e"
             ],
             [
              0.4444444444444444,
              "#bd3786"
             ],
             [
              0.5555555555555556,
              "#d8576b"
             ],
             [
              0.6666666666666666,
              "#ed7953"
             ],
             [
              0.7777777777777778,
              "#fb9f3a"
             ],
             [
              0.8888888888888888,
              "#fdca26"
             ],
             [
              1,
              "#f0f921"
             ]
            ],
            "type": "heatmap"
           }
          ],
          "heatmapgl": [
           {
            "colorbar": {
             "outlinewidth": 0,
             "ticks": ""
            },
            "colorscale": [
             [
              0,
              "#0d0887"
             ],
             [
              0.1111111111111111,
              "#46039f"
             ],
             [
              0.2222222222222222,
              "#7201a8"
             ],
             [
              0.3333333333333333,
              "#9c179e"
             ],
             [
              0.4444444444444444,
              "#bd3786"
             ],
             [
              0.5555555555555556,
              "#d8576b"
             ],
             [
              0.6666666666666666,
              "#ed7953"
             ],
             [
              0.7777777777777778,
              "#fb9f3a"
             ],
             [
              0.8888888888888888,
              "#fdca26"
             ],
             [
              1,
              "#f0f921"
             ]
            ],
            "type": "heatmapgl"
           }
          ],
          "histogram": [
           {
            "marker": {
             "pattern": {
              "fillmode": "overlay",
              "size": 10,
              "solidity": 0.2
             }
            },
            "type": "histogram"
           }
          ],
          "histogram2d": [
           {
            "colorbar": {
             "outlinewidth": 0,
             "ticks": ""
            },
            "colorscale": [
             [
              0,
              "#0d0887"
             ],
             [
              0.1111111111111111,
              "#46039f"
             ],
             [
              0.2222222222222222,
              "#7201a8"
             ],
             [
              0.3333333333333333,
              "#9c179e"
             ],
             [
              0.4444444444444444,
              "#bd3786"
             ],
             [
              0.5555555555555556,
              "#d8576b"
             ],
             [
              0.6666666666666666,
              "#ed7953"
             ],
             [
              0.7777777777777778,
              "#fb9f3a"
             ],
             [
              0.8888888888888888,
              "#fdca26"
             ],
             [
              1,
              "#f0f921"
             ]
            ],
            "type": "histogram2d"
           }
          ],
          "histogram2dcontour": [
           {
            "colorbar": {
             "outlinewidth": 0,
             "ticks": ""
            },
            "colorscale": [
             [
              0,
              "#0d0887"
             ],
             [
              0.1111111111111111,
              "#46039f"
             ],
             [
              0.2222222222222222,
              "#7201a8"
             ],
             [
              0.3333333333333333,
              "#9c179e"
             ],
             [
              0.4444444444444444,
              "#bd3786"
             ],
             [
              0.5555555555555556,
              "#d8576b"
             ],
             [
              0.6666666666666666,
              "#ed7953"
             ],
             [
              0.7777777777777778,
              "#fb9f3a"
             ],
             [
              0.8888888888888888,
              "#fdca26"
             ],
             [
              1,
              "#f0f921"
             ]
            ],
            "type": "histogram2dcontour"
           }
          ],
          "mesh3d": [
           {
            "colorbar": {
             "outlinewidth": 0,
             "ticks": ""
            },
            "type": "mesh3d"
           }
          ],
          "parcoords": [
           {
            "line": {
             "colorbar": {
              "outlinewidth": 0,
              "ticks": ""
             }
            },
            "type": "parcoords"
           }
          ],
          "pie": [
           {
            "automargin": true,
            "type": "pie"
           }
          ],
          "scatter": [
           {
            "fillpattern": {
             "fillmode": "overlay",
             "size": 10,
             "solidity": 0.2
            },
            "type": "scatter"
           }
          ],
          "scatter3d": [
           {
            "line": {
             "colorbar": {
              "outlinewidth": 0,
              "ticks": ""
             }
            },
            "marker": {
             "colorbar": {
              "outlinewidth": 0,
              "ticks": ""
             }
            },
            "type": "scatter3d"
           }
          ],
          "scattercarpet": [
           {
            "marker": {
             "colorbar": {
              "outlinewidth": 0,
              "ticks": ""
             }
            },
            "type": "scattercarpet"
           }
          ],
          "scattergeo": [
           {
            "marker": {
             "colorbar": {
              "outlinewidth": 0,
              "ticks": ""
             }
            },
            "type": "scattergeo"
           }
          ],
          "scattergl": [
           {
            "marker": {
             "colorbar": {
              "outlinewidth": 0,
              "ticks": ""
             }
            },
            "type": "scattergl"
           }
          ],
          "scattermapbox": [
           {
            "marker": {
             "colorbar": {
              "outlinewidth": 0,
              "ticks": ""
             }
            },
            "type": "scattermapbox"
           }
          ],
          "scatterpolar": [
           {
            "marker": {
             "colorbar": {
              "outlinewidth": 0,
              "ticks": ""
             }
            },
            "type": "scatterpolar"
           }
          ],
          "scatterpolargl": [
           {
            "marker": {
             "colorbar": {
              "outlinewidth": 0,
              "ticks": ""
             }
            },
            "type": "scatterpolargl"
           }
          ],
          "scatterternary": [
           {
            "marker": {
             "colorbar": {
              "outlinewidth": 0,
              "ticks": ""
             }
            },
            "type": "scatterternary"
           }
          ],
          "surface": [
           {
            "colorbar": {
             "outlinewidth": 0,
             "ticks": ""
            },
            "colorscale": [
             [
              0,
              "#0d0887"
             ],
             [
              0.1111111111111111,
              "#46039f"
             ],
             [
              0.2222222222222222,
              "#7201a8"
             ],
             [
              0.3333333333333333,
              "#9c179e"
             ],
             [
              0.4444444444444444,
              "#bd3786"
             ],
             [
              0.5555555555555556,
              "#d8576b"
             ],
             [
              0.6666666666666666,
              "#ed7953"
             ],
             [
              0.7777777777777778,
              "#fb9f3a"
             ],
             [
              0.8888888888888888,
              "#fdca26"
             ],
             [
              1,
              "#f0f921"
             ]
            ],
            "type": "surface"
           }
          ],
          "table": [
           {
            "cells": {
             "fill": {
              "color": "#EBF0F8"
             },
             "line": {
              "color": "white"
             }
            },
            "header": {
             "fill": {
              "color": "#C8D4E3"
             },
             "line": {
              "color": "white"
             }
            },
            "type": "table"
           }
          ]
         },
         "layout": {
          "annotationdefaults": {
           "arrowcolor": "#2a3f5f",
           "arrowhead": 0,
           "arrowwidth": 1
          },
          "autotypenumbers": "strict",
          "coloraxis": {
           "colorbar": {
            "outlinewidth": 0,
            "ticks": ""
           }
          },
          "colorscale": {
           "diverging": [
            [
             0,
             "#8e0152"
            ],
            [
             0.1,
             "#c51b7d"
            ],
            [
             0.2,
             "#de77ae"
            ],
            [
             0.3,
             "#f1b6da"
            ],
            [
             0.4,
             "#fde0ef"
            ],
            [
             0.5,
             "#f7f7f7"
            ],
            [
             0.6,
             "#e6f5d0"
            ],
            [
             0.7,
             "#b8e186"
            ],
            [
             0.8,
             "#7fbc41"
            ],
            [
             0.9,
             "#4d9221"
            ],
            [
             1,
             "#276419"
            ]
           ],
           "sequential": [
            [
             0,
             "#0d0887"
            ],
            [
             0.1111111111111111,
             "#46039f"
            ],
            [
             0.2222222222222222,
             "#7201a8"
            ],
            [
             0.3333333333333333,
             "#9c179e"
            ],
            [
             0.4444444444444444,
             "#bd3786"
            ],
            [
             0.5555555555555556,
             "#d8576b"
            ],
            [
             0.6666666666666666,
             "#ed7953"
            ],
            [
             0.7777777777777778,
             "#fb9f3a"
            ],
            [
             0.8888888888888888,
             "#fdca26"
            ],
            [
             1,
             "#f0f921"
            ]
           ],
           "sequentialminus": [
            [
             0,
             "#0d0887"
            ],
            [
             0.1111111111111111,
             "#46039f"
            ],
            [
             0.2222222222222222,
             "#7201a8"
            ],
            [
             0.3333333333333333,
             "#9c179e"
            ],
            [
             0.4444444444444444,
             "#bd3786"
            ],
            [
             0.5555555555555556,
             "#d8576b"
            ],
            [
             0.6666666666666666,
             "#ed7953"
            ],
            [
             0.7777777777777778,
             "#fb9f3a"
            ],
            [
             0.8888888888888888,
             "#fdca26"
            ],
            [
             1,
             "#f0f921"
            ]
           ]
          },
          "colorway": [
           "#636efa",
           "#EF553B",
           "#00cc96",
           "#ab63fa",
           "#FFA15A",
           "#19d3f3",
           "#FF6692",
           "#B6E880",
           "#FF97FF",
           "#FECB52"
          ],
          "font": {
           "color": "#2a3f5f"
          },
          "geo": {
           "bgcolor": "white",
           "lakecolor": "white",
           "landcolor": "#E5ECF6",
           "showlakes": true,
           "showland": true,
           "subunitcolor": "white"
          },
          "hoverlabel": {
           "align": "left"
          },
          "hovermode": "closest",
          "mapbox": {
           "style": "light"
          },
          "paper_bgcolor": "white",
          "plot_bgcolor": "#E5ECF6",
          "polar": {
           "angularaxis": {
            "gridcolor": "white",
            "linecolor": "white",
            "ticks": ""
           },
           "bgcolor": "#E5ECF6",
           "radialaxis": {
            "gridcolor": "white",
            "linecolor": "white",
            "ticks": ""
           }
          },
          "scene": {
           "xaxis": {
            "backgroundcolor": "#E5ECF6",
            "gridcolor": "white",
            "gridwidth": 2,
            "linecolor": "white",
            "showbackground": true,
            "ticks": "",
            "zerolinecolor": "white"
           },
           "yaxis": {
            "backgroundcolor": "#E5ECF6",
            "gridcolor": "white",
            "gridwidth": 2,
            "linecolor": "white",
            "showbackground": true,
            "ticks": "",
            "zerolinecolor": "white"
           },
           "zaxis": {
            "backgroundcolor": "#E5ECF6",
            "gridcolor": "white",
            "gridwidth": 2,
            "linecolor": "white",
            "showbackground": true,
            "ticks": "",
            "zerolinecolor": "white"
           }
          },
          "shapedefaults": {
           "line": {
            "color": "#2a3f5f"
           }
          },
          "ternary": {
           "aaxis": {
            "gridcolor": "white",
            "linecolor": "white",
            "ticks": ""
           },
           "baxis": {
            "gridcolor": "white",
            "linecolor": "white",
            "ticks": ""
           },
           "bgcolor": "#E5ECF6",
           "caxis": {
            "gridcolor": "white",
            "linecolor": "white",
            "ticks": ""
           }
          },
          "title": {
           "x": 0.05
          },
          "xaxis": {
           "automargin": true,
           "gridcolor": "white",
           "linecolor": "white",
           "ticks": "",
           "title": {
            "standoff": 15
           },
           "zerolinecolor": "white",
           "zerolinewidth": 2
          },
          "yaxis": {
           "automargin": true,
           "gridcolor": "white",
           "linecolor": "white",
           "ticks": "",
           "title": {
            "standoff": 15
           },
           "zerolinecolor": "white",
           "zerolinewidth": 2
          }
         }
        },
        "title": {
         "text": "Distribution of W_in gradient magnitudes for capital neurons in the (correct and incorrect) capitals dataset"
        },
        "xaxis": {
         "anchor": "y",
         "domain": [
          0,
          1
         ],
         "title": {
          "text": "value"
         }
        },
        "yaxis": {
         "anchor": "x",
         "domain": [
          0,
          1
         ],
         "title": {
          "text": "count"
         }
        }
       }
      }
     },
     "metadata": {},
     "output_type": "display_data"
    }
   ],
   "source": [
    "px.histogram(\n",
    "    pd.concat([capital_neuron_df.loc[idx[neuron_slice], :] for neuron_slice in capital_neurons2(matrix=\"W_in\")]).values,\n",
    "    title=\"Distribution of W_in gradient magnitudes for capital neurons in the (correct and incorrect) capitals dataset\"\n",
    ")"
   ]
  },
  {
   "cell_type": "code",
   "execution_count": 53,
   "id": "0e0e464b",
   "metadata": {},
   "outputs": [
    {
     "data": {
      "application/vnd.plotly.v1+json": {
       "config": {
        "plotlyServerURL": "https://plot.ly"
       },
       "data": [
        {
         "alignmentgroup": "True",
         "bingroup": "x",
         "hovertemplate": "variable=0<br>value=%{x}<br>count=%{y}<extra></extra>",
         "legendgroup": "0",
         "marker": {
          "color": "#636efa",
          "pattern": {
           "shape": ""
          }
         },
         "name": "0",
         "offsetgroup": "0",
         "orientation": "v",
         "showlegend": true,
         "type": "histogram",
         "x": [
          0.029954880475997925,
          0.08912171423435211,
          0.12659543752670288,
          0.21897466480731964,
          0.17693978548049927,
          0.23826093971729279,
          0.11997188627719879,
          0.14623689651489258,
          0.21685321629047394,
          0.06233246624469757,
          0.03013203851878643,
          0.12781529128551483,
          0.1067652478814125,
          0.1244686171412468,
          0.11633548885583878,
          0.13209083676338196,
          0.12955725193023682,
          0.07634235173463821,
          0.016361508518457413,
          0.03276148810982704,
          0.021320657804608345,
          0.023077132180333138,
          0.023541299626231194,
          0.023199858143925667,
          0.01894366554915905,
          0.023725692182779312,
          0.019668305292725563,
          0.02587641216814518,
          0.02243889309465885,
          0.026971016079187393,
          0.02368307299911976,
          0.025732604786753654,
          0.0232295710593462,
          0.019585514441132545,
          0.028190219774842262,
          0.020268000662326813,
          0.009025558829307556,
          0.01568247564136982,
          0.05399284139275551,
          0.0919000580906868,
          0.07067305594682693,
          0.12257027626037598,
          0.05701908469200134,
          0.06819236278533936,
          0.09746754169464111,
          0.01463879831135273,
          0.010184050537645817,
          0.06897426396608353,
          0.06564588844776154,
          0.05896404758095741,
          0.07356638461351395,
          0.06330575793981552,
          0.06629589200019836,
          0.053244445472955704
         ],
         "xaxis": "x",
         "yaxis": "y"
        }
       ],
       "layout": {
        "barmode": "relative",
        "legend": {
         "title": {
          "text": "variable"
         },
         "tracegroupgap": 0
        },
        "template": {
         "data": {
          "bar": [
           {
            "error_x": {
             "color": "#2a3f5f"
            },
            "error_y": {
             "color": "#2a3f5f"
            },
            "marker": {
             "line": {
              "color": "#E5ECF6",
              "width": 0.5
             },
             "pattern": {
              "fillmode": "overlay",
              "size": 10,
              "solidity": 0.2
             }
            },
            "type": "bar"
           }
          ],
          "barpolar": [
           {
            "marker": {
             "line": {
              "color": "#E5ECF6",
              "width": 0.5
             },
             "pattern": {
              "fillmode": "overlay",
              "size": 10,
              "solidity": 0.2
             }
            },
            "type": "barpolar"
           }
          ],
          "carpet": [
           {
            "aaxis": {
             "endlinecolor": "#2a3f5f",
             "gridcolor": "white",
             "linecolor": "white",
             "minorgridcolor": "white",
             "startlinecolor": "#2a3f5f"
            },
            "baxis": {
             "endlinecolor": "#2a3f5f",
             "gridcolor": "white",
             "linecolor": "white",
             "minorgridcolor": "white",
             "startlinecolor": "#2a3f5f"
            },
            "type": "carpet"
           }
          ],
          "choropleth": [
           {
            "colorbar": {
             "outlinewidth": 0,
             "ticks": ""
            },
            "type": "choropleth"
           }
          ],
          "contour": [
           {
            "colorbar": {
             "outlinewidth": 0,
             "ticks": ""
            },
            "colorscale": [
             [
              0,
              "#0d0887"
             ],
             [
              0.1111111111111111,
              "#46039f"
             ],
             [
              0.2222222222222222,
              "#7201a8"
             ],
             [
              0.3333333333333333,
              "#9c179e"
             ],
             [
              0.4444444444444444,
              "#bd3786"
             ],
             [
              0.5555555555555556,
              "#d8576b"
             ],
             [
              0.6666666666666666,
              "#ed7953"
             ],
             [
              0.7777777777777778,
              "#fb9f3a"
             ],
             [
              0.8888888888888888,
              "#fdca26"
             ],
             [
              1,
              "#f0f921"
             ]
            ],
            "type": "contour"
           }
          ],
          "contourcarpet": [
           {
            "colorbar": {
             "outlinewidth": 0,
             "ticks": ""
            },
            "type": "contourcarpet"
           }
          ],
          "heatmap": [
           {
            "colorbar": {
             "outlinewidth": 0,
             "ticks": ""
            },
            "colorscale": [
             [
              0,
              "#0d0887"
             ],
             [
              0.1111111111111111,
              "#46039f"
             ],
             [
              0.2222222222222222,
              "#7201a8"
             ],
             [
              0.3333333333333333,
              "#9c179e"
             ],
             [
              0.4444444444444444,
              "#bd3786"
             ],
             [
              0.5555555555555556,
              "#d8576b"
             ],
             [
              0.6666666666666666,
              "#ed7953"
             ],
             [
              0.7777777777777778,
              "#fb9f3a"
             ],
             [
              0.8888888888888888,
              "#fdca26"
             ],
             [
              1,
              "#f0f921"
             ]
            ],
            "type": "heatmap"
           }
          ],
          "heatmapgl": [
           {
            "colorbar": {
             "outlinewidth": 0,
             "ticks": ""
            },
            "colorscale": [
             [
              0,
              "#0d0887"
             ],
             [
              0.1111111111111111,
              "#46039f"
             ],
             [
              0.2222222222222222,
              "#7201a8"
             ],
             [
              0.3333333333333333,
              "#9c179e"
             ],
             [
              0.4444444444444444,
              "#bd3786"
             ],
             [
              0.5555555555555556,
              "#d8576b"
             ],
             [
              0.6666666666666666,
              "#ed7953"
             ],
             [
              0.7777777777777778,
              "#fb9f3a"
             ],
             [
              0.8888888888888888,
              "#fdca26"
             ],
             [
              1,
              "#f0f921"
             ]
            ],
            "type": "heatmapgl"
           }
          ],
          "histogram": [
           {
            "marker": {
             "pattern": {
              "fillmode": "overlay",
              "size": 10,
              "solidity": 0.2
             }
            },
            "type": "histogram"
           }
          ],
          "histogram2d": [
           {
            "colorbar": {
             "outlinewidth": 0,
             "ticks": ""
            },
            "colorscale": [
             [
              0,
              "#0d0887"
             ],
             [
              0.1111111111111111,
              "#46039f"
             ],
             [
              0.2222222222222222,
              "#7201a8"
             ],
             [
              0.3333333333333333,
              "#9c179e"
             ],
             [
              0.4444444444444444,
              "#bd3786"
             ],
             [
              0.5555555555555556,
              "#d8576b"
             ],
             [
              0.6666666666666666,
              "#ed7953"
             ],
             [
              0.7777777777777778,
              "#fb9f3a"
             ],
             [
              0.8888888888888888,
              "#fdca26"
             ],
             [
              1,
              "#f0f921"
             ]
            ],
            "type": "histogram2d"
           }
          ],
          "histogram2dcontour": [
           {
            "colorbar": {
             "outlinewidth": 0,
             "ticks": ""
            },
            "colorscale": [
             [
              0,
              "#0d0887"
             ],
             [
              0.1111111111111111,
              "#46039f"
             ],
             [
              0.2222222222222222,
              "#7201a8"
             ],
             [
              0.3333333333333333,
              "#9c179e"
             ],
             [
              0.4444444444444444,
              "#bd3786"
             ],
             [
              0.5555555555555556,
              "#d8576b"
             ],
             [
              0.6666666666666666,
              "#ed7953"
             ],
             [
              0.7777777777777778,
              "#fb9f3a"
             ],
             [
              0.8888888888888888,
              "#fdca26"
             ],
             [
              1,
              "#f0f921"
             ]
            ],
            "type": "histogram2dcontour"
           }
          ],
          "mesh3d": [
           {
            "colorbar": {
             "outlinewidth": 0,
             "ticks": ""
            },
            "type": "mesh3d"
           }
          ],
          "parcoords": [
           {
            "line": {
             "colorbar": {
              "outlinewidth": 0,
              "ticks": ""
             }
            },
            "type": "parcoords"
           }
          ],
          "pie": [
           {
            "automargin": true,
            "type": "pie"
           }
          ],
          "scatter": [
           {
            "fillpattern": {
             "fillmode": "overlay",
             "size": 10,
             "solidity": 0.2
            },
            "type": "scatter"
           }
          ],
          "scatter3d": [
           {
            "line": {
             "colorbar": {
              "outlinewidth": 0,
              "ticks": ""
             }
            },
            "marker": {
             "colorbar": {
              "outlinewidth": 0,
              "ticks": ""
             }
            },
            "type": "scatter3d"
           }
          ],
          "scattercarpet": [
           {
            "marker": {
             "colorbar": {
              "outlinewidth": 0,
              "ticks": ""
             }
            },
            "type": "scattercarpet"
           }
          ],
          "scattergeo": [
           {
            "marker": {
             "colorbar": {
              "outlinewidth": 0,
              "ticks": ""
             }
            },
            "type": "scattergeo"
           }
          ],
          "scattergl": [
           {
            "marker": {
             "colorbar": {
              "outlinewidth": 0,
              "ticks": ""
             }
            },
            "type": "scattergl"
           }
          ],
          "scattermapbox": [
           {
            "marker": {
             "colorbar": {
              "outlinewidth": 0,
              "ticks": ""
             }
            },
            "type": "scattermapbox"
           }
          ],
          "scatterpolar": [
           {
            "marker": {
             "colorbar": {
              "outlinewidth": 0,
              "ticks": ""
             }
            },
            "type": "scatterpolar"
           }
          ],
          "scatterpolargl": [
           {
            "marker": {
             "colorbar": {
              "outlinewidth": 0,
              "ticks": ""
             }
            },
            "type": "scatterpolargl"
           }
          ],
          "scatterternary": [
           {
            "marker": {
             "colorbar": {
              "outlinewidth": 0,
              "ticks": ""
             }
            },
            "type": "scatterternary"
           }
          ],
          "surface": [
           {
            "colorbar": {
             "outlinewidth": 0,
             "ticks": ""
            },
            "colorscale": [
             [
              0,
              "#0d0887"
             ],
             [
              0.1111111111111111,
              "#46039f"
             ],
             [
              0.2222222222222222,
              "#7201a8"
             ],
             [
              0.3333333333333333,
              "#9c179e"
             ],
             [
              0.4444444444444444,
              "#bd3786"
             ],
             [
              0.5555555555555556,
              "#d8576b"
             ],
             [
              0.6666666666666666,
              "#ed7953"
             ],
             [
              0.7777777777777778,
              "#fb9f3a"
             ],
             [
              0.8888888888888888,
              "#fdca26"
             ],
             [
              1,
              "#f0f921"
             ]
            ],
            "type": "surface"
           }
          ],
          "table": [
           {
            "cells": {
             "fill": {
              "color": "#EBF0F8"
             },
             "line": {
              "color": "white"
             }
            },
            "header": {
             "fill": {
              "color": "#C8D4E3"
             },
             "line": {
              "color": "white"
             }
            },
            "type": "table"
           }
          ]
         },
         "layout": {
          "annotationdefaults": {
           "arrowcolor": "#2a3f5f",
           "arrowhead": 0,
           "arrowwidth": 1
          },
          "autotypenumbers": "strict",
          "coloraxis": {
           "colorbar": {
            "outlinewidth": 0,
            "ticks": ""
           }
          },
          "colorscale": {
           "diverging": [
            [
             0,
             "#8e0152"
            ],
            [
             0.1,
             "#c51b7d"
            ],
            [
             0.2,
             "#de77ae"
            ],
            [
             0.3,
             "#f1b6da"
            ],
            [
             0.4,
             "#fde0ef"
            ],
            [
             0.5,
             "#f7f7f7"
            ],
            [
             0.6,
             "#e6f5d0"
            ],
            [
             0.7,
             "#b8e186"
            ],
            [
             0.8,
             "#7fbc41"
            ],
            [
             0.9,
             "#4d9221"
            ],
            [
             1,
             "#276419"
            ]
           ],
           "sequential": [
            [
             0,
             "#0d0887"
            ],
            [
             0.1111111111111111,
             "#46039f"
            ],
            [
             0.2222222222222222,
             "#7201a8"
            ],
            [
             0.3333333333333333,
             "#9c179e"
            ],
            [
             0.4444444444444444,
             "#bd3786"
            ],
            [
             0.5555555555555556,
             "#d8576b"
            ],
            [
             0.6666666666666666,
             "#ed7953"
            ],
            [
             0.7777777777777778,
             "#fb9f3a"
            ],
            [
             0.8888888888888888,
             "#fdca26"
            ],
            [
             1,
             "#f0f921"
            ]
           ],
           "sequentialminus": [
            [
             0,
             "#0d0887"
            ],
            [
             0.1111111111111111,
             "#46039f"
            ],
            [
             0.2222222222222222,
             "#7201a8"
            ],
            [
             0.3333333333333333,
             "#9c179e"
            ],
            [
             0.4444444444444444,
             "#bd3786"
            ],
            [
             0.5555555555555556,
             "#d8576b"
            ],
            [
             0.6666666666666666,
             "#ed7953"
            ],
            [
             0.7777777777777778,
             "#fb9f3a"
            ],
            [
             0.8888888888888888,
             "#fdca26"
            ],
            [
             1,
             "#f0f921"
            ]
           ]
          },
          "colorway": [
           "#636efa",
           "#EF553B",
           "#00cc96",
           "#ab63fa",
           "#FFA15A",
           "#19d3f3",
           "#FF6692",
           "#B6E880",
           "#FF97FF",
           "#FECB52"
          ],
          "font": {
           "color": "#2a3f5f"
          },
          "geo": {
           "bgcolor": "white",
           "lakecolor": "white",
           "landcolor": "#E5ECF6",
           "showlakes": true,
           "showland": true,
           "subunitcolor": "white"
          },
          "hoverlabel": {
           "align": "left"
          },
          "hovermode": "closest",
          "mapbox": {
           "style": "light"
          },
          "paper_bgcolor": "white",
          "plot_bgcolor": "#E5ECF6",
          "polar": {
           "angularaxis": {
            "gridcolor": "white",
            "linecolor": "white",
            "ticks": ""
           },
           "bgcolor": "#E5ECF6",
           "radialaxis": {
            "gridcolor": "white",
            "linecolor": "white",
            "ticks": ""
           }
          },
          "scene": {
           "xaxis": {
            "backgroundcolor": "#E5ECF6",
            "gridcolor": "white",
            "gridwidth": 2,
            "linecolor": "white",
            "showbackground": true,
            "ticks": "",
            "zerolinecolor": "white"
           },
           "yaxis": {
            "backgroundcolor": "#E5ECF6",
            "gridcolor": "white",
            "gridwidth": 2,
            "linecolor": "white",
            "showbackground": true,
            "ticks": "",
            "zerolinecolor": "white"
           },
           "zaxis": {
            "backgroundcolor": "#E5ECF6",
            "gridcolor": "white",
            "gridwidth": 2,
            "linecolor": "white",
            "showbackground": true,
            "ticks": "",
            "zerolinecolor": "white"
           }
          },
          "shapedefaults": {
           "line": {
            "color": "#2a3f5f"
           }
          },
          "ternary": {
           "aaxis": {
            "gridcolor": "white",
            "linecolor": "white",
            "ticks": ""
           },
           "baxis": {
            "gridcolor": "white",
            "linecolor": "white",
            "ticks": ""
           },
           "bgcolor": "#E5ECF6",
           "caxis": {
            "gridcolor": "white",
            "linecolor": "white",
            "ticks": ""
           }
          },
          "title": {
           "x": 0.05
          },
          "xaxis": {
           "automargin": true,
           "gridcolor": "white",
           "linecolor": "white",
           "ticks": "",
           "title": {
            "standoff": 15
           },
           "zerolinecolor": "white",
           "zerolinewidth": 2
          },
          "yaxis": {
           "automargin": true,
           "gridcolor": "white",
           "linecolor": "white",
           "ticks": "",
           "title": {
            "standoff": 15
           },
           "zerolinecolor": "white",
           "zerolinewidth": 2
          }
         }
        },
        "title": {
         "text": "Distribution of W_out gradient magnitudes for capital neurons in the (correct and incorrect) capitals dataset"
        },
        "xaxis": {
         "anchor": "y",
         "domain": [
          0,
          1
         ],
         "title": {
          "text": "value"
         }
        },
        "yaxis": {
         "anchor": "x",
         "domain": [
          0,
          1
         ],
         "title": {
          "text": "count"
         }
        }
       }
      }
     },
     "metadata": {},
     "output_type": "display_data"
    }
   ],
   "source": [
    "px.histogram(\n",
    "    pd.concat([capital_neuron_df.loc[idx[neuron_slice], :] for neuron_slice in capital_neurons2(matrix=\"W_out\")]).values,\n",
    "    title=\"Distribution of W_out gradient magnitudes for capital neurons in the (correct and incorrect) capitals dataset\"\n",
    ")"
   ]
  },
  {
   "cell_type": "code",
   "execution_count": 35,
   "id": "1db07cf5",
   "metadata": {},
   "outputs": [
    {
     "data": {
      "text/html": [
       "<div>\n",
       "<style scoped>\n",
       "    .dataframe tbody tr th:only-of-type {\n",
       "        vertical-align: middle;\n",
       "    }\n",
       "\n",
       "    .dataframe tbody tr th {\n",
       "        vertical-align: top;\n",
       "    }\n",
       "\n",
       "    .dataframe thead th {\n",
       "        text-align: right;\n",
       "    }\n",
       "</style>\n",
       "<table border=\"1\" class=\"dataframe\">\n",
       "  <thead>\n",
       "    <tr style=\"text-align: right;\">\n",
       "      <th></th>\n",
       "      <th></th>\n",
       "      <th></th>\n",
       "      <th></th>\n",
       "      <th></th>\n",
       "      <th>Magnitude</th>\n",
       "    </tr>\n",
       "    <tr>\n",
       "      <th>Input</th>\n",
       "      <th>Correct</th>\n",
       "      <th>Matrix</th>\n",
       "      <th>Layer</th>\n",
       "      <th>Neuron</th>\n",
       "      <th></th>\n",
       "    </tr>\n",
       "  </thead>\n",
       "  <tbody>\n",
       "    <tr>\n",
       "      <th>The capital of Brazil is Brasilia.</th>\n",
       "      <th>True</th>\n",
       "      <th>W_out</th>\n",
       "      <th>4</th>\n",
       "      <th>1406</th>\n",
       "      <td>0.238261</td>\n",
       "    </tr>\n",
       "    <tr>\n",
       "      <th>The capital of Australia is Canberra.</th>\n",
       "      <th>True</th>\n",
       "      <th>W_out</th>\n",
       "      <th>4</th>\n",
       "      <th>1406</th>\n",
       "      <td>0.218975</td>\n",
       "    </tr>\n",
       "    <tr>\n",
       "      <th>The capital of South Africa is Pretoria.</th>\n",
       "      <th>True</th>\n",
       "      <th>W_out</th>\n",
       "      <th>4</th>\n",
       "      <th>1406</th>\n",
       "      <td>0.216853</td>\n",
       "    </tr>\n",
       "    <tr>\n",
       "      <th>The capital of Canada is Ottawa.</th>\n",
       "      <th>True</th>\n",
       "      <th>W_out</th>\n",
       "      <th>4</th>\n",
       "      <th>1406</th>\n",
       "      <td>0.176940</td>\n",
       "    </tr>\n",
       "    <tr>\n",
       "      <th>The capital of Russia is Moscow.</th>\n",
       "      <th>True</th>\n",
       "      <th>W_out</th>\n",
       "      <th>4</th>\n",
       "      <th>1406</th>\n",
       "      <td>0.146237</td>\n",
       "    </tr>\n",
       "    <tr>\n",
       "      <th>The capital of Mexico is Mexico City.</th>\n",
       "      <th>True</th>\n",
       "      <th>W_out</th>\n",
       "      <th>4</th>\n",
       "      <th>1406</th>\n",
       "      <td>0.126595</td>\n",
       "    </tr>\n",
       "    <tr>\n",
       "      <th>The capital of Brazil is Brasilia.</th>\n",
       "      <th>True</th>\n",
       "      <th>W_out</th>\n",
       "      <th>7</th>\n",
       "      <th>1137</th>\n",
       "      <td>0.122570</td>\n",
       "    </tr>\n",
       "    <tr>\n",
       "      <th>The capital of India is New Delhi.</th>\n",
       "      <th>True</th>\n",
       "      <th>W_out</th>\n",
       "      <th>4</th>\n",
       "      <th>1406</th>\n",
       "      <td>0.119972</td>\n",
       "    </tr>\n",
       "    <tr>\n",
       "      <th>The capital of South Africa is Pretoria.</th>\n",
       "      <th>True</th>\n",
       "      <th>W_out</th>\n",
       "      <th>7</th>\n",
       "      <th>1137</th>\n",
       "      <td>0.097468</td>\n",
       "    </tr>\n",
       "    <tr>\n",
       "      <th>The capital of Australia is Canberra.</th>\n",
       "      <th>True</th>\n",
       "      <th>W_out</th>\n",
       "      <th>7</th>\n",
       "      <th>1137</th>\n",
       "      <td>0.091900</td>\n",
       "    </tr>\n",
       "  </tbody>\n",
       "</table>\n",
       "</div>"
      ],
      "text/plain": [
       "                                                                      Magnitude\n",
       "Input                                    Correct Matrix Layer Neuron           \n",
       "The capital of Brazil is Brasilia.       True    W_out  4     1406     0.238261\n",
       "The capital of Australia is Canberra.    True    W_out  4     1406     0.218975\n",
       "The capital of South Africa is Pretoria. True    W_out  4     1406     0.216853\n",
       "The capital of Canada is Ottawa.         True    W_out  4     1406     0.176940\n",
       "The capital of Russia is Moscow.         True    W_out  4     1406     0.146237\n",
       "The capital of Mexico is Mexico City.    True    W_out  4     1406     0.126595\n",
       "The capital of Brazil is Brasilia.       True    W_out  7     1137     0.122570\n",
       "The capital of India is New Delhi.       True    W_out  4     1406     0.119972\n",
       "The capital of South Africa is Pretoria. True    W_out  7     1137     0.097468\n",
       "The capital of Australia is Canberra.    True    W_out  7     1137     0.091900"
      ]
     },
     "execution_count": 35,
     "metadata": {},
     "output_type": "execute_result"
    }
   ],
   "source": [
    "pd.concat([capital_neuron_df.loc[idx[neuron_slice], :] for neuron_slice in capital_neurons2(correct=True, matrix=\"W_out\")]) \\\n",
    "    .sort_values(by=\"Magnitude\", ascending=False).head(10)"
   ]
  },
  {
   "cell_type": "code",
   "execution_count": 36,
   "id": "35e02f40",
   "metadata": {},
   "outputs": [
    {
     "data": {
      "text/html": [
       "<div>\n",
       "<style scoped>\n",
       "    .dataframe tbody tr th:only-of-type {\n",
       "        vertical-align: middle;\n",
       "    }\n",
       "\n",
       "    .dataframe tbody tr th {\n",
       "        vertical-align: top;\n",
       "    }\n",
       "\n",
       "    .dataframe thead th {\n",
       "        text-align: right;\n",
       "    }\n",
       "</style>\n",
       "<table border=\"1\" class=\"dataframe\">\n",
       "  <thead>\n",
       "    <tr style=\"text-align: right;\">\n",
       "      <th></th>\n",
       "      <th></th>\n",
       "      <th></th>\n",
       "      <th></th>\n",
       "      <th></th>\n",
       "      <th>Magnitude</th>\n",
       "    </tr>\n",
       "    <tr>\n",
       "      <th>Input</th>\n",
       "      <th>Correct</th>\n",
       "      <th>Matrix</th>\n",
       "      <th>Layer</th>\n",
       "      <th>Neuron</th>\n",
       "      <th></th>\n",
       "    </tr>\n",
       "  </thead>\n",
       "  <tbody>\n",
       "    <tr>\n",
       "      <th>The capital of India is Pretoria.</th>\n",
       "      <th>False</th>\n",
       "      <th>W_out</th>\n",
       "      <th>4</th>\n",
       "      <th>1406</th>\n",
       "      <td>0.132091</td>\n",
       "    </tr>\n",
       "    <tr>\n",
       "      <th>The capital of Russia is New Delhi.</th>\n",
       "      <th>False</th>\n",
       "      <th>W_out</th>\n",
       "      <th>4</th>\n",
       "      <th>1406</th>\n",
       "      <td>0.129557</td>\n",
       "    </tr>\n",
       "    <tr>\n",
       "      <th>The capital of Mexico is Canberra.</th>\n",
       "      <th>False</th>\n",
       "      <th>W_out</th>\n",
       "      <th>4</th>\n",
       "      <th>1406</th>\n",
       "      <td>0.127815</td>\n",
       "    </tr>\n",
       "    <tr>\n",
       "      <th>The capital of Canada is Brasilia.</th>\n",
       "      <th>False</th>\n",
       "      <th>W_out</th>\n",
       "      <th>4</th>\n",
       "      <th>1406</th>\n",
       "      <td>0.124469</td>\n",
       "    </tr>\n",
       "    <tr>\n",
       "      <th>The capital of Brazil is Ottawa.</th>\n",
       "      <th>False</th>\n",
       "      <th>W_out</th>\n",
       "      <th>4</th>\n",
       "      <th>1406</th>\n",
       "      <td>0.116335</td>\n",
       "    </tr>\n",
       "    <tr>\n",
       "      <th>The capital of Australia is Mexico City.</th>\n",
       "      <th>False</th>\n",
       "      <th>W_out</th>\n",
       "      <th>4</th>\n",
       "      <th>1406</th>\n",
       "      <td>0.106765</td>\n",
       "    </tr>\n",
       "    <tr>\n",
       "      <th>The capital of South Africa is Moscow.</th>\n",
       "      <th>False</th>\n",
       "      <th>W_out</th>\n",
       "      <th>4</th>\n",
       "      <th>1406</th>\n",
       "      <td>0.076342</td>\n",
       "    </tr>\n",
       "    <tr>\n",
       "      <th>The capital of Brazil is Ottawa.</th>\n",
       "      <th>False</th>\n",
       "      <th>W_out</th>\n",
       "      <th>7</th>\n",
       "      <th>1137</th>\n",
       "      <td>0.073566</td>\n",
       "    </tr>\n",
       "    <tr>\n",
       "      <th>The capital of Mexico is Canberra.</th>\n",
       "      <th>False</th>\n",
       "      <th>W_out</th>\n",
       "      <th>7</th>\n",
       "      <th>1137</th>\n",
       "      <td>0.068974</td>\n",
       "    </tr>\n",
       "    <tr>\n",
       "      <th>The capital of Russia is New Delhi.</th>\n",
       "      <th>False</th>\n",
       "      <th>W_out</th>\n",
       "      <th>7</th>\n",
       "      <th>1137</th>\n",
       "      <td>0.066296</td>\n",
       "    </tr>\n",
       "  </tbody>\n",
       "</table>\n",
       "</div>"
      ],
      "text/plain": [
       "                                                                      Magnitude\n",
       "Input                                    Correct Matrix Layer Neuron           \n",
       "The capital of India is Pretoria.        False   W_out  4     1406     0.132091\n",
       "The capital of Russia is New Delhi.      False   W_out  4     1406     0.129557\n",
       "The capital of Mexico is Canberra.       False   W_out  4     1406     0.127815\n",
       "The capital of Canada is Brasilia.       False   W_out  4     1406     0.124469\n",
       "The capital of Brazil is Ottawa.         False   W_out  4     1406     0.116335\n",
       "The capital of Australia is Mexico City. False   W_out  4     1406     0.106765\n",
       "The capital of South Africa is Moscow.   False   W_out  4     1406     0.076342\n",
       "The capital of Brazil is Ottawa.         False   W_out  7     1137     0.073566\n",
       "The capital of Mexico is Canberra.       False   W_out  7     1137     0.068974\n",
       "The capital of Russia is New Delhi.      False   W_out  7     1137     0.066296"
      ]
     },
     "execution_count": 36,
     "metadata": {},
     "output_type": "execute_result"
    }
   ],
   "source": [
    "pd.concat([capital_neuron_df.loc[idx[neuron_slice], :] for neuron_slice in capital_neurons2(correct=False, matrix=\"W_out\")]) \\\n",
    "    .sort_values(by=\"Magnitude\", ascending=False).head(10)"
   ]
  },
  {
   "attachments": {},
   "cell_type": "markdown",
   "id": "e15b3005",
   "metadata": {},
   "source": [
    "The capital neurons have significantly smaller updates on non-capital sentences."
   ]
  },
  {
   "cell_type": "code",
   "execution_count": 40,
   "id": "e7e8ffe4",
   "metadata": {},
   "outputs": [
    {
     "data": {
      "text/html": [
       "<div>\n",
       "<style scoped>\n",
       "    .dataframe tbody tr th:only-of-type {\n",
       "        vertical-align: middle;\n",
       "    }\n",
       "\n",
       "    .dataframe tbody tr th {\n",
       "        vertical-align: top;\n",
       "    }\n",
       "\n",
       "    .dataframe thead th {\n",
       "        text-align: right;\n",
       "    }\n",
       "</style>\n",
       "<table border=\"1\" class=\"dataframe\">\n",
       "  <thead>\n",
       "    <tr style=\"text-align: right;\">\n",
       "      <th></th>\n",
       "      <th></th>\n",
       "      <th></th>\n",
       "      <th></th>\n",
       "      <th>Magnitude</th>\n",
       "    </tr>\n",
       "    <tr>\n",
       "      <th>Input</th>\n",
       "      <th>Matrix</th>\n",
       "      <th>Layer</th>\n",
       "      <th>Neuron</th>\n",
       "      <th></th>\n",
       "    </tr>\n",
       "  </thead>\n",
       "  <tbody>\n",
       "    <tr>\n",
       "      <th>Google Authenticator is adding a long-standing customer request</th>\n",
       "      <th>W_in</th>\n",
       "      <th>8</th>\n",
       "      <th>1961</th>\n",
       "      <td>1.170218</td>\n",
       "    </tr>\n",
       "    <tr>\n",
       "      <th>Hillary Clinton: Republicans Are Playing Into the Hands of Putin and Xi</th>\n",
       "      <th>W_in</th>\n",
       "      <th>8</th>\n",
       "      <th>1961</th>\n",
       "      <td>1.133584</td>\n",
       "    </tr>\n",
       "    <tr>\n",
       "      <th>The quick brown fox jumps over the lazy dog.</th>\n",
       "      <th>W_in</th>\n",
       "      <th>8</th>\n",
       "      <th>1961</th>\n",
       "      <td>1.128265</td>\n",
       "    </tr>\n",
       "    <tr>\n",
       "      <th>AGI ruin mostly rests on strong claims about alignment and deployment, not about society</th>\n",
       "      <th>W_in</th>\n",
       "      <th>8</th>\n",
       "      <th>1961</th>\n",
       "      <td>1.037483</td>\n",
       "    </tr>\n",
       "    <tr>\n",
       "      <th>Hillary Clinton: Republicans Are Playing Into the Hands of Putin and Xi</th>\n",
       "      <th>W_in</th>\n",
       "      <th>4</th>\n",
       "      <th>1406</th>\n",
       "      <td>0.926769</td>\n",
       "    </tr>\n",
       "    <tr>\n",
       "      <th>One apple plus one apple equals two apples.</th>\n",
       "      <th>W_in</th>\n",
       "      <th>8</th>\n",
       "      <th>1961</th>\n",
       "      <td>0.921822</td>\n",
       "    </tr>\n",
       "    <tr>\n",
       "      <th>The Brain is Not Close to Thermodynamic Limits on Computation</th>\n",
       "      <th>W_in</th>\n",
       "      <th>8</th>\n",
       "      <th>1961</th>\n",
       "      <td>0.685662</td>\n",
       "    </tr>\n",
       "    <tr>\n",
       "      <th>Sir, in my heart there was a kind of fighting That would not let me sleep.</th>\n",
       "      <th>W_in</th>\n",
       "      <th>8</th>\n",
       "      <th>1961</th>\n",
       "      <td>0.619164</td>\n",
       "    </tr>\n",
       "    <tr>\n",
       "      <th>Ox is a word that, for many of us, is both familiar and strange.</th>\n",
       "      <th>W_in</th>\n",
       "      <th>8</th>\n",
       "      <th>1961</th>\n",
       "      <td>0.598775</td>\n",
       "    </tr>\n",
       "    <tr>\n",
       "      <th>Google Authenticator is adding a long-standing customer request</th>\n",
       "      <th>W_in</th>\n",
       "      <th>4</th>\n",
       "      <th>1406</th>\n",
       "      <td>0.579521</td>\n",
       "    </tr>\n",
       "  </tbody>\n",
       "</table>\n",
       "</div>"
      ],
      "text/plain": [
       "                                                                        Magnitude\n",
       "Input                                              Matrix Layer Neuron           \n",
       "Google Authenticator is adding a long-standing ... W_in   8     1961     1.170218\n",
       "Hillary Clinton: Republicans Are Playing Into t... W_in   8     1961     1.133584\n",
       "The quick brown fox jumps over the lazy dog.       W_in   8     1961     1.128265\n",
       "AGI ruin mostly rests on strong claims about al... W_in   8     1961     1.037483\n",
       "Hillary Clinton: Republicans Are Playing Into t... W_in   4     1406     0.926769\n",
       "One apple plus one apple equals two apples.        W_in   8     1961     0.921822\n",
       "The Brain is Not Close to Thermodynamic Limits ... W_in   8     1961     0.685662\n",
       "Sir, in my heart there was a kind of fighting T... W_in   8     1961     0.619164\n",
       "Ox is a word that, for many of us, is both fami... W_in   8     1961     0.598775\n",
       "Google Authenticator is adding a long-standing ... W_in   4     1406     0.579521"
      ]
     },
     "execution_count": 40,
     "metadata": {},
     "output_type": "execute_result"
    }
   ],
   "source": [
    "\n",
    "pd.concat([verification_neuron_df.loc[idx[neuron_slice], :] for neuron_slice in capital_neurons()]) \\\n",
    "    .sort_values(by=\"Magnitude\", ascending=False).head(10)"
   ]
  },
  {
   "cell_type": "code",
   "execution_count": 45,
   "id": "8415f44c",
   "metadata": {},
   "outputs": [
    {
     "data": {
      "application/vnd.plotly.v1+json": {
       "config": {
        "plotlyServerURL": "https://plot.ly"
       },
       "data": [
        {
         "alignmentgroup": "True",
         "bingroup": "x",
         "hovertemplate": "variable=0<br>value=%{x}<br>count=%{y}<extra></extra>",
         "legendgroup": "0",
         "marker": {
          "color": "#636efa",
          "pattern": {
           "shape": ""
          }
         },
         "name": "0",
         "offsetgroup": "0",
         "orientation": "v",
         "showlegend": true,
         "type": "histogram",
         "x": [
          0.08514785766601562,
          0.03025146573781967,
          0.5795212984085083,
          0.08906764537096024,
          0.9267693758010864,
          0.0292847640812397,
          0.03164897486567497,
          0.010974200442433357,
          0.16333603858947754,
          0.02766747958958149,
          0.17768113315105438,
          0.027616344392299652,
          0.4481067955493927,
          0.027497533708810806,
          0.3304820656776428,
          0.03280168026685715,
          0.10224273055791855,
          0.02392468973994255,
          0.01485274825245142,
          0.01441754400730133,
          0.026252033188939095,
          0.015985464677214622,
          0.5987750887870789,
          0.048195503652095795,
          1.1702181100845337,
          0.02948129177093506,
          1.1335840225219727,
          0.042836494743824005,
          0.3057081997394562,
          0.026028908789157867,
          0.6856622099876404,
          0.032412976026535034,
          1.0374834537506104,
          0.028539719060063362,
          0.9218218326568604,
          0.04729749262332916,
          0.5138272047042847,
          0.05540355667471886,
          1.1282650232315063,
          0.03710182011127472,
          0.6191642880439758,
          0.020916089415550232,
          0.3670898377895355,
          0.010055757127702236,
          0.10011467337608337,
          0.020372331142425537,
          0.1343367099761963,
          0.013797229155898094,
          0.015715721994638443,
          0.006354517303407192,
          0.015535474754869938,
          0.00749967060983181,
          0.030832290649414062,
          0.010114711709320545,
          0.04902740940451622,
          0.010069647803902626,
          0.06950239092111588,
          0.01705978438258171,
          0.057188622653484344,
          0.0160346832126379,
          0.05804471671581268,
          0.014678820967674255,
          0.033260148018598557,
          0.007704927586019039,
          0.02235415019094944,
          0.008251264691352844
         ],
         "xaxis": "x",
         "yaxis": "y"
        }
       ],
       "layout": {
        "barmode": "relative",
        "legend": {
         "title": {
          "text": "variable"
         },
         "tracegroupgap": 0
        },
        "template": {
         "data": {
          "bar": [
           {
            "error_x": {
             "color": "#2a3f5f"
            },
            "error_y": {
             "color": "#2a3f5f"
            },
            "marker": {
             "line": {
              "color": "#E5ECF6",
              "width": 0.5
             },
             "pattern": {
              "fillmode": "overlay",
              "size": 10,
              "solidity": 0.2
             }
            },
            "type": "bar"
           }
          ],
          "barpolar": [
           {
            "marker": {
             "line": {
              "color": "#E5ECF6",
              "width": 0.5
             },
             "pattern": {
              "fillmode": "overlay",
              "size": 10,
              "solidity": 0.2
             }
            },
            "type": "barpolar"
           }
          ],
          "carpet": [
           {
            "aaxis": {
             "endlinecolor": "#2a3f5f",
             "gridcolor": "white",
             "linecolor": "white",
             "minorgridcolor": "white",
             "startlinecolor": "#2a3f5f"
            },
            "baxis": {
             "endlinecolor": "#2a3f5f",
             "gridcolor": "white",
             "linecolor": "white",
             "minorgridcolor": "white",
             "startlinecolor": "#2a3f5f"
            },
            "type": "carpet"
           }
          ],
          "choropleth": [
           {
            "colorbar": {
             "outlinewidth": 0,
             "ticks": ""
            },
            "type": "choropleth"
           }
          ],
          "contour": [
           {
            "colorbar": {
             "outlinewidth": 0,
             "ticks": ""
            },
            "colorscale": [
             [
              0,
              "#0d0887"
             ],
             [
              0.1111111111111111,
              "#46039f"
             ],
             [
              0.2222222222222222,
              "#7201a8"
             ],
             [
              0.3333333333333333,
              "#9c179e"
             ],
             [
              0.4444444444444444,
              "#bd3786"
             ],
             [
              0.5555555555555556,
              "#d8576b"
             ],
             [
              0.6666666666666666,
              "#ed7953"
             ],
             [
              0.7777777777777778,
              "#fb9f3a"
             ],
             [
              0.8888888888888888,
              "#fdca26"
             ],
             [
              1,
              "#f0f921"
             ]
            ],
            "type": "contour"
           }
          ],
          "contourcarpet": [
           {
            "colorbar": {
             "outlinewidth": 0,
             "ticks": ""
            },
            "type": "contourcarpet"
           }
          ],
          "heatmap": [
           {
            "colorbar": {
             "outlinewidth": 0,
             "ticks": ""
            },
            "colorscale": [
             [
              0,
              "#0d0887"
             ],
             [
              0.1111111111111111,
              "#46039f"
             ],
             [
              0.2222222222222222,
              "#7201a8"
             ],
             [
              0.3333333333333333,
              "#9c179e"
             ],
             [
              0.4444444444444444,
              "#bd3786"
             ],
             [
              0.5555555555555556,
              "#d8576b"
             ],
             [
              0.6666666666666666,
              "#ed7953"
             ],
             [
              0.7777777777777778,
              "#fb9f3a"
             ],
             [
              0.8888888888888888,
              "#fdca26"
             ],
             [
              1,
              "#f0f921"
             ]
            ],
            "type": "heatmap"
           }
          ],
          "heatmapgl": [
           {
            "colorbar": {
             "outlinewidth": 0,
             "ticks": ""
            },
            "colorscale": [
             [
              0,
              "#0d0887"
             ],
             [
              0.1111111111111111,
              "#46039f"
             ],
             [
              0.2222222222222222,
              "#7201a8"
             ],
             [
              0.3333333333333333,
              "#9c179e"
             ],
             [
              0.4444444444444444,
              "#bd3786"
             ],
             [
              0.5555555555555556,
              "#d8576b"
             ],
             [
              0.6666666666666666,
              "#ed7953"
             ],
             [
              0.7777777777777778,
              "#fb9f3a"
             ],
             [
              0.8888888888888888,
              "#fdca26"
             ],
             [
              1,
              "#f0f921"
             ]
            ],
            "type": "heatmapgl"
           }
          ],
          "histogram": [
           {
            "marker": {
             "pattern": {
              "fillmode": "overlay",
              "size": 10,
              "solidity": 0.2
             }
            },
            "type": "histogram"
           }
          ],
          "histogram2d": [
           {
            "colorbar": {
             "outlinewidth": 0,
             "ticks": ""
            },
            "colorscale": [
             [
              0,
              "#0d0887"
             ],
             [
              0.1111111111111111,
              "#46039f"
             ],
             [
              0.2222222222222222,
              "#7201a8"
             ],
             [
              0.3333333333333333,
              "#9c179e"
             ],
             [
              0.4444444444444444,
              "#bd3786"
             ],
             [
              0.5555555555555556,
              "#d8576b"
             ],
             [
              0.6666666666666666,
              "#ed7953"
             ],
             [
              0.7777777777777778,
              "#fb9f3a"
             ],
             [
              0.8888888888888888,
              "#fdca26"
             ],
             [
              1,
              "#f0f921"
             ]
            ],
            "type": "histogram2d"
           }
          ],
          "histogram2dcontour": [
           {
            "colorbar": {
             "outlinewidth": 0,
             "ticks": ""
            },
            "colorscale": [
             [
              0,
              "#0d0887"
             ],
             [
              0.1111111111111111,
              "#46039f"
             ],
             [
              0.2222222222222222,
              "#7201a8"
             ],
             [
              0.3333333333333333,
              "#9c179e"
             ],
             [
              0.4444444444444444,
              "#bd3786"
             ],
             [
              0.5555555555555556,
              "#d8576b"
             ],
             [
              0.6666666666666666,
              "#ed7953"
             ],
             [
              0.7777777777777778,
              "#fb9f3a"
             ],
             [
              0.8888888888888888,
              "#fdca26"
             ],
             [
              1,
              "#f0f921"
             ]
            ],
            "type": "histogram2dcontour"
           }
          ],
          "mesh3d": [
           {
            "colorbar": {
             "outlinewidth": 0,
             "ticks": ""
            },
            "type": "mesh3d"
           }
          ],
          "parcoords": [
           {
            "line": {
             "colorbar": {
              "outlinewidth": 0,
              "ticks": ""
             }
            },
            "type": "parcoords"
           }
          ],
          "pie": [
           {
            "automargin": true,
            "type": "pie"
           }
          ],
          "scatter": [
           {
            "fillpattern": {
             "fillmode": "overlay",
             "size": 10,
             "solidity": 0.2
            },
            "type": "scatter"
           }
          ],
          "scatter3d": [
           {
            "line": {
             "colorbar": {
              "outlinewidth": 0,
              "ticks": ""
             }
            },
            "marker": {
             "colorbar": {
              "outlinewidth": 0,
              "ticks": ""
             }
            },
            "type": "scatter3d"
           }
          ],
          "scattercarpet": [
           {
            "marker": {
             "colorbar": {
              "outlinewidth": 0,
              "ticks": ""
             }
            },
            "type": "scattercarpet"
           }
          ],
          "scattergeo": [
           {
            "marker": {
             "colorbar": {
              "outlinewidth": 0,
              "ticks": ""
             }
            },
            "type": "scattergeo"
           }
          ],
          "scattergl": [
           {
            "marker": {
             "colorbar": {
              "outlinewidth": 0,
              "ticks": ""
             }
            },
            "type": "scattergl"
           }
          ],
          "scattermapbox": [
           {
            "marker": {
             "colorbar": {
              "outlinewidth": 0,
              "ticks": ""
             }
            },
            "type": "scattermapbox"
           }
          ],
          "scatterpolar": [
           {
            "marker": {
             "colorbar": {
              "outlinewidth": 0,
              "ticks": ""
             }
            },
            "type": "scatterpolar"
           }
          ],
          "scatterpolargl": [
           {
            "marker": {
             "colorbar": {
              "outlinewidth": 0,
              "ticks": ""
             }
            },
            "type": "scatterpolargl"
           }
          ],
          "scatterternary": [
           {
            "marker": {
             "colorbar": {
              "outlinewidth": 0,
              "ticks": ""
             }
            },
            "type": "scatterternary"
           }
          ],
          "surface": [
           {
            "colorbar": {
             "outlinewidth": 0,
             "ticks": ""
            },
            "colorscale": [
             [
              0,
              "#0d0887"
             ],
             [
              0.1111111111111111,
              "#46039f"
             ],
             [
              0.2222222222222222,
              "#7201a8"
             ],
             [
              0.3333333333333333,
              "#9c179e"
             ],
             [
              0.4444444444444444,
              "#bd3786"
             ],
             [
              0.5555555555555556,
              "#d8576b"
             ],
             [
              0.6666666666666666,
              "#ed7953"
             ],
             [
              0.7777777777777778,
              "#fb9f3a"
             ],
             [
              0.8888888888888888,
              "#fdca26"
             ],
             [
              1,
              "#f0f921"
             ]
            ],
            "type": "surface"
           }
          ],
          "table": [
           {
            "cells": {
             "fill": {
              "color": "#EBF0F8"
             },
             "line": {
              "color": "white"
             }
            },
            "header": {
             "fill": {
              "color": "#C8D4E3"
             },
             "line": {
              "color": "white"
             }
            },
            "type": "table"
           }
          ]
         },
         "layout": {
          "annotationdefaults": {
           "arrowcolor": "#2a3f5f",
           "arrowhead": 0,
           "arrowwidth": 1
          },
          "autotypenumbers": "strict",
          "coloraxis": {
           "colorbar": {
            "outlinewidth": 0,
            "ticks": ""
           }
          },
          "colorscale": {
           "diverging": [
            [
             0,
             "#8e0152"
            ],
            [
             0.1,
             "#c51b7d"
            ],
            [
             0.2,
             "#de77ae"
            ],
            [
             0.3,
             "#f1b6da"
            ],
            [
             0.4,
             "#fde0ef"
            ],
            [
             0.5,
             "#f7f7f7"
            ],
            [
             0.6,
             "#e6f5d0"
            ],
            [
             0.7,
             "#b8e186"
            ],
            [
             0.8,
             "#7fbc41"
            ],
            [
             0.9,
             "#4d9221"
            ],
            [
             1,
             "#276419"
            ]
           ],
           "sequential": [
            [
             0,
             "#0d0887"
            ],
            [
             0.1111111111111111,
             "#46039f"
            ],
            [
             0.2222222222222222,
             "#7201a8"
            ],
            [
             0.3333333333333333,
             "#9c179e"
            ],
            [
             0.4444444444444444,
             "#bd3786"
            ],
            [
             0.5555555555555556,
             "#d8576b"
            ],
            [
             0.6666666666666666,
             "#ed7953"
            ],
            [
             0.7777777777777778,
             "#fb9f3a"
            ],
            [
             0.8888888888888888,
             "#fdca26"
            ],
            [
             1,
             "#f0f921"
            ]
           ],
           "sequentialminus": [
            [
             0,
             "#0d0887"
            ],
            [
             0.1111111111111111,
             "#46039f"
            ],
            [
             0.2222222222222222,
             "#7201a8"
            ],
            [
             0.3333333333333333,
             "#9c179e"
            ],
            [
             0.4444444444444444,
             "#bd3786"
            ],
            [
             0.5555555555555556,
             "#d8576b"
            ],
            [
             0.6666666666666666,
             "#ed7953"
            ],
            [
             0.7777777777777778,
             "#fb9f3a"
            ],
            [
             0.8888888888888888,
             "#fdca26"
            ],
            [
             1,
             "#f0f921"
            ]
           ]
          },
          "colorway": [
           "#636efa",
           "#EF553B",
           "#00cc96",
           "#ab63fa",
           "#FFA15A",
           "#19d3f3",
           "#FF6692",
           "#B6E880",
           "#FF97FF",
           "#FECB52"
          ],
          "font": {
           "color": "#2a3f5f"
          },
          "geo": {
           "bgcolor": "white",
           "lakecolor": "white",
           "landcolor": "#E5ECF6",
           "showlakes": true,
           "showland": true,
           "subunitcolor": "white"
          },
          "hoverlabel": {
           "align": "left"
          },
          "hovermode": "closest",
          "mapbox": {
           "style": "light"
          },
          "paper_bgcolor": "white",
          "plot_bgcolor": "#E5ECF6",
          "polar": {
           "angularaxis": {
            "gridcolor": "white",
            "linecolor": "white",
            "ticks": ""
           },
           "bgcolor": "#E5ECF6",
           "radialaxis": {
            "gridcolor": "white",
            "linecolor": "white",
            "ticks": ""
           }
          },
          "scene": {
           "xaxis": {
            "backgroundcolor": "#E5ECF6",
            "gridcolor": "white",
            "gridwidth": 2,
            "linecolor": "white",
            "showbackground": true,
            "ticks": "",
            "zerolinecolor": "white"
           },
           "yaxis": {
            "backgroundcolor": "#E5ECF6",
            "gridcolor": "white",
            "gridwidth": 2,
            "linecolor": "white",
            "showbackground": true,
            "ticks": "",
            "zerolinecolor": "white"
           },
           "zaxis": {
            "backgroundcolor": "#E5ECF6",
            "gridcolor": "white",
            "gridwidth": 2,
            "linecolor": "white",
            "showbackground": true,
            "ticks": "",
            "zerolinecolor": "white"
           }
          },
          "shapedefaults": {
           "line": {
            "color": "#2a3f5f"
           }
          },
          "ternary": {
           "aaxis": {
            "gridcolor": "white",
            "linecolor": "white",
            "ticks": ""
           },
           "baxis": {
            "gridcolor": "white",
            "linecolor": "white",
            "ticks": ""
           },
           "bgcolor": "#E5ECF6",
           "caxis": {
            "gridcolor": "white",
            "linecolor": "white",
            "ticks": ""
           }
          },
          "title": {
           "x": 0.05
          },
          "xaxis": {
           "automargin": true,
           "gridcolor": "white",
           "linecolor": "white",
           "ticks": "",
           "title": {
            "standoff": 15
           },
           "zerolinecolor": "white",
           "zerolinewidth": 2
          },
          "yaxis": {
           "automargin": true,
           "gridcolor": "white",
           "linecolor": "white",
           "ticks": "",
           "title": {
            "standoff": 15
           },
           "zerolinecolor": "white",
           "zerolinewidth": 2
          }
         }
        },
        "title": {
         "text": "Distribution of gradient magnitudes for capital neurons in the verification dataset (unrelated to capitals)"
        },
        "xaxis": {
         "anchor": "y",
         "domain": [
          0,
          1
         ],
         "title": {
          "text": "value"
         }
        },
        "yaxis": {
         "anchor": "x",
         "domain": [
          0,
          1
         ],
         "title": {
          "text": "count"
         }
        }
       }
      }
     },
     "metadata": {},
     "output_type": "display_data"
    }
   ],
   "source": [
    "px.histogram(\n",
    "    pd.concat([verification_neuron_df.loc[idx[neuron_slice], :] for neuron_slice in capital_neurons()]).values,\n",
    "    title=\"Distribution of gradient magnitudes for capital neurons in the verification dataset (unrelated to capitals)\"\n",
    ")"
   ]
  },
  {
   "attachments": {},
   "cell_type": "markdown",
   "id": "2f0318ac",
   "metadata": {},
   "source": [
    "## TODO\n",
    "\n",
    "* Automate finding which neurons update for some sentences but not others, use this to find neurons which care about other cities or other concepts.\n",
    "* Look at residual stream updates for other inputs"
   ]
  }
 ],
 "metadata": {
  "kernelspec": {
   "display_name": "Python 3 (ipykernel)",
   "language": "python",
   "name": "python3"
  },
  "language_info": {
   "codemirror_mode": {
    "name": "ipython",
    "version": 3
   },
   "file_extension": ".py",
   "mimetype": "text/x-python",
   "name": "python",
   "nbconvert_exporter": "python",
   "pygments_lexer": "ipython3",
   "version": "3.11.3"
  }
 },
 "nbformat": 4,
 "nbformat_minor": 5
}
